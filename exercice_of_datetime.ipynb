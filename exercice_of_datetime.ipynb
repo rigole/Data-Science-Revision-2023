{
 "cells": [
  {
   "cell_type": "markdown",
   "source": [
    "The mian gol of this notebook is to to and test my skills with datetime of a dataset"
   ],
   "metadata": {
    "collapsed": false
   }
  },
  {
   "cell_type": "code",
   "execution_count": 1,
   "metadata": {
    "collapsed": true
   },
   "outputs": [],
   "source": [
    "import pandas as pd"
   ]
  },
  {
   "cell_type": "code",
   "execution_count": 2,
   "outputs": [
    {
     "data": {
      "text/plain": "               id             date     price  bedrooms  bathrooms  \\\n0      7129300520  20141013T000000  221900.0         3       1.00   \n1      6414100192  20141209T000000  538000.0         3       2.25   \n2      5631500400  20150225T000000  180000.0         2       1.00   \n3      2487200875  20141209T000000  604000.0         4       3.00   \n4      1954400510  20150218T000000  510000.0         3       2.00   \n...           ...              ...       ...       ...        ...   \n21608   263000018  20140521T000000  360000.0         3       2.50   \n21609  6600060120  20150223T000000  400000.0         4       2.50   \n21610  1523300141  20140623T000000  402101.0         2       0.75   \n21611   291310100  20150116T000000  400000.0         3       2.50   \n21612  1523300157  20141015T000000  325000.0         2       0.75   \n\n       sqft_living  sqft_lot  floors  waterfront  view  ...  grade  \\\n0             1180      5650     1.0           0     0  ...      7   \n1             2570      7242     2.0           0     0  ...      7   \n2              770     10000     1.0           0     0  ...      6   \n3             1960      5000     1.0           0     0  ...      7   \n4             1680      8080     1.0           0     0  ...      8   \n...            ...       ...     ...         ...   ...  ...    ...   \n21608         1530      1131     3.0           0     0  ...      8   \n21609         2310      5813     2.0           0     0  ...      8   \n21610         1020      1350     2.0           0     0  ...      7   \n21611         1600      2388     2.0           0     0  ...      8   \n21612         1020      1076     2.0           0     0  ...      7   \n\n       sqft_above  sqft_basement  yr_built  yr_renovated  zipcode      lat  \\\n0            1180              0      1955             0    98178  47.5112   \n1            2170            400      1951          1991    98125  47.7210   \n2             770              0      1933             0    98028  47.7379   \n3            1050            910      1965             0    98136  47.5208   \n4            1680              0      1987             0    98074  47.6168   \n...           ...            ...       ...           ...      ...      ...   \n21608        1530              0      2009             0    98103  47.6993   \n21609        2310              0      2014             0    98146  47.5107   \n21610        1020              0      2009             0    98144  47.5944   \n21611        1600              0      2004             0    98027  47.5345   \n21612        1020              0      2008             0    98144  47.5941   \n\n          long  sqft_living15  sqft_lot15  \n0     -122.257           1340        5650  \n1     -122.319           1690        7639  \n2     -122.233           2720        8062  \n3     -122.393           1360        5000  \n4     -122.045           1800        7503  \n...        ...            ...         ...  \n21608 -122.346           1530        1509  \n21609 -122.362           1830        7200  \n21610 -122.299           1020        2007  \n21611 -122.069           1410        1287  \n21612 -122.299           1020        1357  \n\n[21613 rows x 21 columns]",
      "text/html": "<div>\n<style scoped>\n    .dataframe tbody tr th:only-of-type {\n        vertical-align: middle;\n    }\n\n    .dataframe tbody tr th {\n        vertical-align: top;\n    }\n\n    .dataframe thead th {\n        text-align: right;\n    }\n</style>\n<table border=\"1\" class=\"dataframe\">\n  <thead>\n    <tr style=\"text-align: right;\">\n      <th></th>\n      <th>id</th>\n      <th>date</th>\n      <th>price</th>\n      <th>bedrooms</th>\n      <th>bathrooms</th>\n      <th>sqft_living</th>\n      <th>sqft_lot</th>\n      <th>floors</th>\n      <th>waterfront</th>\n      <th>view</th>\n      <th>...</th>\n      <th>grade</th>\n      <th>sqft_above</th>\n      <th>sqft_basement</th>\n      <th>yr_built</th>\n      <th>yr_renovated</th>\n      <th>zipcode</th>\n      <th>lat</th>\n      <th>long</th>\n      <th>sqft_living15</th>\n      <th>sqft_lot15</th>\n    </tr>\n  </thead>\n  <tbody>\n    <tr>\n      <th>0</th>\n      <td>7129300520</td>\n      <td>20141013T000000</td>\n      <td>221900.0</td>\n      <td>3</td>\n      <td>1.00</td>\n      <td>1180</td>\n      <td>5650</td>\n      <td>1.0</td>\n      <td>0</td>\n      <td>0</td>\n      <td>...</td>\n      <td>7</td>\n      <td>1180</td>\n      <td>0</td>\n      <td>1955</td>\n      <td>0</td>\n      <td>98178</td>\n      <td>47.5112</td>\n      <td>-122.257</td>\n      <td>1340</td>\n      <td>5650</td>\n    </tr>\n    <tr>\n      <th>1</th>\n      <td>6414100192</td>\n      <td>20141209T000000</td>\n      <td>538000.0</td>\n      <td>3</td>\n      <td>2.25</td>\n      <td>2570</td>\n      <td>7242</td>\n      <td>2.0</td>\n      <td>0</td>\n      <td>0</td>\n      <td>...</td>\n      <td>7</td>\n      <td>2170</td>\n      <td>400</td>\n      <td>1951</td>\n      <td>1991</td>\n      <td>98125</td>\n      <td>47.7210</td>\n      <td>-122.319</td>\n      <td>1690</td>\n      <td>7639</td>\n    </tr>\n    <tr>\n      <th>2</th>\n      <td>5631500400</td>\n      <td>20150225T000000</td>\n      <td>180000.0</td>\n      <td>2</td>\n      <td>1.00</td>\n      <td>770</td>\n      <td>10000</td>\n      <td>1.0</td>\n      <td>0</td>\n      <td>0</td>\n      <td>...</td>\n      <td>6</td>\n      <td>770</td>\n      <td>0</td>\n      <td>1933</td>\n      <td>0</td>\n      <td>98028</td>\n      <td>47.7379</td>\n      <td>-122.233</td>\n      <td>2720</td>\n      <td>8062</td>\n    </tr>\n    <tr>\n      <th>3</th>\n      <td>2487200875</td>\n      <td>20141209T000000</td>\n      <td>604000.0</td>\n      <td>4</td>\n      <td>3.00</td>\n      <td>1960</td>\n      <td>5000</td>\n      <td>1.0</td>\n      <td>0</td>\n      <td>0</td>\n      <td>...</td>\n      <td>7</td>\n      <td>1050</td>\n      <td>910</td>\n      <td>1965</td>\n      <td>0</td>\n      <td>98136</td>\n      <td>47.5208</td>\n      <td>-122.393</td>\n      <td>1360</td>\n      <td>5000</td>\n    </tr>\n    <tr>\n      <th>4</th>\n      <td>1954400510</td>\n      <td>20150218T000000</td>\n      <td>510000.0</td>\n      <td>3</td>\n      <td>2.00</td>\n      <td>1680</td>\n      <td>8080</td>\n      <td>1.0</td>\n      <td>0</td>\n      <td>0</td>\n      <td>...</td>\n      <td>8</td>\n      <td>1680</td>\n      <td>0</td>\n      <td>1987</td>\n      <td>0</td>\n      <td>98074</td>\n      <td>47.6168</td>\n      <td>-122.045</td>\n      <td>1800</td>\n      <td>7503</td>\n    </tr>\n    <tr>\n      <th>...</th>\n      <td>...</td>\n      <td>...</td>\n      <td>...</td>\n      <td>...</td>\n      <td>...</td>\n      <td>...</td>\n      <td>...</td>\n      <td>...</td>\n      <td>...</td>\n      <td>...</td>\n      <td>...</td>\n      <td>...</td>\n      <td>...</td>\n      <td>...</td>\n      <td>...</td>\n      <td>...</td>\n      <td>...</td>\n      <td>...</td>\n      <td>...</td>\n      <td>...</td>\n      <td>...</td>\n    </tr>\n    <tr>\n      <th>21608</th>\n      <td>263000018</td>\n      <td>20140521T000000</td>\n      <td>360000.0</td>\n      <td>3</td>\n      <td>2.50</td>\n      <td>1530</td>\n      <td>1131</td>\n      <td>3.0</td>\n      <td>0</td>\n      <td>0</td>\n      <td>...</td>\n      <td>8</td>\n      <td>1530</td>\n      <td>0</td>\n      <td>2009</td>\n      <td>0</td>\n      <td>98103</td>\n      <td>47.6993</td>\n      <td>-122.346</td>\n      <td>1530</td>\n      <td>1509</td>\n    </tr>\n    <tr>\n      <th>21609</th>\n      <td>6600060120</td>\n      <td>20150223T000000</td>\n      <td>400000.0</td>\n      <td>4</td>\n      <td>2.50</td>\n      <td>2310</td>\n      <td>5813</td>\n      <td>2.0</td>\n      <td>0</td>\n      <td>0</td>\n      <td>...</td>\n      <td>8</td>\n      <td>2310</td>\n      <td>0</td>\n      <td>2014</td>\n      <td>0</td>\n      <td>98146</td>\n      <td>47.5107</td>\n      <td>-122.362</td>\n      <td>1830</td>\n      <td>7200</td>\n    </tr>\n    <tr>\n      <th>21610</th>\n      <td>1523300141</td>\n      <td>20140623T000000</td>\n      <td>402101.0</td>\n      <td>2</td>\n      <td>0.75</td>\n      <td>1020</td>\n      <td>1350</td>\n      <td>2.0</td>\n      <td>0</td>\n      <td>0</td>\n      <td>...</td>\n      <td>7</td>\n      <td>1020</td>\n      <td>0</td>\n      <td>2009</td>\n      <td>0</td>\n      <td>98144</td>\n      <td>47.5944</td>\n      <td>-122.299</td>\n      <td>1020</td>\n      <td>2007</td>\n    </tr>\n    <tr>\n      <th>21611</th>\n      <td>291310100</td>\n      <td>20150116T000000</td>\n      <td>400000.0</td>\n      <td>3</td>\n      <td>2.50</td>\n      <td>1600</td>\n      <td>2388</td>\n      <td>2.0</td>\n      <td>0</td>\n      <td>0</td>\n      <td>...</td>\n      <td>8</td>\n      <td>1600</td>\n      <td>0</td>\n      <td>2004</td>\n      <td>0</td>\n      <td>98027</td>\n      <td>47.5345</td>\n      <td>-122.069</td>\n      <td>1410</td>\n      <td>1287</td>\n    </tr>\n    <tr>\n      <th>21612</th>\n      <td>1523300157</td>\n      <td>20141015T000000</td>\n      <td>325000.0</td>\n      <td>2</td>\n      <td>0.75</td>\n      <td>1020</td>\n      <td>1076</td>\n      <td>2.0</td>\n      <td>0</td>\n      <td>0</td>\n      <td>...</td>\n      <td>7</td>\n      <td>1020</td>\n      <td>0</td>\n      <td>2008</td>\n      <td>0</td>\n      <td>98144</td>\n      <td>47.5941</td>\n      <td>-122.299</td>\n      <td>1020</td>\n      <td>1357</td>\n    </tr>\n  </tbody>\n</table>\n<p>21613 rows × 21 columns</p>\n</div>"
     },
     "execution_count": 2,
     "metadata": {},
     "output_type": "execute_result"
    }
   ],
   "source": [
    "#import the dataset\n",
    "house_data = pd.read_csv(\"data/kc_house_data.csv\")\n",
    "house_data"
   ],
   "metadata": {
    "collapsed": false
   }
  },
  {
   "cell_type": "code",
   "execution_count": 3,
   "outputs": [
    {
     "data": {
      "text/plain": "0       2014-10-13\n1       2014-12-09\n2       2015-02-25\n3       2014-12-09\n4       2015-02-18\n           ...    \n21608   2014-05-21\n21609   2015-02-23\n21610   2014-06-23\n21611   2015-01-16\n21612   2014-10-15\nName: date, Length: 21613, dtype: datetime64[ns]"
     },
     "execution_count": 3,
     "metadata": {},
     "output_type": "execute_result"
    }
   ],
   "source": [
    "#parse the date\n",
    "pd.to_datetime(house_data[\"date\"])"
   ],
   "metadata": {
    "collapsed": false
   }
  },
  {
   "cell_type": "markdown",
   "source": [],
   "metadata": {
    "collapsed": false
   }
  },
  {
   "cell_type": "code",
   "execution_count": 4,
   "outputs": [],
   "source": [
    "house_data[\"date\"] = pd.to_datetime(house_data[\"date\"])"
   ],
   "metadata": {
    "collapsed": false
   }
  },
  {
   "cell_type": "code",
   "execution_count": 5,
   "outputs": [
    {
     "data": {
      "text/plain": "               id       date     price  bedrooms  bathrooms  sqft_living  \\\n0      7129300520 2014-10-13  221900.0         3       1.00         1180   \n1      6414100192 2014-12-09  538000.0         3       2.25         2570   \n2      5631500400 2015-02-25  180000.0         2       1.00          770   \n3      2487200875 2014-12-09  604000.0         4       3.00         1960   \n4      1954400510 2015-02-18  510000.0         3       2.00         1680   \n...           ...        ...       ...       ...        ...          ...   \n21608   263000018 2014-05-21  360000.0         3       2.50         1530   \n21609  6600060120 2015-02-23  400000.0         4       2.50         2310   \n21610  1523300141 2014-06-23  402101.0         2       0.75         1020   \n21611   291310100 2015-01-16  400000.0         3       2.50         1600   \n21612  1523300157 2014-10-15  325000.0         2       0.75         1020   \n\n       sqft_lot  floors  waterfront  view  ...  grade  sqft_above  \\\n0          5650     1.0           0     0  ...      7        1180   \n1          7242     2.0           0     0  ...      7        2170   \n2         10000     1.0           0     0  ...      6         770   \n3          5000     1.0           0     0  ...      7        1050   \n4          8080     1.0           0     0  ...      8        1680   \n...         ...     ...         ...   ...  ...    ...         ...   \n21608      1131     3.0           0     0  ...      8        1530   \n21609      5813     2.0           0     0  ...      8        2310   \n21610      1350     2.0           0     0  ...      7        1020   \n21611      2388     2.0           0     0  ...      8        1600   \n21612      1076     2.0           0     0  ...      7        1020   \n\n       sqft_basement  yr_built  yr_renovated  zipcode      lat     long  \\\n0                  0      1955             0    98178  47.5112 -122.257   \n1                400      1951          1991    98125  47.7210 -122.319   \n2                  0      1933             0    98028  47.7379 -122.233   \n3                910      1965             0    98136  47.5208 -122.393   \n4                  0      1987             0    98074  47.6168 -122.045   \n...              ...       ...           ...      ...      ...      ...   \n21608              0      2009             0    98103  47.6993 -122.346   \n21609              0      2014             0    98146  47.5107 -122.362   \n21610              0      2009             0    98144  47.5944 -122.299   \n21611              0      2004             0    98027  47.5345 -122.069   \n21612              0      2008             0    98144  47.5941 -122.299   \n\n       sqft_living15  sqft_lot15  \n0               1340        5650  \n1               1690        7639  \n2               2720        8062  \n3               1360        5000  \n4               1800        7503  \n...              ...         ...  \n21608           1530        1509  \n21609           1830        7200  \n21610           1020        2007  \n21611           1410        1287  \n21612           1020        1357  \n\n[21613 rows x 21 columns]",
      "text/html": "<div>\n<style scoped>\n    .dataframe tbody tr th:only-of-type {\n        vertical-align: middle;\n    }\n\n    .dataframe tbody tr th {\n        vertical-align: top;\n    }\n\n    .dataframe thead th {\n        text-align: right;\n    }\n</style>\n<table border=\"1\" class=\"dataframe\">\n  <thead>\n    <tr style=\"text-align: right;\">\n      <th></th>\n      <th>id</th>\n      <th>date</th>\n      <th>price</th>\n      <th>bedrooms</th>\n      <th>bathrooms</th>\n      <th>sqft_living</th>\n      <th>sqft_lot</th>\n      <th>floors</th>\n      <th>waterfront</th>\n      <th>view</th>\n      <th>...</th>\n      <th>grade</th>\n      <th>sqft_above</th>\n      <th>sqft_basement</th>\n      <th>yr_built</th>\n      <th>yr_renovated</th>\n      <th>zipcode</th>\n      <th>lat</th>\n      <th>long</th>\n      <th>sqft_living15</th>\n      <th>sqft_lot15</th>\n    </tr>\n  </thead>\n  <tbody>\n    <tr>\n      <th>0</th>\n      <td>7129300520</td>\n      <td>2014-10-13</td>\n      <td>221900.0</td>\n      <td>3</td>\n      <td>1.00</td>\n      <td>1180</td>\n      <td>5650</td>\n      <td>1.0</td>\n      <td>0</td>\n      <td>0</td>\n      <td>...</td>\n      <td>7</td>\n      <td>1180</td>\n      <td>0</td>\n      <td>1955</td>\n      <td>0</td>\n      <td>98178</td>\n      <td>47.5112</td>\n      <td>-122.257</td>\n      <td>1340</td>\n      <td>5650</td>\n    </tr>\n    <tr>\n      <th>1</th>\n      <td>6414100192</td>\n      <td>2014-12-09</td>\n      <td>538000.0</td>\n      <td>3</td>\n      <td>2.25</td>\n      <td>2570</td>\n      <td>7242</td>\n      <td>2.0</td>\n      <td>0</td>\n      <td>0</td>\n      <td>...</td>\n      <td>7</td>\n      <td>2170</td>\n      <td>400</td>\n      <td>1951</td>\n      <td>1991</td>\n      <td>98125</td>\n      <td>47.7210</td>\n      <td>-122.319</td>\n      <td>1690</td>\n      <td>7639</td>\n    </tr>\n    <tr>\n      <th>2</th>\n      <td>5631500400</td>\n      <td>2015-02-25</td>\n      <td>180000.0</td>\n      <td>2</td>\n      <td>1.00</td>\n      <td>770</td>\n      <td>10000</td>\n      <td>1.0</td>\n      <td>0</td>\n      <td>0</td>\n      <td>...</td>\n      <td>6</td>\n      <td>770</td>\n      <td>0</td>\n      <td>1933</td>\n      <td>0</td>\n      <td>98028</td>\n      <td>47.7379</td>\n      <td>-122.233</td>\n      <td>2720</td>\n      <td>8062</td>\n    </tr>\n    <tr>\n      <th>3</th>\n      <td>2487200875</td>\n      <td>2014-12-09</td>\n      <td>604000.0</td>\n      <td>4</td>\n      <td>3.00</td>\n      <td>1960</td>\n      <td>5000</td>\n      <td>1.0</td>\n      <td>0</td>\n      <td>0</td>\n      <td>...</td>\n      <td>7</td>\n      <td>1050</td>\n      <td>910</td>\n      <td>1965</td>\n      <td>0</td>\n      <td>98136</td>\n      <td>47.5208</td>\n      <td>-122.393</td>\n      <td>1360</td>\n      <td>5000</td>\n    </tr>\n    <tr>\n      <th>4</th>\n      <td>1954400510</td>\n      <td>2015-02-18</td>\n      <td>510000.0</td>\n      <td>3</td>\n      <td>2.00</td>\n      <td>1680</td>\n      <td>8080</td>\n      <td>1.0</td>\n      <td>0</td>\n      <td>0</td>\n      <td>...</td>\n      <td>8</td>\n      <td>1680</td>\n      <td>0</td>\n      <td>1987</td>\n      <td>0</td>\n      <td>98074</td>\n      <td>47.6168</td>\n      <td>-122.045</td>\n      <td>1800</td>\n      <td>7503</td>\n    </tr>\n    <tr>\n      <th>...</th>\n      <td>...</td>\n      <td>...</td>\n      <td>...</td>\n      <td>...</td>\n      <td>...</td>\n      <td>...</td>\n      <td>...</td>\n      <td>...</td>\n      <td>...</td>\n      <td>...</td>\n      <td>...</td>\n      <td>...</td>\n      <td>...</td>\n      <td>...</td>\n      <td>...</td>\n      <td>...</td>\n      <td>...</td>\n      <td>...</td>\n      <td>...</td>\n      <td>...</td>\n      <td>...</td>\n    </tr>\n    <tr>\n      <th>21608</th>\n      <td>263000018</td>\n      <td>2014-05-21</td>\n      <td>360000.0</td>\n      <td>3</td>\n      <td>2.50</td>\n      <td>1530</td>\n      <td>1131</td>\n      <td>3.0</td>\n      <td>0</td>\n      <td>0</td>\n      <td>...</td>\n      <td>8</td>\n      <td>1530</td>\n      <td>0</td>\n      <td>2009</td>\n      <td>0</td>\n      <td>98103</td>\n      <td>47.6993</td>\n      <td>-122.346</td>\n      <td>1530</td>\n      <td>1509</td>\n    </tr>\n    <tr>\n      <th>21609</th>\n      <td>6600060120</td>\n      <td>2015-02-23</td>\n      <td>400000.0</td>\n      <td>4</td>\n      <td>2.50</td>\n      <td>2310</td>\n      <td>5813</td>\n      <td>2.0</td>\n      <td>0</td>\n      <td>0</td>\n      <td>...</td>\n      <td>8</td>\n      <td>2310</td>\n      <td>0</td>\n      <td>2014</td>\n      <td>0</td>\n      <td>98146</td>\n      <td>47.5107</td>\n      <td>-122.362</td>\n      <td>1830</td>\n      <td>7200</td>\n    </tr>\n    <tr>\n      <th>21610</th>\n      <td>1523300141</td>\n      <td>2014-06-23</td>\n      <td>402101.0</td>\n      <td>2</td>\n      <td>0.75</td>\n      <td>1020</td>\n      <td>1350</td>\n      <td>2.0</td>\n      <td>0</td>\n      <td>0</td>\n      <td>...</td>\n      <td>7</td>\n      <td>1020</td>\n      <td>0</td>\n      <td>2009</td>\n      <td>0</td>\n      <td>98144</td>\n      <td>47.5944</td>\n      <td>-122.299</td>\n      <td>1020</td>\n      <td>2007</td>\n    </tr>\n    <tr>\n      <th>21611</th>\n      <td>291310100</td>\n      <td>2015-01-16</td>\n      <td>400000.0</td>\n      <td>3</td>\n      <td>2.50</td>\n      <td>1600</td>\n      <td>2388</td>\n      <td>2.0</td>\n      <td>0</td>\n      <td>0</td>\n      <td>...</td>\n      <td>8</td>\n      <td>1600</td>\n      <td>0</td>\n      <td>2004</td>\n      <td>0</td>\n      <td>98027</td>\n      <td>47.5345</td>\n      <td>-122.069</td>\n      <td>1410</td>\n      <td>1287</td>\n    </tr>\n    <tr>\n      <th>21612</th>\n      <td>1523300157</td>\n      <td>2014-10-15</td>\n      <td>325000.0</td>\n      <td>2</td>\n      <td>0.75</td>\n      <td>1020</td>\n      <td>1076</td>\n      <td>2.0</td>\n      <td>0</td>\n      <td>0</td>\n      <td>...</td>\n      <td>7</td>\n      <td>1020</td>\n      <td>0</td>\n      <td>2008</td>\n      <td>0</td>\n      <td>98144</td>\n      <td>47.5941</td>\n      <td>-122.299</td>\n      <td>1020</td>\n      <td>1357</td>\n    </tr>\n  </tbody>\n</table>\n<p>21613 rows × 21 columns</p>\n</div>"
     },
     "execution_count": 5,
     "metadata": {},
     "output_type": "execute_result"
    }
   ],
   "source": [
    "house_data"
   ],
   "metadata": {
    "collapsed": false
   }
  },
  {
   "cell_type": "code",
   "execution_count": 6,
   "outputs": [
    {
     "data": {
      "text/plain": "390"
     },
     "execution_count": 6,
     "metadata": {},
     "output_type": "execute_result"
    }
   ],
   "source": [
    "#calculate how many days the dataset spans\n",
    "house_data_timespan = house_data[\"date\"].max() - house_data[\"date\"].min()\n",
    "\n",
    "house_data_timespan.days"
   ],
   "metadata": {
    "collapsed": false
   }
  },
  {
   "cell_type": "code",
   "execution_count": 6,
   "outputs": [],
   "source": [],
   "metadata": {
    "collapsed": false
   }
  },
  {
   "cell_type": "code",
   "execution_count": 7,
   "outputs": [
    {
     "data": {
      "text/plain": "2014-06-23    142\n2014-06-26    131\n2014-06-25    131\n2014-07-08    127\n2015-04-27    126\n             ... \n2014-11-02      1\n2015-01-31      1\n2015-05-24      1\n2014-05-17      1\n2014-07-27      1\nName: date, Length: 372, dtype: int64"
     },
     "execution_count": 7,
     "metadata": {},
     "output_type": "execute_result"
    }
   ],
   "source": [
    "#  the date that had the most house sales\n",
    "# option 1\n",
    "house_data[\"date\"].value_counts()"
   ],
   "metadata": {
    "collapsed": false
   }
  },
  {
   "cell_type": "code",
   "execution_count": 8,
   "outputs": [
    {
     "data": {
      "text/plain": "Timestamp('2014-06-23 00:00:00')"
     },
     "execution_count": 8,
     "metadata": {},
     "output_type": "execute_result"
    }
   ],
   "source": [
    "# option 2\n",
    "house_data[\"date\"].mode()[0]"
   ],
   "metadata": {
    "collapsed": false
   }
  },
  {
   "cell_type": "code",
   "execution_count": 9,
   "outputs": [
    {
     "data": {
      "text/plain": "               id       date     price  bedrooms  bathrooms  sqft_living  \\\n117    4060000240 2014-06-23  205425.0         2       1.00          880   \n397    5175800060 2014-06-23  365000.0         4       2.00         1940   \n470    2172000075 2014-06-23  290900.0         2       2.00         1610   \n621    3010300240 2014-06-23  577000.0         3       2.50         2060   \n676    7846700310 2014-06-23  280000.0         2       1.00         1010   \n...           ...        ...       ...       ...        ...          ...   \n21230  3629990280 2014-06-23  497000.0         3       2.25         1630   \n21479  6181500120 2014-06-23  312891.0         5       3.00         2300   \n21529  2487200490 2014-06-23  670000.0         3       2.50         3310   \n21578   567000385 2014-06-23  362500.0         2       1.50          940   \n21610  1523300141 2014-06-23  402101.0         2       0.75         1020   \n\n       sqft_lot  floors  waterfront  view  ...  grade  sqft_above  \\\n117        6780     1.0           0     0  ...      6         880   \n397       25600     1.0           0     0  ...      8        1940   \n470       17600     2.0           0     0  ...      6        1610   \n621        5750     1.0           0     0  ...      7        1330   \n676        3000     1.0           0     0  ...      7        1010   \n...         ...     ...         ...   ...  ...    ...         ...   \n21230      3817     2.0           0     0  ...      7        1630   \n21479      8214     2.0           0     0  ...      8        2300   \n21529      5300     2.0           0     2  ...      8        2440   \n21578      1768     2.0           0     0  ...      7         940   \n21610      1350     2.0           0     0  ...      7        1020   \n\n       sqft_basement  yr_built  yr_renovated  zipcode      lat     long  \\\n117                0      1945             0    98178  47.5009 -122.248   \n397                0      1962             0    98006  47.5722 -122.129   \n470                0      1930          1983    98178  47.4855 -122.266   \n621              730      1976             0    98116  47.5671 -122.391   \n676                0      1925             0    98045  47.4965 -121.785   \n...              ...       ...           ...      ...      ...      ...   \n21230              0      2005             0    98029  47.5485 -121.999   \n21479              0      2013             0    98001  47.3052 -122.276   \n21529            870      2008             0    98136  47.5178 -122.389   \n21578              0      2009             0    98144  47.5925 -122.295   \n21610              0      2009             0    98144  47.5944 -122.299   \n\n       sqft_living15  sqft_lot15  \n117             1190        6780  \n397             2000       10071  \n470             1310       12950  \n621             1920        5750  \n676             1150        7000  \n...              ...         ...  \n21230           1630        3348  \n21479           2594        4950  \n21529           2140        7500  \n21578           1130        1159  \n21610           1020        2007  \n\n[142 rows x 21 columns]",
      "text/html": "<div>\n<style scoped>\n    .dataframe tbody tr th:only-of-type {\n        vertical-align: middle;\n    }\n\n    .dataframe tbody tr th {\n        vertical-align: top;\n    }\n\n    .dataframe thead th {\n        text-align: right;\n    }\n</style>\n<table border=\"1\" class=\"dataframe\">\n  <thead>\n    <tr style=\"text-align: right;\">\n      <th></th>\n      <th>id</th>\n      <th>date</th>\n      <th>price</th>\n      <th>bedrooms</th>\n      <th>bathrooms</th>\n      <th>sqft_living</th>\n      <th>sqft_lot</th>\n      <th>floors</th>\n      <th>waterfront</th>\n      <th>view</th>\n      <th>...</th>\n      <th>grade</th>\n      <th>sqft_above</th>\n      <th>sqft_basement</th>\n      <th>yr_built</th>\n      <th>yr_renovated</th>\n      <th>zipcode</th>\n      <th>lat</th>\n      <th>long</th>\n      <th>sqft_living15</th>\n      <th>sqft_lot15</th>\n    </tr>\n  </thead>\n  <tbody>\n    <tr>\n      <th>117</th>\n      <td>4060000240</td>\n      <td>2014-06-23</td>\n      <td>205425.0</td>\n      <td>2</td>\n      <td>1.00</td>\n      <td>880</td>\n      <td>6780</td>\n      <td>1.0</td>\n      <td>0</td>\n      <td>0</td>\n      <td>...</td>\n      <td>6</td>\n      <td>880</td>\n      <td>0</td>\n      <td>1945</td>\n      <td>0</td>\n      <td>98178</td>\n      <td>47.5009</td>\n      <td>-122.248</td>\n      <td>1190</td>\n      <td>6780</td>\n    </tr>\n    <tr>\n      <th>397</th>\n      <td>5175800060</td>\n      <td>2014-06-23</td>\n      <td>365000.0</td>\n      <td>4</td>\n      <td>2.00</td>\n      <td>1940</td>\n      <td>25600</td>\n      <td>1.0</td>\n      <td>0</td>\n      <td>0</td>\n      <td>...</td>\n      <td>8</td>\n      <td>1940</td>\n      <td>0</td>\n      <td>1962</td>\n      <td>0</td>\n      <td>98006</td>\n      <td>47.5722</td>\n      <td>-122.129</td>\n      <td>2000</td>\n      <td>10071</td>\n    </tr>\n    <tr>\n      <th>470</th>\n      <td>2172000075</td>\n      <td>2014-06-23</td>\n      <td>290900.0</td>\n      <td>2</td>\n      <td>2.00</td>\n      <td>1610</td>\n      <td>17600</td>\n      <td>2.0</td>\n      <td>0</td>\n      <td>0</td>\n      <td>...</td>\n      <td>6</td>\n      <td>1610</td>\n      <td>0</td>\n      <td>1930</td>\n      <td>1983</td>\n      <td>98178</td>\n      <td>47.4855</td>\n      <td>-122.266</td>\n      <td>1310</td>\n      <td>12950</td>\n    </tr>\n    <tr>\n      <th>621</th>\n      <td>3010300240</td>\n      <td>2014-06-23</td>\n      <td>577000.0</td>\n      <td>3</td>\n      <td>2.50</td>\n      <td>2060</td>\n      <td>5750</td>\n      <td>1.0</td>\n      <td>0</td>\n      <td>0</td>\n      <td>...</td>\n      <td>7</td>\n      <td>1330</td>\n      <td>730</td>\n      <td>1976</td>\n      <td>0</td>\n      <td>98116</td>\n      <td>47.5671</td>\n      <td>-122.391</td>\n      <td>1920</td>\n      <td>5750</td>\n    </tr>\n    <tr>\n      <th>676</th>\n      <td>7846700310</td>\n      <td>2014-06-23</td>\n      <td>280000.0</td>\n      <td>2</td>\n      <td>1.00</td>\n      <td>1010</td>\n      <td>3000</td>\n      <td>1.0</td>\n      <td>0</td>\n      <td>0</td>\n      <td>...</td>\n      <td>7</td>\n      <td>1010</td>\n      <td>0</td>\n      <td>1925</td>\n      <td>0</td>\n      <td>98045</td>\n      <td>47.4965</td>\n      <td>-121.785</td>\n      <td>1150</td>\n      <td>7000</td>\n    </tr>\n    <tr>\n      <th>...</th>\n      <td>...</td>\n      <td>...</td>\n      <td>...</td>\n      <td>...</td>\n      <td>...</td>\n      <td>...</td>\n      <td>...</td>\n      <td>...</td>\n      <td>...</td>\n      <td>...</td>\n      <td>...</td>\n      <td>...</td>\n      <td>...</td>\n      <td>...</td>\n      <td>...</td>\n      <td>...</td>\n      <td>...</td>\n      <td>...</td>\n      <td>...</td>\n      <td>...</td>\n      <td>...</td>\n    </tr>\n    <tr>\n      <th>21230</th>\n      <td>3629990280</td>\n      <td>2014-06-23</td>\n      <td>497000.0</td>\n      <td>3</td>\n      <td>2.25</td>\n      <td>1630</td>\n      <td>3817</td>\n      <td>2.0</td>\n      <td>0</td>\n      <td>0</td>\n      <td>...</td>\n      <td>7</td>\n      <td>1630</td>\n      <td>0</td>\n      <td>2005</td>\n      <td>0</td>\n      <td>98029</td>\n      <td>47.5485</td>\n      <td>-121.999</td>\n      <td>1630</td>\n      <td>3348</td>\n    </tr>\n    <tr>\n      <th>21479</th>\n      <td>6181500120</td>\n      <td>2014-06-23</td>\n      <td>312891.0</td>\n      <td>5</td>\n      <td>3.00</td>\n      <td>2300</td>\n      <td>8214</td>\n      <td>2.0</td>\n      <td>0</td>\n      <td>0</td>\n      <td>...</td>\n      <td>8</td>\n      <td>2300</td>\n      <td>0</td>\n      <td>2013</td>\n      <td>0</td>\n      <td>98001</td>\n      <td>47.3052</td>\n      <td>-122.276</td>\n      <td>2594</td>\n      <td>4950</td>\n    </tr>\n    <tr>\n      <th>21529</th>\n      <td>2487200490</td>\n      <td>2014-06-23</td>\n      <td>670000.0</td>\n      <td>3</td>\n      <td>2.50</td>\n      <td>3310</td>\n      <td>5300</td>\n      <td>2.0</td>\n      <td>0</td>\n      <td>2</td>\n      <td>...</td>\n      <td>8</td>\n      <td>2440</td>\n      <td>870</td>\n      <td>2008</td>\n      <td>0</td>\n      <td>98136</td>\n      <td>47.5178</td>\n      <td>-122.389</td>\n      <td>2140</td>\n      <td>7500</td>\n    </tr>\n    <tr>\n      <th>21578</th>\n      <td>567000385</td>\n      <td>2014-06-23</td>\n      <td>362500.0</td>\n      <td>2</td>\n      <td>1.50</td>\n      <td>940</td>\n      <td>1768</td>\n      <td>2.0</td>\n      <td>0</td>\n      <td>0</td>\n      <td>...</td>\n      <td>7</td>\n      <td>940</td>\n      <td>0</td>\n      <td>2009</td>\n      <td>0</td>\n      <td>98144</td>\n      <td>47.5925</td>\n      <td>-122.295</td>\n      <td>1130</td>\n      <td>1159</td>\n    </tr>\n    <tr>\n      <th>21610</th>\n      <td>1523300141</td>\n      <td>2014-06-23</td>\n      <td>402101.0</td>\n      <td>2</td>\n      <td>0.75</td>\n      <td>1020</td>\n      <td>1350</td>\n      <td>2.0</td>\n      <td>0</td>\n      <td>0</td>\n      <td>...</td>\n      <td>7</td>\n      <td>1020</td>\n      <td>0</td>\n      <td>2009</td>\n      <td>0</td>\n      <td>98144</td>\n      <td>47.5944</td>\n      <td>-122.299</td>\n      <td>1020</td>\n      <td>2007</td>\n    </tr>\n  </tbody>\n</table>\n<p>142 rows × 21 columns</p>\n</div>"
     },
     "execution_count": 9,
     "metadata": {},
     "output_type": "execute_result"
    }
   ],
   "source": [
    "#finding all homes sold that day\n",
    "date_mode = house_data[\"date\"].mode()[0]\n",
    "house_data[house_data[\"date\"] == date_mode]"
   ],
   "metadata": {
    "collapsed": false
   }
  },
  {
   "cell_type": "code",
   "execution_count": 9,
   "outputs": [],
   "source": [
    "# Create pie chart showing the years that home sale toook laace in 2024\n"
   ],
   "metadata": {
    "collapsed": false
   }
  },
  {
   "cell_type": "code",
   "execution_count": 13,
   "outputs": [
    {
     "data": {
      "text/plain": "2014    14633\n2015     6980\nName: date, dtype: int64"
     },
     "execution_count": 13,
     "metadata": {},
     "output_type": "execute_result"
    }
   ],
   "source": [
    "house_data[\"date\"].dt.year.value_counts()"
   ],
   "metadata": {
    "collapsed": false
   }
  },
  {
   "cell_type": "code",
   "execution_count": 15,
   "outputs": [
    {
     "data": {
      "text/plain": "<Figure size 432x288 with 1 Axes>",
      "image/png": "[encoded data removed]"
     },
     "metadata": {},
     "output_type": "display_data"
    }
   ],
   "source": [
    "house_data[\"date\"].dt.year.value_counts().plot(kind=\"pie\");"
   ],
   "metadata": {
    "collapsed": false
   }
  },
  {
   "cell_type": "code",
   "execution_count": 18,
   "outputs": [
    {
     "data": {
      "text/plain": "               id       date     price  bedrooms  bathrooms  sqft_living  \\\n11907  3221059036 2014-05-02  400000.0         4       2.50         3630   \n20559  3438501320 2014-05-02  295000.0         2       2.50         1630   \n17038  2326059099 2014-05-02  838000.0         4       2.50         3310   \n15921  7831800460 2014-05-02  235000.0         2       1.00         1210   \n11891  7305300695 2014-05-02  625000.0         4       2.50         2820   \n...           ...        ...       ...       ...        ...          ...   \n1692   7701990700 2014-12-31  825000.0         4       2.50         3210   \n8393   2493200215 2014-12-31  582000.0         3       1.75         1820   \n18462  7345200650 2014-12-31  219200.0         3       2.00         1680   \n9850   8861000060 2014-12-31  875000.0         3       1.00         1160   \n18433  1545801340 2014-12-31  261000.0         3       1.75         1350   \n\n       sqft_lot  floors  waterfront  view  ...  grade  sqft_above  \\\n11907     42884     1.5           0     0  ...      9        2300   \n20559      1368     2.0           0     0  ...      7        1280   \n17038     42998     2.0           0     0  ...      9        3310   \n15921      9400     1.0           0     0  ...      6        1210   \n11891      8408     2.0           0     0  ...      9        2820   \n...         ...     ...         ...   ...  ...    ...         ...   \n1692      18901     2.0           0     0  ...     10        3210   \n8393       3140     2.0           0     0  ...      8        1820   \n18462      7000     1.5           0     0  ...      7        1680   \n9850      10732     1.0           0     0  ...      7        1160   \n18433      7686     1.0           0     0  ...      7        1350   \n\n       sqft_basement  yr_built  yr_renovated  zipcode      lat     long  \\\n11907           1330      1979             0    98092  47.2617 -122.190   \n20559            350      2009             0    98106  47.5489 -122.363   \n17038              0      2001             0    98052  47.7232 -122.131   \n15921              0      1949             0    98106  47.5342 -122.360   \n11891              0      2014             0    98155  47.7538 -122.325   \n...              ...       ...           ...      ...      ...      ...   \n1692               0      1993             0    98077  47.7090 -122.073   \n8393               0      1949          1990    98136  47.5271 -122.384   \n18462              0      1968             0    98002  47.2775 -122.203   \n9850               0      1953             0    98004  47.6391 -122.205   \n18433              0      1987             0    98038  47.3617 -122.052   \n\n       sqft_living15  sqft_lot15  \n11907           2830       80148  \n20559           1590        2306  \n17038           3350       42847  \n15921           1580        6026  \n11891           1300        8408  \n...              ...         ...  \n1692            3330       18901  \n8393            2030        5499  \n18462           1540        7480  \n9850            2390       13656  \n18433           1370        7686  \n\n[14633 rows x 21 columns]",
      "text/html": "<div>\n<style scoped>\n    .dataframe tbody tr th:only-of-type {\n        vertical-align: middle;\n    }\n\n    .dataframe tbody tr th {\n        vertical-align: top;\n    }\n\n    .dataframe thead th {\n        text-align: right;\n    }\n</style>\n<table border=\"1\" class=\"dataframe\">\n  <thead>\n    <tr style=\"text-align: right;\">\n      <th></th>\n      <th>id</th>\n      <th>date</th>\n      <th>price</th>\n      <th>bedrooms</th>\n      <th>bathrooms</th>\n      <th>sqft_living</th>\n      <th>sqft_lot</th>\n      <th>floors</th>\n      <th>waterfront</th>\n      <th>view</th>\n      <th>...</th>\n      <th>grade</th>\n      <th>sqft_above</th>\n      <th>sqft_basement</th>\n      <th>yr_built</th>\n      <th>yr_renovated</th>\n      <th>zipcode</th>\n      <th>lat</th>\n      <th>long</th>\n      <th>sqft_living15</th>\n      <th>sqft_lot15</th>\n    </tr>\n  </thead>\n  <tbody>\n    <tr>\n      <th>11907</th>\n      <td>3221059036</td>\n      <td>2014-05-02</td>\n      <td>400000.0</td>\n      <td>4</td>\n      <td>2.50</td>\n      <td>3630</td>\n      <td>42884</td>\n      <td>1.5</td>\n      <td>0</td>\n      <td>0</td>\n      <td>...</td>\n      <td>9</td>\n      <td>2300</td>\n      <td>1330</td>\n      <td>1979</td>\n      <td>0</td>\n      <td>98092</td>\n      <td>47.2617</td>\n      <td>-122.190</td>\n      <td>2830</td>\n      <td>80148</td>\n    </tr>\n    <tr>\n      <th>20559</th>\n      <td>3438501320</td>\n      <td>2014-05-02</td>\n      <td>295000.0</td>\n      <td>2</td>\n      <td>2.50</td>\n      <td>1630</td>\n      <td>1368</td>\n      <td>2.0</td>\n      <td>0</td>\n      <td>0</td>\n      <td>...</td>\n      <td>7</td>\n      <td>1280</td>\n      <td>350</td>\n      <td>2009</td>\n      <td>0</td>\n      <td>98106</td>\n      <td>47.5489</td>\n      <td>-122.363</td>\n      <td>1590</td>\n      <td>2306</td>\n    </tr>\n    <tr>\n      <th>17038</th>\n      <td>2326059099</td>\n      <td>2014-05-02</td>\n      <td>838000.0</td>\n      <td>4</td>\n      <td>2.50</td>\n      <td>3310</td>\n      <td>42998</td>\n      <td>2.0</td>\n      <td>0</td>\n      <td>0</td>\n      <td>...</td>\n      <td>9</td>\n      <td>3310</td>\n      <td>0</td>\n      <td>2001</td>\n      <td>0</td>\n      <td>98052</td>\n      <td>47.7232</td>\n      <td>-122.131</td>\n      <td>3350</td>\n      <td>42847</td>\n    </tr>\n    <tr>\n      <th>15921</th>\n      <td>7831800460</td>\n      <td>2014-05-02</td>\n      <td>235000.0</td>\n      <td>2</td>\n      <td>1.00</td>\n      <td>1210</td>\n      <td>9400</td>\n      <td>1.0</td>\n      <td>0</td>\n      <td>0</td>\n      <td>...</td>\n      <td>6</td>\n      <td>1210</td>\n      <td>0</td>\n      <td>1949</td>\n      <td>0</td>\n      <td>98106</td>\n      <td>47.5342</td>\n      <td>-122.360</td>\n      <td>1580</td>\n      <td>6026</td>\n    </tr>\n    <tr>\n      <th>11891</th>\n      <td>7305300695</td>\n      <td>2014-05-02</td>\n      <td>625000.0</td>\n      <td>4</td>\n      <td>2.50</td>\n      <td>2820</td>\n      <td>8408</td>\n      <td>2.0</td>\n      <td>0</td>\n      <td>0</td>\n      <td>...</td>\n      <td>9</td>\n      <td>2820</td>\n      <td>0</td>\n      <td>2014</td>\n      <td>0</td>\n      <td>98155</td>\n      <td>47.7538</td>\n      <td>-122.325</td>\n      <td>1300</td>\n      <td>8408</td>\n    </tr>\n    <tr>\n      <th>...</th>\n      <td>...</td>\n      <td>...</td>\n      <td>...</td>\n      <td>...</td>\n      <td>...</td>\n      <td>...</td>\n      <td>...</td>\n      <td>...</td>\n      <td>...</td>\n      <td>...</td>\n      <td>...</td>\n      <td>...</td>\n      <td>...</td>\n      <td>...</td>\n      <td>...</td>\n      <td>...</td>\n      <td>...</td>\n      <td>...</td>\n      <td>...</td>\n      <td>...</td>\n      <td>...</td>\n    </tr>\n    <tr>\n      <th>1692</th>\n      <td>7701990700</td>\n      <td>2014-12-31</td>\n      <td>825000.0</td>\n      <td>4</td>\n      <td>2.50</td>\n      <td>3210</td>\n      <td>18901</td>\n      <td>2.0</td>\n      <td>0</td>\n      <td>0</td>\n      <td>...</td>\n      <td>10</td>\n      <td>3210</td>\n      <td>0</td>\n      <td>1993</td>\n      <td>0</td>\n      <td>98077</td>\n      <td>47.7090</td>\n      <td>-122.073</td>\n      <td>3330</td>\n      <td>18901</td>\n    </tr>\n    <tr>\n      <th>8393</th>\n      <td>2493200215</td>\n      <td>2014-12-31</td>\n      <td>582000.0</td>\n      <td>3</td>\n      <td>1.75</td>\n      <td>1820</td>\n      <td>3140</td>\n      <td>2.0</td>\n      <td>0</td>\n      <td>0</td>\n      <td>...</td>\n      <td>8</td>\n      <td>1820</td>\n      <td>0</td>\n      <td>1949</td>\n      <td>1990</td>\n      <td>98136</td>\n      <td>47.5271</td>\n      <td>-122.384</td>\n      <td>2030</td>\n      <td>5499</td>\n    </tr>\n    <tr>\n      <th>18462</th>\n      <td>7345200650</td>\n      <td>2014-12-31</td>\n      <td>219200.0</td>\n      <td>3</td>\n      <td>2.00</td>\n      <td>1680</td>\n      <td>7000</td>\n      <td>1.5</td>\n      <td>0</td>\n      <td>0</td>\n      <td>...</td>\n      <td>7</td>\n      <td>1680</td>\n      <td>0</td>\n      <td>1968</td>\n      <td>0</td>\n      <td>98002</td>\n      <td>47.2775</td>\n      <td>-122.203</td>\n      <td>1540</td>\n      <td>7480</td>\n    </tr>\n    <tr>\n      <th>9850</th>\n      <td>8861000060</td>\n      <td>2014-12-31</td>\n      <td>875000.0</td>\n      <td>3</td>\n      <td>1.00</td>\n      <td>1160</td>\n      <td>10732</td>\n      <td>1.0</td>\n      <td>0</td>\n      <td>0</td>\n      <td>...</td>\n      <td>7</td>\n      <td>1160</td>\n      <td>0</td>\n      <td>1953</td>\n      <td>0</td>\n      <td>98004</td>\n      <td>47.6391</td>\n      <td>-122.205</td>\n      <td>2390</td>\n      <td>13656</td>\n    </tr>\n    <tr>\n      <th>18433</th>\n      <td>1545801340</td>\n      <td>2014-12-31</td>\n      <td>261000.0</td>\n      <td>3</td>\n      <td>1.75</td>\n      <td>1350</td>\n      <td>7686</td>\n      <td>1.0</td>\n      <td>0</td>\n      <td>0</td>\n      <td>...</td>\n      <td>7</td>\n      <td>1350</td>\n      <td>0</td>\n      <td>1987</td>\n      <td>0</td>\n      <td>98038</td>\n      <td>47.3617</td>\n      <td>-122.052</td>\n      <td>1370</td>\n      <td>7686</td>\n    </tr>\n  </tbody>\n</table>\n<p>14633 rows × 21 columns</p>\n</div>"
     },
     "execution_count": 18,
     "metadata": {},
     "output_type": "execute_result"
    }
   ],
   "source": [
    "# Find all the homes sold in 2014 and sort them from the earliest to the latest\n",
    "house_data[house_data[\"date\"].dt.year == 2014].sort_values(\"date\")"
   ],
   "metadata": {
    "collapsed": false
   }
  },
  {
   "cell_type": "code",
   "execution_count": 19,
   "outputs": [
    {
     "data": {
      "text/plain": "0        10\n1        12\n2         2\n3        12\n4         2\n         ..\n21608     5\n21609     2\n21610     6\n21611     1\n21612    10\nName: date, Length: 21613, dtype: int64"
     },
     "execution_count": 19,
     "metadata": {},
     "output_type": "execute_result"
    }
   ],
   "source": [
    "# Count up the number of sales that took place in each month of the year and tell wich month has the most sale\n",
    "house_data[\"date\"].dt.month"
   ],
   "metadata": {
    "collapsed": false
   }
  },
  {
   "cell_type": "code",
   "execution_count": 20,
   "outputs": [
    {
     "data": {
      "text/plain": "5     2414\n4     2231\n7     2211\n6     2180\n8     1940\n10    1878\n3     1875\n9     1774\n12    1471\n11    1411\n2     1250\n1      978\nName: date, dtype: int64"
     },
     "execution_count": 20,
     "metadata": {},
     "output_type": "execute_result"
    }
   ],
   "source": [
    "house_data[\"date\"].dt.month.value_counts()"
   ],
   "metadata": {
    "collapsed": false
   }
  },
  {
   "cell_type": "code",
   "execution_count": 21,
   "outputs": [
    {
     "data": {
      "text/plain": "0        True\n1        True\n2        True\n3        True\n4        True\n         ... \n21608    True\n21609    True\n21610    True\n21611    True\n21612    True\nName: date, Length: 21613, dtype: bool"
     },
     "execution_count": 21,
     "metadata": {},
     "output_type": "execute_result"
    }
   ],
   "source": [
    "# Find the homes sold between may 1st 2014 and May 1st 2015\n",
    "# Create plot showing the total number of sales per moth in that per year\n",
    "# the x axis should be in calendar order(1-12)\n",
    "\n",
    "house_data[\"date\"].between(\"2014-05-01\", \"2015-05-01\")"
   ],
   "metadata": {
    "collapsed": false
   }
  },
  {
   "cell_type": "code",
   "execution_count": 22,
   "outputs": [
    {
     "data": {
      "text/plain": "               id       date     price  bedrooms  bathrooms  sqft_living  \\\n0      7129300520 2014-10-13  221900.0         3       1.00         1180   \n1      6414100192 2014-12-09  538000.0         3       2.25         2570   \n2      5631500400 2015-02-25  180000.0         2       1.00          770   \n3      2487200875 2014-12-09  604000.0         4       3.00         1960   \n4      1954400510 2015-02-18  510000.0         3       2.00         1680   \n...           ...        ...       ...       ...        ...          ...   \n21608   263000018 2014-05-21  360000.0         3       2.50         1530   \n21609  6600060120 2015-02-23  400000.0         4       2.50         2310   \n21610  1523300141 2014-06-23  402101.0         2       0.75         1020   \n21611   291310100 2015-01-16  400000.0         3       2.50         1600   \n21612  1523300157 2014-10-15  325000.0         2       0.75         1020   \n\n       sqft_lot  floors  waterfront  view  ...  grade  sqft_above  \\\n0          5650     1.0           0     0  ...      7        1180   \n1          7242     2.0           0     0  ...      7        2170   \n2         10000     1.0           0     0  ...      6         770   \n3          5000     1.0           0     0  ...      7        1050   \n4          8080     1.0           0     0  ...      8        1680   \n...         ...     ...         ...   ...  ...    ...         ...   \n21608      1131     3.0           0     0  ...      8        1530   \n21609      5813     2.0           0     0  ...      8        2310   \n21610      1350     2.0           0     0  ...      7        1020   \n21611      2388     2.0           0     0  ...      8        1600   \n21612      1076     2.0           0     0  ...      7        1020   \n\n       sqft_basement  yr_built  yr_renovated  zipcode      lat     long  \\\n0                  0      1955             0    98178  47.5112 -122.257   \n1                400      1951          1991    98125  47.7210 -122.319   \n2                  0      1933             0    98028  47.7379 -122.233   \n3                910      1965             0    98136  47.5208 -122.393   \n4                  0      1987             0    98074  47.6168 -122.045   \n...              ...       ...           ...      ...      ...      ...   \n21608              0      2009             0    98103  47.6993 -122.346   \n21609              0      2014             0    98146  47.5107 -122.362   \n21610              0      2009             0    98144  47.5944 -122.299   \n21611              0      2004             0    98027  47.5345 -122.069   \n21612              0      2008             0    98144  47.5941 -122.299   \n\n       sqft_living15  sqft_lot15  \n0               1340        5650  \n1               1690        7639  \n2               2720        8062  \n3               1360        5000  \n4               1800        7503  \n...              ...         ...  \n21608           1530        1509  \n21609           1830        7200  \n21610           1020        2007  \n21611           1410        1287  \n21612           1020        1357  \n\n[21044 rows x 21 columns]",
      "text/html": "<div>\n<style scoped>\n    .dataframe tbody tr th:only-of-type {\n        vertical-align: middle;\n    }\n\n    .dataframe tbody tr th {\n        vertical-align: top;\n    }\n\n    .dataframe thead th {\n        text-align: right;\n    }\n</style>\n<table border=\"1\" class=\"dataframe\">\n  <thead>\n    <tr style=\"text-align: right;\">\n      <th></th>\n      <th>id</th>\n      <th>date</th>\n      <th>price</th>\n      <th>bedrooms</th>\n      <th>bathrooms</th>\n      <th>sqft_living</th>\n      <th>sqft_lot</th>\n      <th>floors</th>\n      <th>waterfront</th>\n      <th>view</th>\n      <th>...</th>\n      <th>grade</th>\n      <th>sqft_above</th>\n      <th>sqft_basement</th>\n      <th>yr_built</th>\n      <th>yr_renovated</th>\n      <th>zipcode</th>\n      <th>lat</th>\n      <th>long</th>\n      <th>sqft_living15</th>\n      <th>sqft_lot15</th>\n    </tr>\n  </thead>\n  <tbody>\n    <tr>\n      <th>0</th>\n      <td>7129300520</td>\n      <td>2014-10-13</td>\n      <td>221900.0</td>\n      <td>3</td>\n      <td>1.00</td>\n      <td>1180</td>\n      <td>5650</td>\n      <td>1.0</td>\n      <td>0</td>\n      <td>0</td>\n      <td>...</td>\n      <td>7</td>\n      <td>1180</td>\n      <td>0</td>\n      <td>1955</td>\n      <td>0</td>\n      <td>98178</td>\n      <td>47.5112</td>\n      <td>-122.257</td>\n      <td>1340</td>\n      <td>5650</td>\n    </tr>\n    <tr>\n      <th>1</th>\n      <td>6414100192</td>\n      <td>2014-12-09</td>\n      <td>538000.0</td>\n      <td>3</td>\n      <td>2.25</td>\n      <td>2570</td>\n      <td>7242</td>\n      <td>2.0</td>\n      <td>0</td>\n      <td>0</td>\n      <td>...</td>\n      <td>7</td>\n      <td>2170</td>\n      <td>400</td>\n      <td>1951</td>\n      <td>1991</td>\n      <td>98125</td>\n      <td>47.7210</td>\n      <td>-122.319</td>\n      <td>1690</td>\n      <td>7639</td>\n    </tr>\n    <tr>\n      <th>2</th>\n      <td>5631500400</td>\n      <td>2015-02-25</td>\n      <td>180000.0</td>\n      <td>2</td>\n      <td>1.00</td>\n      <td>770</td>\n      <td>10000</td>\n      <td>1.0</td>\n      <td>0</td>\n      <td>0</td>\n      <td>...</td>\n      <td>6</td>\n      <td>770</td>\n      <td>0</td>\n      <td>1933</td>\n      <td>0</td>\n      <td>98028</td>\n      <td>47.7379</td>\n      <td>-122.233</td>\n      <td>2720</td>\n      <td>8062</td>\n    </tr>\n    <tr>\n      <th>3</th>\n      <td>2487200875</td>\n      <td>2014-12-09</td>\n      <td>604000.0</td>\n      <td>4</td>\n      <td>3.00</td>\n      <td>1960</td>\n      <td>5000</td>\n      <td>1.0</td>\n      <td>0</td>\n      <td>0</td>\n      <td>...</td>\n      <td>7</td>\n      <td>1050</td>\n      <td>910</td>\n      <td>1965</td>\n      <td>0</td>\n      <td>98136</td>\n      <td>47.5208</td>\n      <td>-122.393</td>\n      <td>1360</td>\n      <td>5000</td>\n    </tr>\n    <tr>\n      <th>4</th>\n      <td>1954400510</td>\n      <td>2015-02-18</td>\n      <td>510000.0</td>\n      <td>3</td>\n      <td>2.00</td>\n      <td>1680</td>\n      <td>8080</td>\n      <td>1.0</td>\n      <td>0</td>\n      <td>0</td>\n      <td>...</td>\n      <td>8</td>\n      <td>1680</td>\n      <td>0</td>\n      <td>1987</td>\n      <td>0</td>\n      <td>98074</td>\n      <td>47.6168</td>\n      <td>-122.045</td>\n      <td>1800</td>\n      <td>7503</td>\n    </tr>\n    <tr>\n      <th>...</th>\n      <td>...</td>\n      <td>...</td>\n      <td>...</td>\n      <td>...</td>\n      <td>...</td>\n      <td>...</td>\n      <td>...</td>\n      <td>...</td>\n      <td>...</td>\n      <td>...</td>\n      <td>...</td>\n      <td>...</td>\n      <td>...</td>\n      <td>...</td>\n      <td>...</td>\n      <td>...</td>\n      <td>...</td>\n      <td>...</td>\n      <td>...</td>\n      <td>...</td>\n      <td>...</td>\n    </tr>\n    <tr>\n      <th>21608</th>\n      <td>263000018</td>\n      <td>2014-05-21</td>\n      <td>360000.0</td>\n      <td>3</td>\n      <td>2.50</td>\n      <td>1530</td>\n      <td>1131</td>\n      <td>3.0</td>\n      <td>0</td>\n      <td>0</td>\n      <td>...</td>\n      <td>8</td>\n      <td>1530</td>\n      <td>0</td>\n      <td>2009</td>\n      <td>0</td>\n      <td>98103</td>\n      <td>47.6993</td>\n      <td>-122.346</td>\n      <td>1530</td>\n      <td>1509</td>\n    </tr>\n    <tr>\n      <th>21609</th>\n      <td>6600060120</td>\n      <td>2015-02-23</td>\n      <td>400000.0</td>\n      <td>4</td>\n      <td>2.50</td>\n      <td>2310</td>\n      <td>5813</td>\n      <td>2.0</td>\n      <td>0</td>\n      <td>0</td>\n      <td>...</td>\n      <td>8</td>\n      <td>2310</td>\n      <td>0</td>\n      <td>2014</td>\n      <td>0</td>\n      <td>98146</td>\n      <td>47.5107</td>\n      <td>-122.362</td>\n      <td>1830</td>\n      <td>7200</td>\n    </tr>\n    <tr>\n      <th>21610</th>\n      <td>1523300141</td>\n      <td>2014-06-23</td>\n      <td>402101.0</td>\n      <td>2</td>\n      <td>0.75</td>\n      <td>1020</td>\n      <td>1350</td>\n      <td>2.0</td>\n      <td>0</td>\n      <td>0</td>\n      <td>...</td>\n      <td>7</td>\n      <td>1020</td>\n      <td>0</td>\n      <td>2009</td>\n      <td>0</td>\n      <td>98144</td>\n      <td>47.5944</td>\n      <td>-122.299</td>\n      <td>1020</td>\n      <td>2007</td>\n    </tr>\n    <tr>\n      <th>21611</th>\n      <td>291310100</td>\n      <td>2015-01-16</td>\n      <td>400000.0</td>\n      <td>3</td>\n      <td>2.50</td>\n      <td>1600</td>\n      <td>2388</td>\n      <td>2.0</td>\n      <td>0</td>\n      <td>0</td>\n      <td>...</td>\n      <td>8</td>\n      <td>1600</td>\n      <td>0</td>\n      <td>2004</td>\n      <td>0</td>\n      <td>98027</td>\n      <td>47.5345</td>\n      <td>-122.069</td>\n      <td>1410</td>\n      <td>1287</td>\n    </tr>\n    <tr>\n      <th>21612</th>\n      <td>1523300157</td>\n      <td>2014-10-15</td>\n      <td>325000.0</td>\n      <td>2</td>\n      <td>0.75</td>\n      <td>1020</td>\n      <td>1076</td>\n      <td>2.0</td>\n      <td>0</td>\n      <td>0</td>\n      <td>...</td>\n      <td>7</td>\n      <td>1020</td>\n      <td>0</td>\n      <td>2008</td>\n      <td>0</td>\n      <td>98144</td>\n      <td>47.5941</td>\n      <td>-122.299</td>\n      <td>1020</td>\n      <td>1357</td>\n    </tr>\n  </tbody>\n</table>\n<p>21044 rows × 21 columns</p>\n</div>"
     },
     "execution_count": 22,
     "metadata": {},
     "output_type": "execute_result"
    }
   ],
   "source": [
    "house_data[house_data[\"date\"].between(\"2014-05-01\", \"2015-05-01\")]"
   ],
   "metadata": {
    "collapsed": false
   }
  },
  {
   "cell_type": "code",
   "execution_count": 23,
   "outputs": [
    {
     "data": {
      "text/plain": "               id       date      price  bedrooms  bathrooms  sqft_living  \\\n17400  7525410190 2014-05-02   550000.0         3       1.75         2910   \n3323   1323089184 2014-05-02   452500.0         3       2.50         2430   \n17402  1868902745 2014-05-02   805000.0         3       2.00         2710   \n312    1860600135 2014-05-02  2384000.0         5       2.50         3650   \n19677  7853220390 2014-05-02   785000.0         5       3.25         3660   \n...           ...        ...        ...       ...        ...          ...   \n9925   3623500049 2015-05-01  1200000.0         4       2.25         2320   \n17838  3024059057 2015-05-01  1650000.0         4       4.50         5550   \n16052  9521101315 2015-05-01   600000.0         3       1.00         1310   \n5958   2524049215 2015-05-01  1564350.0         4       3.75         3730   \n3919   7883604065 2015-05-01   210000.0         2       1.00         1100   \n\n       sqft_lot  floors  waterfront  view  ...  grade  sqft_above  \\\n17400     35200     1.5           0     0  ...      8        2910   \n3323      88426     1.0           0     0  ...      7        1570   \n17402      4500     1.5           0     0  ...      8        1880   \n312        9050     2.0           0     4  ...     10        3370   \n19677     11995     2.0           0     2  ...     10        3660   \n...         ...     ...         ...   ...  ...    ...         ...   \n9925      13114     2.0           0     0  ...      8        2320   \n17838     16065     2.0           0     0  ...      9        3880   \n16052      5000     1.5           0     0  ...      7        1310   \n5958      17000     2.0           0     3  ...     10        2820   \n3919       6000     1.5           0     0  ...      6        1100   \n\n       sqft_basement  yr_built  yr_renovated  zipcode      lat     long  \\\n17400              0      1979             0    98075  47.5747 -122.035   \n3323             860      1985             0    98045  47.4828 -121.718   \n17402            830      1929             0    98115  47.6747 -122.295   \n312              280      1921             0    98119  47.6345 -122.367   \n19677              0      2006             0    98065  47.5337 -121.860   \n...              ...       ...           ...      ...      ...      ...   \n9925               0      1967             0    98040  47.5762 -122.239   \n17838           1670      2003             0    98040  47.5455 -122.214   \n16052              0      1906             0    98103  47.6624 -122.347   \n5958             910      1986             0    98040  47.5355 -122.242   \n3919               0      1900             0    98108  47.5275 -122.323   \n\n       sqft_living15  sqft_lot15  \n17400           2590       37500  \n3323            1560       56827  \n17402           2060        4500  \n312             2880        5400  \n19677           3320       11241  \n...              ...         ...  \n9925            2740       15000  \n17838           3470       16488  \n16052           1530        4800  \n5958            3880       15550  \n3919            1280        6000  \n\n[21044 rows x 21 columns]",
      "text/html": "<div>\n<style scoped>\n    .dataframe tbody tr th:only-of-type {\n        vertical-align: middle;\n    }\n\n    .dataframe tbody tr th {\n        vertical-align: top;\n    }\n\n    .dataframe thead th {\n        text-align: right;\n    }\n</style>\n<table border=\"1\" class=\"dataframe\">\n  <thead>\n    <tr style=\"text-align: right;\">\n      <th></th>\n      <th>id</th>\n      <th>date</th>\n      <th>price</th>\n      <th>bedrooms</th>\n      <th>bathrooms</th>\n      <th>sqft_living</th>\n      <th>sqft_lot</th>\n      <th>floors</th>\n      <th>waterfront</th>\n      <th>view</th>\n      <th>...</th>\n      <th>grade</th>\n      <th>sqft_above</th>\n      <th>sqft_basement</th>\n      <th>yr_built</th>\n      <th>yr_renovated</th>\n      <th>zipcode</th>\n      <th>lat</th>\n      <th>long</th>\n      <th>sqft_living15</th>\n      <th>sqft_lot15</th>\n    </tr>\n  </thead>\n  <tbody>\n    <tr>\n      <th>17400</th>\n      <td>7525410190</td>\n      <td>2014-05-02</td>\n      <td>550000.0</td>\n      <td>3</td>\n      <td>1.75</td>\n      <td>2910</td>\n      <td>35200</td>\n      <td>1.5</td>\n      <td>0</td>\n      <td>0</td>\n      <td>...</td>\n      <td>8</td>\n      <td>2910</td>\n      <td>0</td>\n      <td>1979</td>\n      <td>0</td>\n      <td>98075</td>\n      <td>47.5747</td>\n      <td>-122.035</td>\n      <td>2590</td>\n      <td>37500</td>\n    </tr>\n    <tr>\n      <th>3323</th>\n      <td>1323089184</td>\n      <td>2014-05-02</td>\n      <td>452500.0</td>\n      <td>3</td>\n      <td>2.50</td>\n      <td>2430</td>\n      <td>88426</td>\n      <td>1.0</td>\n      <td>0</td>\n      <td>0</td>\n      <td>...</td>\n      <td>7</td>\n      <td>1570</td>\n      <td>860</td>\n      <td>1985</td>\n      <td>0</td>\n      <td>98045</td>\n      <td>47.4828</td>\n      <td>-121.718</td>\n      <td>1560</td>\n      <td>56827</td>\n    </tr>\n    <tr>\n      <th>17402</th>\n      <td>1868902745</td>\n      <td>2014-05-02</td>\n      <td>805000.0</td>\n      <td>3</td>\n      <td>2.00</td>\n      <td>2710</td>\n      <td>4500</td>\n      <td>1.5</td>\n      <td>0</td>\n      <td>0</td>\n      <td>...</td>\n      <td>8</td>\n      <td>1880</td>\n      <td>830</td>\n      <td>1929</td>\n      <td>0</td>\n      <td>98115</td>\n      <td>47.6747</td>\n      <td>-122.295</td>\n      <td>2060</td>\n      <td>4500</td>\n    </tr>\n    <tr>\n      <th>312</th>\n      <td>1860600135</td>\n      <td>2014-05-02</td>\n      <td>2384000.0</td>\n      <td>5</td>\n      <td>2.50</td>\n      <td>3650</td>\n      <td>9050</td>\n      <td>2.0</td>\n      <td>0</td>\n      <td>4</td>\n      <td>...</td>\n      <td>10</td>\n      <td>3370</td>\n      <td>280</td>\n      <td>1921</td>\n      <td>0</td>\n      <td>98119</td>\n      <td>47.6345</td>\n      <td>-122.367</td>\n      <td>2880</td>\n      <td>5400</td>\n    </tr>\n    <tr>\n      <th>19677</th>\n      <td>7853220390</td>\n      <td>2014-05-02</td>\n      <td>785000.0</td>\n      <td>5</td>\n      <td>3.25</td>\n      <td>3660</td>\n      <td>11995</td>\n      <td>2.0</td>\n      <td>0</td>\n      <td>2</td>\n      <td>...</td>\n      <td>10</td>\n      <td>3660</td>\n      <td>0</td>\n      <td>2006</td>\n      <td>0</td>\n      <td>98065</td>\n      <td>47.5337</td>\n      <td>-121.860</td>\n      <td>3320</td>\n      <td>11241</td>\n    </tr>\n    <tr>\n      <th>...</th>\n      <td>...</td>\n      <td>...</td>\n      <td>...</td>\n      <td>...</td>\n      <td>...</td>\n      <td>...</td>\n      <td>...</td>\n      <td>...</td>\n      <td>...</td>\n      <td>...</td>\n      <td>...</td>\n      <td>...</td>\n      <td>...</td>\n      <td>...</td>\n      <td>...</td>\n      <td>...</td>\n      <td>...</td>\n      <td>...</td>\n      <td>...</td>\n      <td>...</td>\n      <td>...</td>\n    </tr>\n    <tr>\n      <th>9925</th>\n      <td>3623500049</td>\n      <td>2015-05-01</td>\n      <td>1200000.0</td>\n      <td>4</td>\n      <td>2.25</td>\n      <td>2320</td>\n      <td>13114</td>\n      <td>2.0</td>\n      <td>0</td>\n      <td>0</td>\n      <td>...</td>\n      <td>8</td>\n      <td>2320</td>\n      <td>0</td>\n      <td>1967</td>\n      <td>0</td>\n      <td>98040</td>\n      <td>47.5762</td>\n      <td>-122.239</td>\n      <td>2740</td>\n      <td>15000</td>\n    </tr>\n    <tr>\n      <th>17838</th>\n      <td>3024059057</td>\n      <td>2015-05-01</td>\n      <td>1650000.0</td>\n      <td>4</td>\n      <td>4.50</td>\n      <td>5550</td>\n      <td>16065</td>\n      <td>2.0</td>\n      <td>0</td>\n      <td>0</td>\n      <td>...</td>\n      <td>9</td>\n      <td>3880</td>\n      <td>1670</td>\n      <td>2003</td>\n      <td>0</td>\n      <td>98040</td>\n      <td>47.5455</td>\n      <td>-122.214</td>\n      <td>3470</td>\n      <td>16488</td>\n    </tr>\n    <tr>\n      <th>16052</th>\n      <td>9521101315</td>\n      <td>2015-05-01</td>\n      <td>600000.0</td>\n      <td>3</td>\n      <td>1.00</td>\n      <td>1310</td>\n      <td>5000</td>\n      <td>1.5</td>\n      <td>0</td>\n      <td>0</td>\n      <td>...</td>\n      <td>7</td>\n      <td>1310</td>\n      <td>0</td>\n      <td>1906</td>\n      <td>0</td>\n      <td>98103</td>\n      <td>47.6624</td>\n      <td>-122.347</td>\n      <td>1530</td>\n      <td>4800</td>\n    </tr>\n    <tr>\n      <th>5958</th>\n      <td>2524049215</td>\n      <td>2015-05-01</td>\n      <td>1564350.0</td>\n      <td>4</td>\n      <td>3.75</td>\n      <td>3730</td>\n      <td>17000</td>\n      <td>2.0</td>\n      <td>0</td>\n      <td>3</td>\n      <td>...</td>\n      <td>10</td>\n      <td>2820</td>\n      <td>910</td>\n      <td>1986</td>\n      <td>0</td>\n      <td>98040</td>\n      <td>47.5355</td>\n      <td>-122.242</td>\n      <td>3880</td>\n      <td>15550</td>\n    </tr>\n    <tr>\n      <th>3919</th>\n      <td>7883604065</td>\n      <td>2015-05-01</td>\n      <td>210000.0</td>\n      <td>2</td>\n      <td>1.00</td>\n      <td>1100</td>\n      <td>6000</td>\n      <td>1.5</td>\n      <td>0</td>\n      <td>0</td>\n      <td>...</td>\n      <td>6</td>\n      <td>1100</td>\n      <td>0</td>\n      <td>1900</td>\n      <td>0</td>\n      <td>98108</td>\n      <td>47.5275</td>\n      <td>-122.323</td>\n      <td>1280</td>\n      <td>6000</td>\n    </tr>\n  </tbody>\n</table>\n<p>21044 rows × 21 columns</p>\n</div>"
     },
     "execution_count": 23,
     "metadata": {},
     "output_type": "execute_result"
    }
   ],
   "source": [],
   "metadata": {
    "collapsed": false
   }
  },
  {
   "cell_type": "code",
   "execution_count": 24,
   "outputs": [
    {
     "data": {
      "text/plain": "               id       date      price  bedrooms  bathrooms  sqft_living  \\\n16768  5561000190 2014-05-02   437500.0         3       2.25         1970   \n9596    472000620 2014-05-02   790000.0         3       2.50         2600   \n9587   1024069009 2014-05-02   675000.0         5       2.50         2820   \n20602  7853361370 2014-05-02   555000.0         4       2.50         3310   \n11577  5056500260 2014-05-02   440000.0         4       2.25         2160   \n...           ...        ...        ...       ...        ...          ...   \n7898   1422700040 2015-05-14   183000.0         3       1.00         1170   \n928    8730000270 2015-05-14   359000.0         2       2.75         1370   \n5637   7923600250 2015-05-15   450000.0         5       2.00         1870   \n13053  5101400871 2015-05-24   445500.0         2       1.75         1390   \n16594  9106000005 2015-05-27  1310000.0         4       2.25         3750   \n\n       sqft_lot  floors  waterfront  view  ...  grade  sqft_above  \\\n16768     35100     2.0           0     0  ...      9        1970   \n9596       4750     1.0           0     0  ...      9        1700   \n9587      67518     2.0           0     0  ...      8        2820   \n20602      6500     2.0           0     0  ...      8        3310   \n11577      8119     1.0           0     0  ...      8        1080   \n...         ...     ...         ...   ...  ...    ...         ...   \n7898       7320     1.0           0     0  ...      7        1170   \n928        1140     2.0           0     0  ...      8        1080   \n5637       7344     1.5           0     0  ...      7        1870   \n13053      6670     1.0           0     0  ...      6         720   \n16594      5000     2.0           0     0  ...      8        2440   \n\n       sqft_basement  yr_built  yr_renovated  zipcode      lat     long  \\\n16768              0      1977             0    98027  47.4635 -121.991   \n9596             900      1951             0    98117  47.6833 -122.400   \n9587               0      1979             0    98029  47.5794 -122.025   \n20602              0      2012             0    98065  47.5150 -121.870   \n11577           1080      1966             0    98006  47.5443 -122.177   \n...              ...       ...           ...      ...      ...      ...   \n7898               0      1962             0    98188  47.4685 -122.282   \n928              290      2009             0    98133  47.7052 -122.343   \n5637               0      1960             0    98007  47.5951 -122.144   \n13053            670      1941             0    98115  47.6914 -122.308   \n16594           1310      1924             0    98115  47.6747 -122.303   \n\n       sqft_living15  sqft_lot15  \n16768           2340       35100  \n9596            2380        4750  \n9587            2820       48351  \n20602           2380        5000  \n11577           1850        9000  \n...              ...         ...  \n7898            2040        7320  \n928             1370        1090  \n5637            1870        7650  \n13053            920        6380  \n16594           2170        4590  \n\n[21613 rows x 21 columns]",
      "text/html": "<div>\n<style scoped>\n    .dataframe tbody tr th:only-of-type {\n        vertical-align: middle;\n    }\n\n    .dataframe tbody tr th {\n        vertical-align: top;\n    }\n\n    .dataframe thead th {\n        text-align: right;\n    }\n</style>\n<table border=\"1\" class=\"dataframe\">\n  <thead>\n    <tr style=\"text-align: right;\">\n      <th></th>\n      <th>id</th>\n      <th>date</th>\n      <th>price</th>\n      <th>bedrooms</th>\n      <th>bathrooms</th>\n      <th>sqft_living</th>\n      <th>sqft_lot</th>\n      <th>floors</th>\n      <th>waterfront</th>\n      <th>view</th>\n      <th>...</th>\n      <th>grade</th>\n      <th>sqft_above</th>\n      <th>sqft_basement</th>\n      <th>yr_built</th>\n      <th>yr_renovated</th>\n      <th>zipcode</th>\n      <th>lat</th>\n      <th>long</th>\n      <th>sqft_living15</th>\n      <th>sqft_lot15</th>\n    </tr>\n  </thead>\n  <tbody>\n    <tr>\n      <th>16768</th>\n      <td>5561000190</td>\n      <td>2014-05-02</td>\n      <td>437500.0</td>\n      <td>3</td>\n      <td>2.25</td>\n      <td>1970</td>\n      <td>35100</td>\n      <td>2.0</td>\n      <td>0</td>\n      <td>0</td>\n      <td>...</td>\n      <td>9</td>\n      <td>1970</td>\n      <td>0</td>\n      <td>1977</td>\n      <td>0</td>\n      <td>98027</td>\n      <td>47.4635</td>\n      <td>-121.991</td>\n      <td>2340</td>\n      <td>35100</td>\n    </tr>\n    <tr>\n      <th>9596</th>\n      <td>472000620</td>\n      <td>2014-05-02</td>\n      <td>790000.0</td>\n      <td>3</td>\n      <td>2.50</td>\n      <td>2600</td>\n      <td>4750</td>\n      <td>1.0</td>\n      <td>0</td>\n      <td>0</td>\n      <td>...</td>\n      <td>9</td>\n      <td>1700</td>\n      <td>900</td>\n      <td>1951</td>\n      <td>0</td>\n      <td>98117</td>\n      <td>47.6833</td>\n      <td>-122.400</td>\n      <td>2380</td>\n      <td>4750</td>\n    </tr>\n    <tr>\n      <th>9587</th>\n      <td>1024069009</td>\n      <td>2014-05-02</td>\n      <td>675000.0</td>\n      <td>5</td>\n      <td>2.50</td>\n      <td>2820</td>\n      <td>67518</td>\n      <td>2.0</td>\n      <td>0</td>\n      <td>0</td>\n      <td>...</td>\n      <td>8</td>\n      <td>2820</td>\n      <td>0</td>\n      <td>1979</td>\n      <td>0</td>\n      <td>98029</td>\n      <td>47.5794</td>\n      <td>-122.025</td>\n      <td>2820</td>\n      <td>48351</td>\n    </tr>\n    <tr>\n      <th>20602</th>\n      <td>7853361370</td>\n      <td>2014-05-02</td>\n      <td>555000.0</td>\n      <td>4</td>\n      <td>2.50</td>\n      <td>3310</td>\n      <td>6500</td>\n      <td>2.0</td>\n      <td>0</td>\n      <td>0</td>\n      <td>...</td>\n      <td>8</td>\n      <td>3310</td>\n      <td>0</td>\n      <td>2012</td>\n      <td>0</td>\n      <td>98065</td>\n      <td>47.5150</td>\n      <td>-121.870</td>\n      <td>2380</td>\n      <td>5000</td>\n    </tr>\n    <tr>\n      <th>11577</th>\n      <td>5056500260</td>\n      <td>2014-05-02</td>\n      <td>440000.0</td>\n      <td>4</td>\n      <td>2.25</td>\n      <td>2160</td>\n      <td>8119</td>\n      <td>1.0</td>\n      <td>0</td>\n      <td>0</td>\n      <td>...</td>\n      <td>8</td>\n      <td>1080</td>\n      <td>1080</td>\n      <td>1966</td>\n      <td>0</td>\n      <td>98006</td>\n      <td>47.5443</td>\n      <td>-122.177</td>\n      <td>1850</td>\n      <td>9000</td>\n    </tr>\n    <tr>\n      <th>...</th>\n      <td>...</td>\n      <td>...</td>\n      <td>...</td>\n      <td>...</td>\n      <td>...</td>\n      <td>...</td>\n      <td>...</td>\n      <td>...</td>\n      <td>...</td>\n      <td>...</td>\n      <td>...</td>\n      <td>...</td>\n      <td>...</td>\n      <td>...</td>\n      <td>...</td>\n      <td>...</td>\n      <td>...</td>\n      <td>...</td>\n      <td>...</td>\n      <td>...</td>\n      <td>...</td>\n    </tr>\n    <tr>\n      <th>7898</th>\n      <td>1422700040</td>\n      <td>2015-05-14</td>\n      <td>183000.0</td>\n      <td>3</td>\n      <td>1.00</td>\n      <td>1170</td>\n      <td>7320</td>\n      <td>1.0</td>\n      <td>0</td>\n      <td>0</td>\n      <td>...</td>\n      <td>7</td>\n      <td>1170</td>\n      <td>0</td>\n      <td>1962</td>\n      <td>0</td>\n      <td>98188</td>\n      <td>47.4685</td>\n      <td>-122.282</td>\n      <td>2040</td>\n      <td>7320</td>\n    </tr>\n    <tr>\n      <th>928</th>\n      <td>8730000270</td>\n      <td>2015-05-14</td>\n      <td>359000.0</td>\n      <td>2</td>\n      <td>2.75</td>\n      <td>1370</td>\n      <td>1140</td>\n      <td>2.0</td>\n      <td>0</td>\n      <td>0</td>\n      <td>...</td>\n      <td>8</td>\n      <td>1080</td>\n      <td>290</td>\n      <td>2009</td>\n      <td>0</td>\n      <td>98133</td>\n      <td>47.7052</td>\n      <td>-122.343</td>\n      <td>1370</td>\n      <td>1090</td>\n    </tr>\n    <tr>\n      <th>5637</th>\n      <td>7923600250</td>\n      <td>2015-05-15</td>\n      <td>450000.0</td>\n      <td>5</td>\n      <td>2.00</td>\n      <td>1870</td>\n      <td>7344</td>\n      <td>1.5</td>\n      <td>0</td>\n      <td>0</td>\n      <td>...</td>\n      <td>7</td>\n      <td>1870</td>\n      <td>0</td>\n      <td>1960</td>\n      <td>0</td>\n      <td>98007</td>\n      <td>47.5951</td>\n      <td>-122.144</td>\n      <td>1870</td>\n      <td>7650</td>\n    </tr>\n    <tr>\n      <th>13053</th>\n      <td>5101400871</td>\n      <td>2015-05-24</td>\n      <td>445500.0</td>\n      <td>2</td>\n      <td>1.75</td>\n      <td>1390</td>\n      <td>6670</td>\n      <td>1.0</td>\n      <td>0</td>\n      <td>0</td>\n      <td>...</td>\n      <td>6</td>\n      <td>720</td>\n      <td>670</td>\n      <td>1941</td>\n      <td>0</td>\n      <td>98115</td>\n      <td>47.6914</td>\n      <td>-122.308</td>\n      <td>920</td>\n      <td>6380</td>\n    </tr>\n    <tr>\n      <th>16594</th>\n      <td>9106000005</td>\n      <td>2015-05-27</td>\n      <td>1310000.0</td>\n      <td>4</td>\n      <td>2.25</td>\n      <td>3750</td>\n      <td>5000</td>\n      <td>2.0</td>\n      <td>0</td>\n      <td>0</td>\n      <td>...</td>\n      <td>8</td>\n      <td>2440</td>\n      <td>1310</td>\n      <td>1924</td>\n      <td>0</td>\n      <td>98115</td>\n      <td>47.6747</td>\n      <td>-122.303</td>\n      <td>2170</td>\n      <td>4590</td>\n    </tr>\n  </tbody>\n</table>\n<p>21613 rows × 21 columns</p>\n</div>"
     },
     "execution_count": 24,
     "metadata": {},
     "output_type": "execute_result"
    }
   ],
   "source": [
    "house_data.sort_values(\"date\")"
   ],
   "metadata": {
    "collapsed": false
   }
  },
  {
   "cell_type": "code",
   "execution_count": 25,
   "outputs": [],
   "source": [
    "one_year = house_data[house_data[\"date\"].between(\"2014-05-01\", \"2015-05-01\")].sort_values(\"date\")"
   ],
   "metadata": {
    "collapsed": false
   }
  },
  {
   "cell_type": "code",
   "execution_count": 26,
   "outputs": [
    {
     "data": {
      "text/plain": "17400    5\n3323     5\n17402    5\n312      5\n19677    5\n        ..\n9925     5\n17838    5\n16052    5\n5958     5\n3919     5\nName: date, Length: 21044, dtype: int64"
     },
     "execution_count": 26,
     "metadata": {},
     "output_type": "execute_result"
    }
   ],
   "source": [],
   "metadata": {
    "collapsed": false
   }
  },
  {
   "cell_type": "code",
   "execution_count": 27,
   "outputs": [
    {
     "data": {
      "text/plain": "4     2231\n7     2211\n6     2180\n8     1940\n10    1878\n3     1875\n5     1845\n9     1774\n12    1471\n11    1411\n2     1250\n1      978\nName: date, dtype: int64"
     },
     "execution_count": 27,
     "metadata": {},
     "output_type": "execute_result"
    }
   ],
   "source": [
    "one_year[\"date\"].dt.month.value_counts()"
   ],
   "metadata": {
    "collapsed": false
   }
  },
  {
   "cell_type": "code",
   "execution_count": 29,
   "outputs": [
    {
     "data": {
      "text/plain": "<Figure size 432x288 with 1 Axes>",
      "image/png": "[encoded data removed]"
     },
     "metadata": {
      "needs_background": "light"
     },
     "output_type": "display_data"
    }
   ],
   "source": [
    "one_year[\"date\"].dt.month.value_counts().sort_index().plot(kind=\"bar\");"
   ],
   "metadata": {
    "collapsed": false
   }
  },
  {
   "cell_type": "code",
   "execution_count": 30,
   "outputs": [
    {
     "name": "stderr",
     "output_type": "stream",
     "text": [
      "C:\\Users\\Plass\\AppData\\Local\\Temp\\ipykernel_3756\\629128072.py:2: FutureWarning: Series.dt.weekofyear and Series.dt.week have been deprecated. Please use Series.dt.isocalendar().week instead.\n",
      "  house_data[\"date\"].dt.week\n"
     ]
    },
    {
     "data": {
      "text/plain": "0        42\n1        50\n2         9\n3        50\n4         8\n         ..\n21608    21\n21609     9\n21610    26\n21611     3\n21612    42\nName: date, Length: 21613, dtype: int64"
     },
     "execution_count": 30,
     "metadata": {},
     "output_type": "execute_result"
    }
   ],
   "source": [
    "# Count up the number of homesales by day of the week\n",
    "house_data[\"date\"].dt.week"
   ],
   "metadata": {
    "collapsed": false
   }
  },
  {
   "cell_type": "code",
   "execution_count": 34,
   "outputs": [
    {
     "data": {
      "text/plain": "19    848\n26    636\n18    613\n17    559\n13    546\n20    542\n25    537\n29    528\n28    515\n30    514\n15    493\n34    490\n21    485\n39    472\n35    467\n24    467\n33    465\n16    459\n23    456\n31    451\n14    440\n44    437\n47    432\n32    431\n12    427\n42    412\n37    411\n38    410\n49    407\n41    405\n43    396\n46    387\n9     385\n11    385\n45    383\n50    380\n22    377\n40    372\n27    367\n10    347\n36    343\n51    331\n8     325\n7     292\n6     252\n5     246\n2     241\n3     235\n4     213\n48    203\n52    201\n1     197\nName: week, dtype: Int64"
     },
     "execution_count": 34,
     "metadata": {},
     "output_type": "execute_result"
    }
   ],
   "source": [
    "house_data[\"date\"].dt.isocalendar().week.value_counts()"
   ],
   "metadata": {
    "collapsed": false
   }
  },
  {
   "cell_type": "code",
   "execution_count": 36,
   "outputs": [
    {
     "data": {
      "text/plain": "<AxesSubplot:>"
     },
     "execution_count": 36,
     "metadata": {},
     "output_type": "execute_result"
    },
    {
     "data": {
      "text/plain": "<Figure size 432x288 with 1 Axes>",
      "image/png": "[encoded data removed]"
     },
     "metadata": {
      "needs_background": "light"
     },
     "output_type": "display_data"
    }
   ],
   "source": [
    "# Create a line plot showing the total number of sales by week of the year number\n",
    "house_data[\"date\"].dt.isocalendar().week.value_counts().sort_index().plot()"
   ],
   "metadata": {
    "collapsed": false
   }
  },
  {
   "cell_type": "code",
   "execution_count": 39,
   "outputs": [],
   "source": [
    "#Create a bar plot snowing the total number of sales that took place in december, January and febuary\n",
    "\n",
    "df = house_data[house_data[\"date\"].dt.month.isin([12,1,2])]"
   ],
   "metadata": {
    "collapsed": false
   }
  },
  {
   "cell_type": "code",
   "execution_count": 40,
   "outputs": [
    {
     "data": {
      "text/plain": "<AxesSubplot:>"
     },
     "execution_count": 40,
     "metadata": {},
     "output_type": "execute_result"
    },
    {
     "data": {
      "text/plain": "<Figure size 432x288 with 1 Axes>",
      "image/png": "[encoded data removed]"
     },
     "metadata": {
      "needs_background": "light"
     },
     "output_type": "display_data"
    }
   ],
   "source": [
    "df[\"date\"].dt.month.value_counts().plot(kind=\"bar\")"
   ],
   "metadata": {
    "collapsed": false
   }
  },
  {
   "cell_type": "code",
   "execution_count": null,
   "outputs": [],
   "source": [
    "one_year = house_data[house_data[\"date\"].between(\"2014-05-01\", \"2015-05-01\")].sort_values(\"date\")\n",
    "one_year[\"date\"].dt.month.value_counts().sort_index().plot(kind=\"bar\");"
   ],
   "metadata": {
    "collapsed": false
   }
  }
 ],
 "metadata": {
  "kernelspec": {
   "display_name": "Python 3",
   "language": "python",
   "name": "python3"
  },
  "language_info": {
   "codemirror_mode": {
    "name": "ipython",
    "version": 2
   },
   "file_extension": ".py",
   "mimetype": "text/x-python",
   "name": "python",
   "nbconvert_exporter": "python",
   "pygments_lexer": "ipython2",
   "version": "2.7.6"
  }
 },
 "nbformat": 4,
 "nbformat_minor": 0
}
