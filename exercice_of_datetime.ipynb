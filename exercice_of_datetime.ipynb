{
 "cells": [
  {
   "cell_type": "markdown",
   "source": [
    "The mian gol of this notebook is to to and test my skills with datetime of a dataset"
   ],
   "metadata": {
    "collapsed": false
   }
  },
  {
   "cell_type": "code",
   "execution_count": 1,
   "metadata": {
    "collapsed": true
   },
   "outputs": [],
   "source": [
    "import pandas as pd"
   ]
  },
  {
   "cell_type": "code",
   "execution_count": 2,
   "outputs": [
    {
     "data": {
      "text/plain": "               id             date     price  bedrooms  bathrooms  \\\n0      7129300520  20141013T000000  221900.0         3       1.00   \n1      6414100192  20141209T000000  538000.0         3       2.25   \n2      5631500400  20150225T000000  180000.0         2       1.00   \n3      2487200875  20141209T000000  604000.0         4       3.00   \n4      1954400510  20150218T000000  510000.0         3       2.00   \n...           ...              ...       ...       ...        ...   \n21608   263000018  20140521T000000  360000.0         3       2.50   \n21609  6600060120  20150223T000000  400000.0         4       2.50   \n21610  1523300141  20140623T000000  402101.0         2       0.75   \n21611   291310100  20150116T000000  400000.0         3       2.50   \n21612  1523300157  20141015T000000  325000.0         2       0.75   \n\n       sqft_living  sqft_lot  floors  waterfront  view  ...  grade  \\\n0             1180      5650     1.0           0     0  ...      7   \n1             2570      7242     2.0           0     0  ...      7   \n2              770     10000     1.0           0     0  ...      6   \n3             1960      5000     1.0           0     0  ...      7   \n4             1680      8080     1.0           0     0  ...      8   \n...            ...       ...     ...         ...   ...  ...    ...   \n21608         1530      1131     3.0           0     0  ...      8   \n21609         2310      5813     2.0           0     0  ...      8   \n21610         1020      1350     2.0           0     0  ...      7   \n21611         1600      2388     2.0           0     0  ...      8   \n21612         1020      1076     2.0           0     0  ...      7   \n\n       sqft_above  sqft_basement  yr_built  yr_renovated  zipcode      lat  \\\n0            1180              0      1955             0    98178  47.5112   \n1            2170            400      1951          1991    98125  47.7210   \n2             770              0      1933             0    98028  47.7379   \n3            1050            910      1965             0    98136  47.5208   \n4            1680              0      1987             0    98074  47.6168   \n...           ...            ...       ...           ...      ...      ...   \n21608        1530              0      2009             0    98103  47.6993   \n21609        2310              0      2014             0    98146  47.5107   \n21610        1020              0      2009             0    98144  47.5944   \n21611        1600              0      2004             0    98027  47.5345   \n21612        1020              0      2008             0    98144  47.5941   \n\n          long  sqft_living15  sqft_lot15  \n0     -122.257           1340        5650  \n1     -122.319           1690        7639  \n2     -122.233           2720        8062  \n3     -122.393           1360        5000  \n4     -122.045           1800        7503  \n...        ...            ...         ...  \n21608 -122.346           1530        1509  \n21609 -122.362           1830        7200  \n21610 -122.299           1020        2007  \n21611 -122.069           1410        1287  \n21612 -122.299           1020        1357  \n\n[21613 rows x 21 columns]",
      "text/html": "<div>\n<style scoped>\n    .dataframe tbody tr th:only-of-type {\n        vertical-align: middle;\n    }\n\n    .dataframe tbody tr th {\n        vertical-align: top;\n    }\n\n    .dataframe thead th {\n        text-align: right;\n    }\n</style>\n<table border=\"1\" class=\"dataframe\">\n  <thead>\n    <tr style=\"text-align: right;\">\n      <th></th>\n      <th>id</th>\n      <th>date</th>\n      <th>price</th>\n      <th>bedrooms</th>\n      <th>bathrooms</th>\n      <th>sqft_living</th>\n      <th>sqft_lot</th>\n      <th>floors</th>\n      <th>waterfront</th>\n      <th>view</th>\n      <th>...</th>\n      <th>grade</th>\n      <th>sqft_above</th>\n      <th>sqft_basement</th>\n      <th>yr_built</th>\n      <th>yr_renovated</th>\n      <th>zipcode</th>\n      <th>lat</th>\n      <th>long</th>\n      <th>sqft_living15</th>\n      <th>sqft_lot15</th>\n    </tr>\n  </thead>\n  <tbody>\n    <tr>\n      <th>0</th>\n      <td>7129300520</td>\n      <td>20141013T000000</td>\n      <td>221900.0</td>\n      <td>3</td>\n      <td>1.00</td>\n      <td>1180</td>\n      <td>5650</td>\n      <td>1.0</td>\n      <td>0</td>\n      <td>0</td>\n      <td>...</td>\n      <td>7</td>\n      <td>1180</td>\n      <td>0</td>\n      <td>1955</td>\n      <td>0</td>\n      <td>98178</td>\n      <td>47.5112</td>\n      <td>-122.257</td>\n      <td>1340</td>\n      <td>5650</td>\n    </tr>\n    <tr>\n      <th>1</th>\n      <td>6414100192</td>\n      <td>20141209T000000</td>\n      <td>538000.0</td>\n      <td>3</td>\n      <td>2.25</td>\n      <td>2570</td>\n      <td>7242</td>\n      <td>2.0</td>\n      <td>0</td>\n      <td>0</td>\n      <td>...</td>\n      <td>7</td>\n      <td>2170</td>\n      <td>400</td>\n      <td>1951</td>\n      <td>1991</td>\n      <td>98125</td>\n      <td>47.7210</td>\n      <td>-122.319</td>\n      <td>1690</td>\n      <td>7639</td>\n    </tr>\n    <tr>\n      <th>2</th>\n      <td>5631500400</td>\n      <td>20150225T000000</td>\n      <td>180000.0</td>\n      <td>2</td>\n      <td>1.00</td>\n      <td>770</td>\n      <td>10000</td>\n      <td>1.0</td>\n      <td>0</td>\n      <td>0</td>\n      <td>...</td>\n      <td>6</td>\n      <td>770</td>\n      <td>0</td>\n      <td>1933</td>\n      <td>0</td>\n      <td>98028</td>\n      <td>47.7379</td>\n      <td>-122.233</td>\n      <td>2720</td>\n      <td>8062</td>\n    </tr>\n    <tr>\n      <th>3</th>\n      <td>2487200875</td>\n      <td>20141209T000000</td>\n      <td>604000.0</td>\n      <td>4</td>\n      <td>3.00</td>\n      <td>1960</td>\n      <td>5000</td>\n      <td>1.0</td>\n      <td>0</td>\n      <td>0</td>\n      <td>...</td>\n      <td>7</td>\n      <td>1050</td>\n      <td>910</td>\n      <td>1965</td>\n      <td>0</td>\n      <td>98136</td>\n      <td>47.5208</td>\n      <td>-122.393</td>\n      <td>1360</td>\n      <td>5000</td>\n    </tr>\n    <tr>\n      <th>4</th>\n      <td>1954400510</td>\n      <td>20150218T000000</td>\n      <td>510000.0</td>\n      <td>3</td>\n      <td>2.00</td>\n      <td>1680</td>\n      <td>8080</td>\n      <td>1.0</td>\n      <td>0</td>\n      <td>0</td>\n      <td>...</td>\n      <td>8</td>\n      <td>1680</td>\n      <td>0</td>\n      <td>1987</td>\n      <td>0</td>\n      <td>98074</td>\n      <td>47.6168</td>\n      <td>-122.045</td>\n      <td>1800</td>\n      <td>7503</td>\n    </tr>\n    <tr>\n      <th>...</th>\n      <td>...</td>\n      <td>...</td>\n      <td>...</td>\n      <td>...</td>\n      <td>...</td>\n      <td>...</td>\n      <td>...</td>\n      <td>...</td>\n      <td>...</td>\n      <td>...</td>\n      <td>...</td>\n      <td>...</td>\n      <td>...</td>\n      <td>...</td>\n      <td>...</td>\n      <td>...</td>\n      <td>...</td>\n      <td>...</td>\n      <td>...</td>\n      <td>...</td>\n      <td>...</td>\n    </tr>\n    <tr>\n      <th>21608</th>\n      <td>263000018</td>\n      <td>20140521T000000</td>\n      <td>360000.0</td>\n      <td>3</td>\n      <td>2.50</td>\n      <td>1530</td>\n      <td>1131</td>\n      <td>3.0</td>\n      <td>0</td>\n      <td>0</td>\n      <td>...</td>\n      <td>8</td>\n      <td>1530</td>\n      <td>0</td>\n      <td>2009</td>\n      <td>0</td>\n      <td>98103</td>\n      <td>47.6993</td>\n      <td>-122.346</td>\n      <td>1530</td>\n      <td>1509</td>\n    </tr>\n    <tr>\n      <th>21609</th>\n      <td>6600060120</td>\n      <td>20150223T000000</td>\n      <td>400000.0</td>\n      <td>4</td>\n      <td>2.50</td>\n      <td>2310</td>\n      <td>5813</td>\n      <td>2.0</td>\n      <td>0</td>\n      <td>0</td>\n      <td>...</td>\n      <td>8</td>\n      <td>2310</td>\n      <td>0</td>\n      <td>2014</td>\n      <td>0</td>\n      <td>98146</td>\n      <td>47.5107</td>\n      <td>-122.362</td>\n      <td>1830</td>\n      <td>7200</td>\n    </tr>\n    <tr>\n      <th>21610</th>\n      <td>1523300141</td>\n      <td>20140623T000000</td>\n      <td>402101.0</td>\n      <td>2</td>\n      <td>0.75</td>\n      <td>1020</td>\n      <td>1350</td>\n      <td>2.0</td>\n      <td>0</td>\n      <td>0</td>\n      <td>...</td>\n      <td>7</td>\n      <td>1020</td>\n      <td>0</td>\n      <td>2009</td>\n      <td>0</td>\n      <td>98144</td>\n      <td>47.5944</td>\n      <td>-122.299</td>\n      <td>1020</td>\n      <td>2007</td>\n    </tr>\n    <tr>\n      <th>21611</th>\n      <td>291310100</td>\n      <td>20150116T000000</td>\n      <td>400000.0</td>\n      <td>3</td>\n      <td>2.50</td>\n      <td>1600</td>\n      <td>2388</td>\n      <td>2.0</td>\n      <td>0</td>\n      <td>0</td>\n      <td>...</td>\n      <td>8</td>\n      <td>1600</td>\n      <td>0</td>\n      <td>2004</td>\n      <td>0</td>\n      <td>98027</td>\n      <td>47.5345</td>\n      <td>-122.069</td>\n      <td>1410</td>\n      <td>1287</td>\n    </tr>\n    <tr>\n      <th>21612</th>\n      <td>1523300157</td>\n      <td>20141015T000000</td>\n      <td>325000.0</td>\n      <td>2</td>\n      <td>0.75</td>\n      <td>1020</td>\n      <td>1076</td>\n      <td>2.0</td>\n      <td>0</td>\n      <td>0</td>\n      <td>...</td>\n      <td>7</td>\n      <td>1020</td>\n      <td>0</td>\n      <td>2008</td>\n      <td>0</td>\n      <td>98144</td>\n      <td>47.5941</td>\n      <td>-122.299</td>\n      <td>1020</td>\n      <td>1357</td>\n    </tr>\n  </tbody>\n</table>\n<p>21613 rows × 21 columns</p>\n</div>"
     },
     "execution_count": 2,
     "metadata": {},
     "output_type": "execute_result"
    }
   ],
   "source": [
    "#import the dataset\n",
    "house_data = pd.read_csv(\"data/kc_house_data.csv\")\n",
    "house_data"
   ],
   "metadata": {
    "collapsed": false
   }
  },
  {
   "cell_type": "code",
   "execution_count": 3,
   "outputs": [
    {
     "data": {
      "text/plain": "0       2014-10-13\n1       2014-12-09\n2       2015-02-25\n3       2014-12-09\n4       2015-02-18\n           ...    \n21608   2014-05-21\n21609   2015-02-23\n21610   2014-06-23\n21611   2015-01-16\n21612   2014-10-15\nName: date, Length: 21613, dtype: datetime64[ns]"
     },
     "execution_count": 3,
     "metadata": {},
     "output_type": "execute_result"
    }
   ],
   "source": [
    "#parse the date\n",
    "pd.to_datetime(house_data[\"date\"])"
   ],
   "metadata": {
    "collapsed": false
   }
  },
  {
   "cell_type": "markdown",
   "source": [],
   "metadata": {
    "collapsed": false
   }
  },
  {
   "cell_type": "code",
   "execution_count": 4,
   "outputs": [],
   "source": [
    "house_data[\"date\"] = pd.to_datetime(house_data[\"date\"])"
   ],
   "metadata": {
    "collapsed": false
   }
  },
  {
   "cell_type": "code",
   "execution_count": 5,
   "outputs": [
    {
     "data": {
      "text/plain": "               id       date     price  bedrooms  bathrooms  sqft_living  \\\n0      7129300520 2014-10-13  221900.0         3       1.00         1180   \n1      6414100192 2014-12-09  538000.0         3       2.25         2570   \n2      5631500400 2015-02-25  180000.0         2       1.00          770   \n3      2487200875 2014-12-09  604000.0         4       3.00         1960   \n4      1954400510 2015-02-18  510000.0         3       2.00         1680   \n...           ...        ...       ...       ...        ...          ...   \n21608   263000018 2014-05-21  360000.0         3       2.50         1530   \n21609  6600060120 2015-02-23  400000.0         4       2.50         2310   \n21610  1523300141 2014-06-23  402101.0         2       0.75         1020   \n21611   291310100 2015-01-16  400000.0         3       2.50         1600   \n21612  1523300157 2014-10-15  325000.0         2       0.75         1020   \n\n       sqft_lot  floors  waterfront  view  ...  grade  sqft_above  \\\n0          5650     1.0           0     0  ...      7        1180   \n1          7242     2.0           0     0  ...      7        2170   \n2         10000     1.0           0     0  ...      6         770   \n3          5000     1.0           0     0  ...      7        1050   \n4          8080     1.0           0     0  ...      8        1680   \n...         ...     ...         ...   ...  ...    ...         ...   \n21608      1131     3.0           0     0  ...      8        1530   \n21609      5813     2.0           0     0  ...      8        2310   \n21610      1350     2.0           0     0  ...      7        1020   \n21611      2388     2.0           0     0  ...      8        1600   \n21612      1076     2.0           0     0  ...      7        1020   \n\n       sqft_basement  yr_built  yr_renovated  zipcode      lat     long  \\\n0                  0      1955             0    98178  47.5112 -122.257   \n1                400      1951          1991    98125  47.7210 -122.319   \n2                  0      1933             0    98028  47.7379 -122.233   \n3                910      1965             0    98136  47.5208 -122.393   \n4                  0      1987             0    98074  47.6168 -122.045   \n...              ...       ...           ...      ...      ...      ...   \n21608              0      2009             0    98103  47.6993 -122.346   \n21609              0      2014             0    98146  47.5107 -122.362   \n21610              0      2009             0    98144  47.5944 -122.299   \n21611              0      2004             0    98027  47.5345 -122.069   \n21612              0      2008             0    98144  47.5941 -122.299   \n\n       sqft_living15  sqft_lot15  \n0               1340        5650  \n1               1690        7639  \n2               2720        8062  \n3               1360        5000  \n4               1800        7503  \n...              ...         ...  \n21608           1530        1509  \n21609           1830        7200  \n21610           1020        2007  \n21611           1410        1287  \n21612           1020        1357  \n\n[21613 rows x 21 columns]",
      "text/html": "<div>\n<style scoped>\n    .dataframe tbody tr th:only-of-type {\n        vertical-align: middle;\n    }\n\n    .dataframe tbody tr th {\n        vertical-align: top;\n    }\n\n    .dataframe thead th {\n        text-align: right;\n    }\n</style>\n<table border=\"1\" class=\"dataframe\">\n  <thead>\n    <tr style=\"text-align: right;\">\n      <th></th>\n      <th>id</th>\n      <th>date</th>\n      <th>price</th>\n      <th>bedrooms</th>\n      <th>bathrooms</th>\n      <th>sqft_living</th>\n      <th>sqft_lot</th>\n      <th>floors</th>\n      <th>waterfront</th>\n      <th>view</th>\n      <th>...</th>\n      <th>grade</th>\n      <th>sqft_above</th>\n      <th>sqft_basement</th>\n      <th>yr_built</th>\n      <th>yr_renovated</th>\n      <th>zipcode</th>\n      <th>lat</th>\n      <th>long</th>\n      <th>sqft_living15</th>\n      <th>sqft_lot15</th>\n    </tr>\n  </thead>\n  <tbody>\n    <tr>\n      <th>0</th>\n      <td>7129300520</td>\n      <td>2014-10-13</td>\n      <td>221900.0</td>\n      <td>3</td>\n      <td>1.00</td>\n      <td>1180</td>\n      <td>5650</td>\n      <td>1.0</td>\n      <td>0</td>\n      <td>0</td>\n      <td>...</td>\n      <td>7</td>\n      <td>1180</td>\n      <td>0</td>\n      <td>1955</td>\n      <td>0</td>\n      <td>98178</td>\n      <td>47.5112</td>\n      <td>-122.257</td>\n      <td>1340</td>\n      <td>5650</td>\n    </tr>\n    <tr>\n      <th>1</th>\n      <td>6414100192</td>\n      <td>2014-12-09</td>\n      <td>538000.0</td>\n      <td>3</td>\n      <td>2.25</td>\n      <td>2570</td>\n      <td>7242</td>\n      <td>2.0</td>\n      <td>0</td>\n      <td>0</td>\n      <td>...</td>\n      <td>7</td>\n      <td>2170</td>\n      <td>400</td>\n      <td>1951</td>\n      <td>1991</td>\n      <td>98125</td>\n      <td>47.7210</td>\n      <td>-122.319</td>\n      <td>1690</td>\n      <td>7639</td>\n    </tr>\n    <tr>\n      <th>2</th>\n      <td>5631500400</td>\n      <td>2015-02-25</td>\n      <td>180000.0</td>\n      <td>2</td>\n      <td>1.00</td>\n      <td>770</td>\n      <td>10000</td>\n      <td>1.0</td>\n      <td>0</td>\n      <td>0</td>\n      <td>...</td>\n      <td>6</td>\n      <td>770</td>\n      <td>0</td>\n      <td>1933</td>\n      <td>0</td>\n      <td>98028</td>\n      <td>47.7379</td>\n      <td>-122.233</td>\n      <td>2720</td>\n      <td>8062</td>\n    </tr>\n    <tr>\n      <th>3</th>\n      <td>2487200875</td>\n      <td>2014-12-09</td>\n      <td>604000.0</td>\n      <td>4</td>\n      <td>3.00</td>\n      <td>1960</td>\n      <td>5000</td>\n      <td>1.0</td>\n      <td>0</td>\n      <td>0</td>\n      <td>...</td>\n      <td>7</td>\n      <td>1050</td>\n      <td>910</td>\n      <td>1965</td>\n      <td>0</td>\n      <td>98136</td>\n      <td>47.5208</td>\n      <td>-122.393</td>\n      <td>1360</td>\n      <td>5000</td>\n    </tr>\n    <tr>\n      <th>4</th>\n      <td>1954400510</td>\n      <td>2015-02-18</td>\n      <td>510000.0</td>\n      <td>3</td>\n      <td>2.00</td>\n      <td>1680</td>\n      <td>8080</td>\n      <td>1.0</td>\n      <td>0</td>\n      <td>0</td>\n      <td>...</td>\n      <td>8</td>\n      <td>1680</td>\n      <td>0</td>\n      <td>1987</td>\n      <td>0</td>\n      <td>98074</td>\n      <td>47.6168</td>\n      <td>-122.045</td>\n      <td>1800</td>\n      <td>7503</td>\n    </tr>\n    <tr>\n      <th>...</th>\n      <td>...</td>\n      <td>...</td>\n      <td>...</td>\n      <td>...</td>\n      <td>...</td>\n      <td>...</td>\n      <td>...</td>\n      <td>...</td>\n      <td>...</td>\n      <td>...</td>\n      <td>...</td>\n      <td>...</td>\n      <td>...</td>\n      <td>...</td>\n      <td>...</td>\n      <td>...</td>\n      <td>...</td>\n      <td>...</td>\n      <td>...</td>\n      <td>...</td>\n      <td>...</td>\n    </tr>\n    <tr>\n      <th>21608</th>\n      <td>263000018</td>\n      <td>2014-05-21</td>\n      <td>360000.0</td>\n      <td>3</td>\n      <td>2.50</td>\n      <td>1530</td>\n      <td>1131</td>\n      <td>3.0</td>\n      <td>0</td>\n      <td>0</td>\n      <td>...</td>\n      <td>8</td>\n      <td>1530</td>\n      <td>0</td>\n      <td>2009</td>\n      <td>0</td>\n      <td>98103</td>\n      <td>47.6993</td>\n      <td>-122.346</td>\n      <td>1530</td>\n      <td>1509</td>\n    </tr>\n    <tr>\n      <th>21609</th>\n      <td>6600060120</td>\n      <td>2015-02-23</td>\n      <td>400000.0</td>\n      <td>4</td>\n      <td>2.50</td>\n      <td>2310</td>\n      <td>5813</td>\n      <td>2.0</td>\n      <td>0</td>\n      <td>0</td>\n      <td>...</td>\n      <td>8</td>\n      <td>2310</td>\n      <td>0</td>\n      <td>2014</td>\n      <td>0</td>\n      <td>98146</td>\n      <td>47.5107</td>\n      <td>-122.362</td>\n      <td>1830</td>\n      <td>7200</td>\n    </tr>\n    <tr>\n      <th>21610</th>\n      <td>1523300141</td>\n      <td>2014-06-23</td>\n      <td>402101.0</td>\n      <td>2</td>\n      <td>0.75</td>\n      <td>1020</td>\n      <td>1350</td>\n      <td>2.0</td>\n      <td>0</td>\n      <td>0</td>\n      <td>...</td>\n      <td>7</td>\n      <td>1020</td>\n      <td>0</td>\n      <td>2009</td>\n      <td>0</td>\n      <td>98144</td>\n      <td>47.5944</td>\n      <td>-122.299</td>\n      <td>1020</td>\n      <td>2007</td>\n    </tr>\n    <tr>\n      <th>21611</th>\n      <td>291310100</td>\n      <td>2015-01-16</td>\n      <td>400000.0</td>\n      <td>3</td>\n      <td>2.50</td>\n      <td>1600</td>\n      <td>2388</td>\n      <td>2.0</td>\n      <td>0</td>\n      <td>0</td>\n      <td>...</td>\n      <td>8</td>\n      <td>1600</td>\n      <td>0</td>\n      <td>2004</td>\n      <td>0</td>\n      <td>98027</td>\n      <td>47.5345</td>\n      <td>-122.069</td>\n      <td>1410</td>\n      <td>1287</td>\n    </tr>\n    <tr>\n      <th>21612</th>\n      <td>1523300157</td>\n      <td>2014-10-15</td>\n      <td>325000.0</td>\n      <td>2</td>\n      <td>0.75</td>\n      <td>1020</td>\n      <td>1076</td>\n      <td>2.0</td>\n      <td>0</td>\n      <td>0</td>\n      <td>...</td>\n      <td>7</td>\n      <td>1020</td>\n      <td>0</td>\n      <td>2008</td>\n      <td>0</td>\n      <td>98144</td>\n      <td>47.5941</td>\n      <td>-122.299</td>\n      <td>1020</td>\n      <td>1357</td>\n    </tr>\n  </tbody>\n</table>\n<p>21613 rows × 21 columns</p>\n</div>"
     },
     "execution_count": 5,
     "metadata": {},
     "output_type": "execute_result"
    }
   ],
   "source": [
    "house_data"
   ],
   "metadata": {
    "collapsed": false
   }
  },
  {
   "cell_type": "code",
   "execution_count": 8,
   "outputs": [
    {
     "data": {
      "text/plain": "390"
     },
     "execution_count": 8,
     "metadata": {},
     "output_type": "execute_result"
    }
   ],
   "source": [
    "#calculate how many days the dataset spans\n",
    "house_data_timespan = house_data[\"date\"].max() - house_data[\"date\"].min()\n",
    "\n",
    "house_data_timespan.days"
   ],
   "metadata": {
    "collapsed": false
   }
  },
  {
   "cell_type": "code",
   "execution_count": null,
   "outputs": [],
   "source": [],
   "metadata": {
    "collapsed": false
   }
  },
  {
   "cell_type": "code",
   "execution_count": 15,
   "outputs": [
    {
     "data": {
      "text/plain": "2014-06-23    142\n2014-06-26    131\n2014-06-25    131\n2014-07-08    127\n2015-04-27    126\n             ... \n2014-11-02      1\n2015-01-31      1\n2015-05-24      1\n2014-05-17      1\n2014-07-27      1\nName: date, Length: 372, dtype: int64"
     },
     "execution_count": 15,
     "metadata": {},
     "output_type": "execute_result"
    }
   ],
   "source": [
    "#  the date that had the most house sales\n",
    "# option 1\n",
    "house_data[\"date\"].value_counts()"
   ],
   "metadata": {
    "collapsed": false
   }
  },
  {
   "cell_type": "code",
   "execution_count": 17,
   "outputs": [
    {
     "data": {
      "text/plain": "Timestamp('2014-06-23 00:00:00')"
     },
     "execution_count": 17,
     "metadata": {},
     "output_type": "execute_result"
    }
   ],
   "source": [
    "# option 2\n",
    "house_data[\"date\"].mode()[0]"
   ],
   "metadata": {
    "collapsed": false
   }
  },
  {
   "cell_type": "code",
   "execution_count": null,
   "outputs": [],
   "source": [],
   "metadata": {
    "collapsed": false
   }
  }
 ],
 "metadata": {
  "kernelspec": {
   "display_name": "Python 3",
   "language": "python",
   "name": "python3"
  },
  "language_info": {
   "codemirror_mode": {
    "name": "ipython",
    "version": 2
   },
   "file_extension": ".py",
   "mimetype": "text/x-python",
   "name": "python",
   "nbconvert_exporter": "python",
   "pygments_lexer": "ipython2",
   "version": "2.7.6"
  }
 },
 "nbformat": 4,
 "nbformat_minor": 0
}
