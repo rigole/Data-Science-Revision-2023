{
 "cells": [
  {
   "cell_type": "code",
   "execution_count": 1,
   "id": "b947ab47",
   "metadata": {},
   "outputs": [],
   "source": [
    "import pandas as pd \n",
    "import numpy as np"
   ]
  },
  {
   "cell_type": "code",
   "execution_count": 2,
   "id": "12ef73d4",
   "metadata": {},
   "outputs": [
    {
     "name": "stderr",
     "output_type": "stream",
     "text": [
      "C:\\Users\\Plass\\AppData\\Local\\Temp\\ipykernel_9232\\2267827773.py:1: UserWarning: Parsing '14/06/1993' in DD/MM/YYYY format. Provide format or specify infer_datetime_format=True for consistent parsing.\n",
      "  pd.to_datetime(\"14/06/1993\")\n"
     ]
    },
    {
     "data": {
      "text/plain": "Timestamp('1993-06-14 00:00:00')"
     },
     "execution_count": 2,
     "metadata": {},
     "output_type": "execute_result"
    }
   ],
   "source": [
    "pd.to_datetime(\"14/06/1993\")"
   ]
  },
  {
   "cell_type": "code",
   "execution_count": 3,
   "id": "23af123f",
   "metadata": {},
   "outputs": [
    {
     "data": {
      "text/plain": "Timestamp('1993-06-14 00:00:00')"
     },
     "execution_count": 3,
     "metadata": {},
     "output_type": "execute_result"
    }
   ],
   "source": [
    "pd.to_datetime(\"14/06/1993\", dayfirst=True)"
   ]
  },
  {
   "cell_type": "code",
   "execution_count": 4,
   "id": "3874f51c",
   "metadata": {},
   "outputs": [
    {
     "name": "stderr",
     "output_type": "stream",
     "text": [
      "C:\\Users\\Plass\\AppData\\Local\\Temp\\ipykernel_9232\\3920892112.py:1: UserWarning: Parsing '14/06/1993' in DD/MM/YYYY format. Provide format or specify infer_datetime_format=True for consistent parsing.\n",
      "  pd.to_datetime(\"14/06/1993\", yearfirst=True)\n"
     ]
    },
    {
     "data": {
      "text/plain": "Timestamp('1993-06-14 00:00:00')"
     },
     "execution_count": 4,
     "metadata": {},
     "output_type": "execute_result"
    }
   ],
   "source": [
    "pd.to_datetime(\"14/06/1993\", yearfirst=True)"
   ]
  },
  {
   "cell_type": "code",
   "execution_count": 5,
   "id": "a06389af",
   "metadata": {},
   "outputs": [
    {
     "data": {
      "text/plain": "Timestamp('1993-06-14 00:00:00')"
     },
     "execution_count": 5,
     "metadata": {},
     "output_type": "execute_result"
    }
   ],
   "source": [
    "pd.to_datetime(\"14/06/1993\", yearfirst=True, dayfirst=True)"
   ]
  },
  {
   "cell_type": "code",
   "execution_count": 6,
   "id": "d20b274e",
   "metadata": {},
   "outputs": [
    {
     "name": "stdout",
     "output_type": "stream",
     "text": [
      "1993-06-14 00:00:00\n"
     ]
    }
   ],
   "source": [
    "test_variable  =  pd.to_datetime(\"14/06/1993\", yearfirst=True, dayfirst=True)\n",
    "print(test_variable)"
   ]
  },
  {
   "cell_type": "code",
   "execution_count": 7,
   "outputs": [],
   "source": [
    "ufos = pd.read_csv(\"data/nuforc_reports.csv\")"
   ],
   "metadata": {
    "collapsed": false
   }
  },
  {
   "cell_type": "code",
   "execution_count": 8,
   "outputs": [
    {
     "name": "stdout",
     "output_type": "stream",
     "text": [
      "<class 'pandas.core.frame.DataFrame'>\n",
      "RangeIndex: 88125 entries, 0 to 88124\n",
      "Data columns (total 12 columns):\n",
      " #   Column          Non-Null Count  Dtype  \n",
      "---  ------          --------------  -----  \n",
      " 0   summary         88095 non-null  object \n",
      " 1   city            87891 non-null  object \n",
      " 2   state           82890 non-null  object \n",
      " 3   date_time       86938 non-null  object \n",
      " 4   shape           85627 non-null  object \n",
      " 5   duration        84954 non-null  object \n",
      " 6   stats           88088 non-null  object \n",
      " 7   report_link     88125 non-null  object \n",
      " 8   text            88070 non-null  object \n",
      " 9   posted          86938 non-null  object \n",
      " 10  city_latitude   72013 non-null  float64\n",
      " 11  city_longitude  72013 non-null  float64\n",
      "dtypes: float64(2), object(10)\n",
      "memory usage: 8.1+ MB\n"
     ]
    }
   ],
   "source": [
    "ufos.info()"
   ],
   "metadata": {
    "collapsed": false
   }
  },
  {
   "cell_type": "code",
   "execution_count": 9,
   "outputs": [
    {
     "data": {
      "text/plain": "0       2019-12-12 18:43:00\n1       2019-03-22 18:30:00\n2                       NaT\n3       2019-04-17 02:00:00\n4       2009-03-15 18:00:00\n                ...        \n88120   2019-10-02 20:00:00\n88121   2019-10-02 20:00:00\n88122   2019-10-02 20:03:00\n88123   2019-10-02 22:00:00\n88124   2019-10-02 22:00:00\nName: date_time, Length: 88125, dtype: datetime64[ns]"
     },
     "execution_count": 9,
     "metadata": {},
     "output_type": "execute_result"
    }
   ],
   "source": [
    "pd.to_datetime(ufos[\"date_time\"])"
   ],
   "metadata": {
    "collapsed": false
   }
  },
  {
   "cell_type": "code",
   "execution_count": 10,
   "outputs": [],
   "source": [
    "ufos[\"date\"] = pd.to_datetime(ufos[\"date_time\"])"
   ],
   "metadata": {
    "collapsed": false
   }
  },
  {
   "cell_type": "code",
   "execution_count": 11,
   "outputs": [
    {
     "name": "stdout",
     "output_type": "stream",
     "text": [
      "<class 'pandas.core.frame.DataFrame'>\n",
      "RangeIndex: 88125 entries, 0 to 88124\n",
      "Data columns (total 13 columns):\n",
      " #   Column          Non-Null Count  Dtype         \n",
      "---  ------          --------------  -----         \n",
      " 0   summary         88095 non-null  object        \n",
      " 1   city            87891 non-null  object        \n",
      " 2   state           82890 non-null  object        \n",
      " 3   date_time       86938 non-null  object        \n",
      " 4   shape           85627 non-null  object        \n",
      " 5   duration        84954 non-null  object        \n",
      " 6   stats           88088 non-null  object        \n",
      " 7   report_link     88125 non-null  object        \n",
      " 8   text            88070 non-null  object        \n",
      " 9   posted          86938 non-null  object        \n",
      " 10  city_latitude   72013 non-null  float64       \n",
      " 11  city_longitude  72013 non-null  float64       \n",
      " 12  date            86938 non-null  datetime64[ns]\n",
      "dtypes: datetime64[ns](1), float64(2), object(10)\n",
      "memory usage: 8.7+ MB\n"
     ]
    }
   ],
   "source": [
    "ufos.info()"
   ],
   "metadata": {
    "collapsed": false
   }
  },
  {
   "cell_type": "code",
   "execution_count": 12,
   "outputs": [
    {
     "data": {
      "text/plain": "                                                 summary            city  \\\n88120  4 lights in formation over Tempe appear while ...           Tempe   \n88121  2 bright star like lights in the NNW skys,  ((...         Bolivar   \n88122  I just witnessed a ‘Phoenix Lights’ type of fo...      North Port   \n88123  Witnessed an orange, slow moving light. Was lo...  Black Mountain   \n88124  Glowing lights in formation  just south of San...    Marin County   \n\n      state            date_time      shape    duration  \\\n88120    AZ  2019-10-02T20:00:00  formation   3 minutes   \n88121    MO  2019-10-02T20:00:00      light  20 seconds   \n88122    FL  2019-10-02T20:03:00  formation  20 seconds   \n88123    NC  2019-10-02T22:00:00   fireball   2 minutes   \n88124    CA  2019-10-02T22:00:00     sphere   3 minutes   \n\n                                                   stats  \\\n88120  Occurred : 10/2/2019 20:00  (Entered as : 10/2...   \n88121  Occurred : 10/2/2019 20:00  (Entered as : 10/0...   \n88122  Occurred : 10/2/2019 20:03  (Entered as : 10/0...   \n88123  Occurred : 10/2/2019 22:00  (Entered as : 10/0...   \n88124  Occurred : 10/2/2019 22:00  (Entered as : 10-0...   \n\n                                             report_link  \\\n88120  http://www.nuforc.org/webreports/149/S149463.html   \n88121  http://www.nuforc.org/webreports/149/S149405.html   \n88122  http://www.nuforc.org/webreports/149/S149424.html   \n88123  http://www.nuforc.org/webreports/149/S149447.html   \n88124  http://www.nuforc.org/webreports/149/S149436.html   \n\n                                                    text               posted  \\\n88120  4 lights in formation over Tempe appear while ...  2019-10-04T00:00:00   \n88121  2 bright star like lights in the NNW sky two b...  2019-10-04T00:00:00   \n88122  10/2/19 @ 8:03PM EST  UFO SIGHTING in the 3428...  2019-10-04T00:00:00   \n88123  Witnessed an orange, slow moving light. Was lo...  2019-10-04T00:00:00   \n88124  Glowing lights in formation  just south of San...  2019-10-04T00:00:00   \n\n       city_latitude  city_longitude                date  \n88120      33.414036      -111.92092 2019-10-02 20:00:00  \n88121      37.642200       -93.39960 2019-10-02 20:00:00  \n88122      27.076210       -82.22328 2019-10-02 20:03:00  \n88123      35.605000       -82.31320 2019-10-02 22:00:00  \n88124            NaN             NaN 2019-10-02 22:00:00  ",
      "text/html": "<div>\n<style scoped>\n    .dataframe tbody tr th:only-of-type {\n        vertical-align: middle;\n    }\n\n    .dataframe tbody tr th {\n        vertical-align: top;\n    }\n\n    .dataframe thead th {\n        text-align: right;\n    }\n</style>\n<table border=\"1\" class=\"dataframe\">\n  <thead>\n    <tr style=\"text-align: right;\">\n      <th></th>\n      <th>summary</th>\n      <th>city</th>\n      <th>state</th>\n      <th>date_time</th>\n      <th>shape</th>\n      <th>duration</th>\n      <th>stats</th>\n      <th>report_link</th>\n      <th>text</th>\n      <th>posted</th>\n      <th>city_latitude</th>\n      <th>city_longitude</th>\n      <th>date</th>\n    </tr>\n  </thead>\n  <tbody>\n    <tr>\n      <th>88120</th>\n      <td>4 lights in formation over Tempe appear while ...</td>\n      <td>Tempe</td>\n      <td>AZ</td>\n      <td>2019-10-02T20:00:00</td>\n      <td>formation</td>\n      <td>3 minutes</td>\n      <td>Occurred : 10/2/2019 20:00  (Entered as : 10/2...</td>\n      <td>http://www.nuforc.org/webreports/149/S149463.html</td>\n      <td>4 lights in formation over Tempe appear while ...</td>\n      <td>2019-10-04T00:00:00</td>\n      <td>33.414036</td>\n      <td>-111.92092</td>\n      <td>2019-10-02 20:00:00</td>\n    </tr>\n    <tr>\n      <th>88121</th>\n      <td>2 bright star like lights in the NNW skys,  ((...</td>\n      <td>Bolivar</td>\n      <td>MO</td>\n      <td>2019-10-02T20:00:00</td>\n      <td>light</td>\n      <td>20 seconds</td>\n      <td>Occurred : 10/2/2019 20:00  (Entered as : 10/0...</td>\n      <td>http://www.nuforc.org/webreports/149/S149405.html</td>\n      <td>2 bright star like lights in the NNW sky two b...</td>\n      <td>2019-10-04T00:00:00</td>\n      <td>37.642200</td>\n      <td>-93.39960</td>\n      <td>2019-10-02 20:00:00</td>\n    </tr>\n    <tr>\n      <th>88122</th>\n      <td>I just witnessed a ‘Phoenix Lights’ type of fo...</td>\n      <td>North Port</td>\n      <td>FL</td>\n      <td>2019-10-02T20:03:00</td>\n      <td>formation</td>\n      <td>20 seconds</td>\n      <td>Occurred : 10/2/2019 20:03  (Entered as : 10/0...</td>\n      <td>http://www.nuforc.org/webreports/149/S149424.html</td>\n      <td>10/2/19 @ 8:03PM EST  UFO SIGHTING in the 3428...</td>\n      <td>2019-10-04T00:00:00</td>\n      <td>27.076210</td>\n      <td>-82.22328</td>\n      <td>2019-10-02 20:03:00</td>\n    </tr>\n    <tr>\n      <th>88123</th>\n      <td>Witnessed an orange, slow moving light. Was lo...</td>\n      <td>Black Mountain</td>\n      <td>NC</td>\n      <td>2019-10-02T22:00:00</td>\n      <td>fireball</td>\n      <td>2 minutes</td>\n      <td>Occurred : 10/2/2019 22:00  (Entered as : 10/0...</td>\n      <td>http://www.nuforc.org/webreports/149/S149447.html</td>\n      <td>Witnessed an orange, slow moving light. Was lo...</td>\n      <td>2019-10-04T00:00:00</td>\n      <td>35.605000</td>\n      <td>-82.31320</td>\n      <td>2019-10-02 22:00:00</td>\n    </tr>\n    <tr>\n      <th>88124</th>\n      <td>Glowing lights in formation  just south of San...</td>\n      <td>Marin County</td>\n      <td>CA</td>\n      <td>2019-10-02T22:00:00</td>\n      <td>sphere</td>\n      <td>3 minutes</td>\n      <td>Occurred : 10/2/2019 22:00  (Entered as : 10-0...</td>\n      <td>http://www.nuforc.org/webreports/149/S149436.html</td>\n      <td>Glowing lights in formation  just south of San...</td>\n      <td>2019-10-04T00:00:00</td>\n      <td>NaN</td>\n      <td>NaN</td>\n      <td>2019-10-02 22:00:00</td>\n    </tr>\n  </tbody>\n</table>\n</div>"
     },
     "execution_count": 12,
     "metadata": {},
     "output_type": "execute_result"
    }
   ],
   "source": [
    "ufos.tail()"
   ],
   "metadata": {
    "collapsed": false
   }
  },
  {
   "cell_type": "code",
   "execution_count": 13,
   "outputs": [],
   "source": [
    "ufos[\"date_time\"] = pd.to_datetime(ufos[\"date_time\"])"
   ],
   "metadata": {
    "collapsed": false
   }
  },
  {
   "cell_type": "code",
   "execution_count": 14,
   "outputs": [
    {
     "name": "stdout",
     "output_type": "stream",
     "text": [
      "<class 'pandas.core.frame.DataFrame'>\n",
      "RangeIndex: 88125 entries, 0 to 88124\n",
      "Data columns (total 13 columns):\n",
      " #   Column          Non-Null Count  Dtype         \n",
      "---  ------          --------------  -----         \n",
      " 0   summary         88095 non-null  object        \n",
      " 1   city            87891 non-null  object        \n",
      " 2   state           82890 non-null  object        \n",
      " 3   date_time       86938 non-null  datetime64[ns]\n",
      " 4   shape           85627 non-null  object        \n",
      " 5   duration        84954 non-null  object        \n",
      " 6   stats           88088 non-null  object        \n",
      " 7   report_link     88125 non-null  object        \n",
      " 8   text            88070 non-null  object        \n",
      " 9   posted          86938 non-null  object        \n",
      " 10  city_latitude   72013 non-null  float64       \n",
      " 11  city_longitude  72013 non-null  float64       \n",
      " 12  date            86938 non-null  datetime64[ns]\n",
      "dtypes: datetime64[ns](2), float64(2), object(9)\n",
      "memory usage: 8.7+ MB\n"
     ]
    }
   ],
   "source": [
    "ufos.info()"
   ],
   "metadata": {
    "collapsed": false
   }
  },
  {
   "cell_type": "code",
   "execution_count": 15,
   "outputs": [
    {
     "name": "stdout",
     "output_type": "stream",
     "text": [
      "<class 'pandas.core.frame.DataFrame'>\n",
      "RangeIndex: 88125 entries, 0 to 88124\n",
      "Data columns (total 12 columns):\n",
      " #   Column          Non-Null Count  Dtype  \n",
      "---  ------          --------------  -----  \n",
      " 0   summary         88095 non-null  object \n",
      " 1   city            87891 non-null  object \n",
      " 2   state           82890 non-null  object \n",
      " 3   date_time       86938 non-null  object \n",
      " 4   shape           85627 non-null  object \n",
      " 5   duration        84954 non-null  object \n",
      " 6   stats           88088 non-null  object \n",
      " 7   report_link     88125 non-null  object \n",
      " 8   text            88070 non-null  object \n",
      " 9   posted          86938 non-null  object \n",
      " 10  city_latitude   72013 non-null  float64\n",
      " 11  city_longitude  72013 non-null  float64\n",
      "dtypes: float64(2), object(10)\n",
      "memory usage: 8.1+ MB\n"
     ]
    }
   ],
   "source": [
    "pd.read_csv(\"data/nuforc_reports.csv\", parse_dates=[\"date_time\"])"
   ],
   "metadata": {
    "collapsed": false
   }
  },
  {
   "cell_type": "code",
   "execution_count": 16,
   "outputs": [],
   "source": [
    "ufos = pd.read_csv(\"data/nuforc_reports.csv\", parse_dates=[\"date_time\"])"
   ],
   "metadata": {
    "collapsed": false
   }
  },
  {
   "cell_type": "code",
   "execution_count": 17,
   "outputs": [
    {
     "name": "stdout",
     "output_type": "stream",
     "text": [
      "<class 'pandas.core.frame.DataFrame'>\n",
      "RangeIndex: 88125 entries, 0 to 88124\n",
      "Data columns (total 12 columns):\n",
      " #   Column          Non-Null Count  Dtype         \n",
      "---  ------          --------------  -----         \n",
      " 0   summary         88095 non-null  object        \n",
      " 1   city            87891 non-null  object        \n",
      " 2   state           82890 non-null  object        \n",
      " 3   date_time       86938 non-null  datetime64[ns]\n",
      " 4   shape           85627 non-null  object        \n",
      " 5   duration        84954 non-null  object        \n",
      " 6   stats           88088 non-null  object        \n",
      " 7   report_link     88125 non-null  object        \n",
      " 8   text            88070 non-null  object        \n",
      " 9   posted          86938 non-null  object        \n",
      " 10  city_latitude   72013 non-null  float64       \n",
      " 11  city_longitude  72013 non-null  float64       \n",
      "dtypes: datetime64[ns](1), float64(2), object(9)\n",
      "memory usage: 8.1+ MB\n"
     ]
    }
   ],
   "source": [
    "ufos.info()"
   ],
   "metadata": {
    "collapsed": false
   }
  },
  {
   "cell_type": "code",
   "execution_count": 18,
   "outputs": [
    {
     "data": {
      "text/plain": "2014.0    8704\n2012.0    8124\n2013.0    7823\n2015.0    6915\n2019.0    5767\n2016.0    5664\n2011.0    5630\n2008.0    5307\n2017.0    5057\n2009.0    4996\n2010.0    4786\n2007.0    4736\n2006.0    3720\n2018.0    3273\n2005.0     566\n2004.0     340\n1997.0     300\n2001.0     263\n2000.0     243\n2003.0     238\n1998.0     229\n2002.0     220\n1999.0     220\n1995.0     219\n1996.0     200\n1994.0     197\n1978.0     195\n1975.0     180\n1977.0     169\n1976.0     164\n1974.0     148\n1979.0     148\n1993.0     148\n1988.0     147\n1973.0     138\n1985.0     133\n1990.0     132\n1989.0     131\n1980.0     131\n1992.0     130\n1987.0     124\n1991.0     119\n1986.0     111\n1983.0     109\n1981.0     106\n1970.0     100\n1982.0      97\n1969.0      97\n1972.0      92\n1984.0      84\n1971.0      68\nName: date_time, dtype: int64"
     },
     "execution_count": 18,
     "metadata": {},
     "output_type": "execute_result"
    }
   ],
   "source": [
    "ufos[\"date_time\"].dt.year.value_counts()"
   ],
   "metadata": {
    "collapsed": false
   }
  },
  {
   "cell_type": "code",
   "execution_count": 19,
   "outputs": [
    {
     "name": "stderr",
     "output_type": "stream",
     "text": [
      "Matplotlib is building the font cache; this may take a moment.\n"
     ]
    },
    {
     "data": {
      "text/plain": "<Figure size 432x288 with 1 Axes>",
      "image/png": "[encoded data removed]"
     },
     "metadata": {
      "needs_background": "light"
     },
     "output_type": "display_data"
    }
   ],
   "source": [
    "ufos[\"date_time\"].dt.year.value_counts().head(12).plot(kind=\"bar\");"
   ],
   "metadata": {
    "collapsed": false
   }
  },
  {
   "cell_type": "code",
   "execution_count": 20,
   "outputs": [
    {
     "data": {
      "text/plain": "0        12.0\n1         3.0\n2         NaN\n3         4.0\n4         3.0\n         ... \n88120    10.0\n88121    10.0\n88122    10.0\n88123    10.0\n88124    10.0\nName: date_time, Length: 88125, dtype: float64"
     },
     "execution_count": 20,
     "metadata": {},
     "output_type": "execute_result"
    }
   ],
   "source": [
    "ufos[\"date_time\"].dt.month"
   ],
   "metadata": {
    "collapsed": false
   }
  },
  {
   "cell_type": "code",
   "execution_count": 21,
   "outputs": [
    {
     "data": {
      "text/plain": "7.0     10682\n8.0      8997\n9.0      8498\n10.0     8371\n6.0      8357\n11.0     7596\n12.0     6525\n5.0      6063\n1.0      5979\n4.0      5817\n3.0      5494\n2.0      4559\nName: date_time, dtype: int64"
     },
     "execution_count": 21,
     "metadata": {},
     "output_type": "execute_result"
    }
   ],
   "source": [
    "ufos[\"date_time\"].dt.month.value_counts()"
   ],
   "metadata": {
    "collapsed": false
   }
  },
  {
   "cell_type": "code",
   "execution_count": 22,
   "outputs": [
    {
     "data": {
      "text/plain": "1.0     4852\n15.0    4403\n4.0     3864\n20.0    3016\n12.0    2945\n10.0    2923\n24.0    2831\n25.0    2805\n30.0    2793\n7.0     2776\n5.0     2755\n14.0    2739\n22.0    2723\n3.0     2708\n19.0    2681\n18.0    2678\n11.0    2639\n8.0     2635\n23.0    2634\n13.0    2634\n17.0    2607\n21.0    2602\n16.0    2598\n6.0     2578\n28.0    2555\n27.0    2531\n9.0     2443\n26.0    2430\n2.0     2425\n29.0    2364\n31.0    1771\nName: date_time, dtype: int64"
     },
     "execution_count": 22,
     "metadata": {},
     "output_type": "execute_result"
    }
   ],
   "source": [
    "ufos[\"date_time\"].dt.day.value_counts()"
   ],
   "metadata": {
    "collapsed": false
   }
  },
  {
   "cell_type": "code",
   "execution_count": 23,
   "outputs": [
    {
     "data": {
      "text/plain": "0        18.0\n1        18.0\n2         NaN\n3         2.0\n4        18.0\n         ... \n88120    20.0\n88121    20.0\n88122    20.0\n88123    22.0\n88124    22.0\nName: date_time, Length: 88125, dtype: float64"
     },
     "execution_count": 23,
     "metadata": {},
     "output_type": "execute_result"
    }
   ],
   "source": [
    "ufos[\"date_time\"].dt.hour"
   ],
   "metadata": {
    "collapsed": false
   }
  },
  {
   "cell_type": "code",
   "execution_count": 24,
   "outputs": [
    {
     "data": {
      "text/plain": "21.0    12851\n22.0    11660\n20.0     9565\n23.0     8194\n19.0     6460\n0.0      5577\n18.0     4462\n1.0      3285\n17.0     2660\n2.0      2216\n3.0      2088\n5.0      1874\n4.0      1641\n16.0     1612\n6.0      1588\n12.0     1408\n15.0     1380\n10.0     1334\n13.0     1308\n11.0     1301\n14.0     1280\n9.0      1126\n7.0      1067\n8.0      1001\nName: date_time, dtype: int64"
     },
     "execution_count": 24,
     "metadata": {},
     "output_type": "execute_result"
    }
   ],
   "source": [
    "ufos[\"date_time\"].dt.hour.value_counts()"
   ],
   "metadata": {
    "collapsed": false
   }
  },
  {
   "cell_type": "code",
   "execution_count": 25,
   "outputs": [
    {
     "data": {
      "text/plain": "<Figure size 432x288 with 1 Axes>",
      "image/png": "[encoded data removed]"
     },
     "metadata": {
      "needs_background": "light"
     },
     "output_type": "display_data"
    }
   ],
   "source": [
    "ufos[\"date_time\"].dt.hour.value_counts().plot(kind=\"bar\");"
   ],
   "metadata": {
    "collapsed": false
   }
  },
  {
   "cell_type": "code",
   "execution_count": 26,
   "outputs": [
    {
     "data": {
      "text/plain": "0        3.0\n1        4.0\n2        NaN\n3        2.0\n4        6.0\n        ... \n88120    2.0\n88121    2.0\n88122    2.0\n88123    2.0\n88124    2.0\nName: date_time, Length: 88125, dtype: float64"
     },
     "execution_count": 26,
     "metadata": {},
     "output_type": "execute_result"
    }
   ],
   "source": [
    "ufos[\"date_time\"].dt.dayofweek"
   ],
   "metadata": {
    "collapsed": false
   }
  },
  {
   "cell_type": "code",
   "execution_count": 27,
   "outputs": [
    {
     "data": {
      "text/plain": "5.0    16305\n4.0    12864\n6.0    12652\n3.0    11729\n2.0    11646\n1.0    10987\n0.0    10755\nName: date_time, dtype: int64"
     },
     "execution_count": 27,
     "metadata": {},
     "output_type": "execute_result"
    }
   ],
   "source": [
    "ufos[\"date_time\"].dt.dayofweek.value_counts()"
   ],
   "metadata": {
    "collapsed": false
   }
  },
  {
   "cell_type": "code",
   "execution_count": null,
   "outputs": [],
   "source": [],
   "metadata": {
    "collapsed": false
   }
  }
 ],
 "metadata": {
  "kernelspec": {
   "display_name": "Python 3",
   "language": "python",
   "name": "python3"
  },
  "language_info": {
   "codemirror_mode": {
    "name": "ipython",
    "version": 3
   },
   "file_extension": ".py",
   "mimetype": "text/x-python",
   "name": "python",
   "nbconvert_exporter": "python",
   "pygments_lexer": "ipython3",
   "version": "3.10.4 (tags/v3.10.4:9d38120, Mar 23 2022, 23:13:41) [MSC v.1929 64 bit (AMD64)]"
  },
  "vscode": {
   "interpreter": {
    "hash": "08d561e450eda138233980edcd5ff3e3566a7450673f50f0d6679b3e4069e0ae"
   }
  }
 },
 "nbformat": 4,
 "nbformat_minor": 5
}
