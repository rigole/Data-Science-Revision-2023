{
 "cells": [
  {
   "cell_type": "code",
   "execution_count": 1,
   "id": "b947ab47",
   "metadata": {},
   "outputs": [],
   "source": [
    "import pandas as pd \n",
    "import numpy as np"
   ]
  },
  {
   "cell_type": "code",
   "execution_count": 2,
   "id": "12ef73d4",
   "metadata": {},
   "outputs": [
    {
     "name": "stderr",
     "output_type": "stream",
     "text": [
      "C:\\Users\\Plass\\AppData\\Local\\Temp\\ipykernel_9232\\2267827773.py:1: UserWarning: Parsing '14/06/1993' in DD/MM/YYYY format. Provide format or specify infer_datetime_format=True for consistent parsing.\n",
      "  pd.to_datetime(\"14/06/1993\")\n"
     ]
    },
    {
     "data": {
      "text/plain": "Timestamp('1993-06-14 00:00:00')"
     },
     "execution_count": 2,
     "metadata": {},
     "output_type": "execute_result"
    }
   ],
   "source": [
    "pd.to_datetime(\"14/06/1993\")"
   ]
  },
  {
   "cell_type": "code",
   "execution_count": 3,
   "id": "23af123f",
   "metadata": {},
   "outputs": [
    {
     "data": {
      "text/plain": "Timestamp('1993-06-14 00:00:00')"
     },
     "execution_count": 3,
     "metadata": {},
     "output_type": "execute_result"
    }
   ],
   "source": [
    "pd.to_datetime(\"14/06/1993\", dayfirst=True)"
   ]
  },
  {
   "cell_type": "code",
   "execution_count": 4,
   "id": "3874f51c",
   "metadata": {},
   "outputs": [
    {
     "name": "stderr",
     "output_type": "stream",
     "text": [
      "C:\\Users\\Plass\\AppData\\Local\\Temp\\ipykernel_9232\\3920892112.py:1: UserWarning: Parsing '14/06/1993' in DD/MM/YYYY format. Provide format or specify infer_datetime_format=True for consistent parsing.\n",
      "  pd.to_datetime(\"14/06/1993\", yearfirst=True)\n"
     ]
    },
    {
     "data": {
      "text/plain": "Timestamp('1993-06-14 00:00:00')"
     },
     "execution_count": 4,
     "metadata": {},
     "output_type": "execute_result"
    }
   ],
   "source": [
    "pd.to_datetime(\"14/06/1993\", yearfirst=True)"
   ]
  },
  {
   "cell_type": "code",
   "execution_count": 5,
   "id": "a06389af",
   "metadata": {},
   "outputs": [
    {
     "data": {
      "text/plain": "Timestamp('1993-06-14 00:00:00')"
     },
     "execution_count": 5,
     "metadata": {},
     "output_type": "execute_result"
    }
   ],
   "source": [
    "pd.to_datetime(\"14/06/1993\", yearfirst=True, dayfirst=True)"
   ]
  },
  {
   "cell_type": "code",
   "execution_count": 6,
   "id": "d20b274e",
   "metadata": {},
   "outputs": [
    {
     "name": "stdout",
     "output_type": "stream",
     "text": [
      "1993-06-14 00:00:00\n"
     ]
    }
   ],
   "source": [
    "test_variable  =  pd.to_datetime(\"14/06/1993\", yearfirst=True, dayfirst=True)\n",
    "print(test_variable)"
   ]
  },
  {
   "cell_type": "code",
   "execution_count": 2,
   "outputs": [],
   "source": [
    "ufos = pd.read_csv(\"data/nuforc_reports.csv\")"
   ],
   "metadata": {
    "collapsed": false
   }
  },
  {
   "cell_type": "code",
   "execution_count": 8,
   "outputs": [
    {
     "name": "stdout",
     "output_type": "stream",
     "text": [
      "<class 'pandas.core.frame.DataFrame'>\n",
      "RangeIndex: 88125 entries, 0 to 88124\n",
      "Data columns (total 12 columns):\n",
      " #   Column          Non-Null Count  Dtype  \n",
      "---  ------          --------------  -----  \n",
      " 0   summary         88095 non-null  object \n",
      " 1   city            87891 non-null  object \n",
      " 2   state           82890 non-null  object \n",
      " 3   date_time       86938 non-null  object \n",
      " 4   shape           85627 non-null  object \n",
      " 5   duration        84954 non-null  object \n",
      " 6   stats           88088 non-null  object \n",
      " 7   report_link     88125 non-null  object \n",
      " 8   text            88070 non-null  object \n",
      " 9   posted          86938 non-null  object \n",
      " 10  city_latitude   72013 non-null  float64\n",
      " 11  city_longitude  72013 non-null  float64\n",
      "dtypes: float64(2), object(10)\n",
      "memory usage: 8.1+ MB\n"
     ]
    }
   ],
   "source": [
    "ufos.info()"
   ],
   "metadata": {
    "collapsed": false
   }
  },
  {
   "cell_type": "code",
   "execution_count": 9,
   "outputs": [
    {
     "data": {
      "text/plain": "0       2019-12-12 18:43:00\n1       2019-03-22 18:30:00\n2                       NaT\n3       2019-04-17 02:00:00\n4       2009-03-15 18:00:00\n                ...        \n88120   2019-10-02 20:00:00\n88121   2019-10-02 20:00:00\n88122   2019-10-02 20:03:00\n88123   2019-10-02 22:00:00\n88124   2019-10-02 22:00:00\nName: date_time, Length: 88125, dtype: datetime64[ns]"
     },
     "execution_count": 9,
     "metadata": {},
     "output_type": "execute_result"
    }
   ],
   "source": [
    "pd.to_datetime(ufos[\"date_time\"])"
   ],
   "metadata": {
    "collapsed": false
   }
  },
  {
   "cell_type": "code",
   "execution_count": 3,
   "outputs": [],
   "source": [
    "ufos[\"date\"] = pd.to_datetime(ufos[\"date_time\"])"
   ],
   "metadata": {
    "collapsed": false
   }
  },
  {
   "cell_type": "code",
   "execution_count": 11,
   "outputs": [
    {
     "name": "stdout",
     "output_type": "stream",
     "text": [
      "<class 'pandas.core.frame.DataFrame'>\n",
      "RangeIndex: 88125 entries, 0 to 88124\n",
      "Data columns (total 13 columns):\n",
      " #   Column          Non-Null Count  Dtype         \n",
      "---  ------          --------------  -----         \n",
      " 0   summary         88095 non-null  object        \n",
      " 1   city            87891 non-null  object        \n",
      " 2   state           82890 non-null  object        \n",
      " 3   date_time       86938 non-null  object        \n",
      " 4   shape           85627 non-null  object        \n",
      " 5   duration        84954 non-null  object        \n",
      " 6   stats           88088 non-null  object        \n",
      " 7   report_link     88125 non-null  object        \n",
      " 8   text            88070 non-null  object        \n",
      " 9   posted          86938 non-null  object        \n",
      " 10  city_latitude   72013 non-null  float64       \n",
      " 11  city_longitude  72013 non-null  float64       \n",
      " 12  date            86938 non-null  datetime64[ns]\n",
      "dtypes: datetime64[ns](1), float64(2), object(10)\n",
      "memory usage: 8.7+ MB\n"
     ]
    }
   ],
   "source": [
    "ufos.info()"
   ],
   "metadata": {
    "collapsed": false
   }
  },
  {
   "cell_type": "code",
   "execution_count": 12,
   "outputs": [
    {
     "data": {
      "text/plain": "                                                 summary            city  \\\n88120  4 lights in formation over Tempe appear while ...           Tempe   \n88121  2 bright star like lights in the NNW skys,  ((...         Bolivar   \n88122  I just witnessed a ‘Phoenix Lights’ type of fo...      North Port   \n88123  Witnessed an orange, slow moving light. Was lo...  Black Mountain   \n88124  Glowing lights in formation  just south of San...    Marin County   \n\n      state            date_time      shape    duration  \\\n88120    AZ  2019-10-02T20:00:00  formation   3 minutes   \n88121    MO  2019-10-02T20:00:00      light  20 seconds   \n88122    FL  2019-10-02T20:03:00  formation  20 seconds   \n88123    NC  2019-10-02T22:00:00   fireball   2 minutes   \n88124    CA  2019-10-02T22:00:00     sphere   3 minutes   \n\n                                                   stats  \\\n88120  Occurred : 10/2/2019 20:00  (Entered as : 10/2...   \n88121  Occurred : 10/2/2019 20:00  (Entered as : 10/0...   \n88122  Occurred : 10/2/2019 20:03  (Entered as : 10/0...   \n88123  Occurred : 10/2/2019 22:00  (Entered as : 10/0...   \n88124  Occurred : 10/2/2019 22:00  (Entered as : 10-0...   \n\n                                             report_link  \\\n88120  http://www.nuforc.org/webreports/149/S149463.html   \n88121  http://www.nuforc.org/webreports/149/S149405.html   \n88122  http://www.nuforc.org/webreports/149/S149424.html   \n88123  http://www.nuforc.org/webreports/149/S149447.html   \n88124  http://www.nuforc.org/webreports/149/S149436.html   \n\n                                                    text               posted  \\\n88120  4 lights in formation over Tempe appear while ...  2019-10-04T00:00:00   \n88121  2 bright star like lights in the NNW sky two b...  2019-10-04T00:00:00   \n88122  10/2/19 @ 8:03PM EST  UFO SIGHTING in the 3428...  2019-10-04T00:00:00   \n88123  Witnessed an orange, slow moving light. Was lo...  2019-10-04T00:00:00   \n88124  Glowing lights in formation  just south of San...  2019-10-04T00:00:00   \n\n       city_latitude  city_longitude                date  \n88120      33.414036      -111.92092 2019-10-02 20:00:00  \n88121      37.642200       -93.39960 2019-10-02 20:00:00  \n88122      27.076210       -82.22328 2019-10-02 20:03:00  \n88123      35.605000       -82.31320 2019-10-02 22:00:00  \n88124            NaN             NaN 2019-10-02 22:00:00  ",
      "text/html": "<div>\n<style scoped>\n    .dataframe tbody tr th:only-of-type {\n        vertical-align: middle;\n    }\n\n    .dataframe tbody tr th {\n        vertical-align: top;\n    }\n\n    .dataframe thead th {\n        text-align: right;\n    }\n</style>\n<table border=\"1\" class=\"dataframe\">\n  <thead>\n    <tr style=\"text-align: right;\">\n      <th></th>\n      <th>summary</th>\n      <th>city</th>\n      <th>state</th>\n      <th>date_time</th>\n      <th>shape</th>\n      <th>duration</th>\n      <th>stats</th>\n      <th>report_link</th>\n      <th>text</th>\n      <th>posted</th>\n      <th>city_latitude</th>\n      <th>city_longitude</th>\n      <th>date</th>\n    </tr>\n  </thead>\n  <tbody>\n    <tr>\n      <th>88120</th>\n      <td>4 lights in formation over Tempe appear while ...</td>\n      <td>Tempe</td>\n      <td>AZ</td>\n      <td>2019-10-02T20:00:00</td>\n      <td>formation</td>\n      <td>3 minutes</td>\n      <td>Occurred : 10/2/2019 20:00  (Entered as : 10/2...</td>\n      <td>http://www.nuforc.org/webreports/149/S149463.html</td>\n      <td>4 lights in formation over Tempe appear while ...</td>\n      <td>2019-10-04T00:00:00</td>\n      <td>33.414036</td>\n      <td>-111.92092</td>\n      <td>2019-10-02 20:00:00</td>\n    </tr>\n    <tr>\n      <th>88121</th>\n      <td>2 bright star like lights in the NNW skys,  ((...</td>\n      <td>Bolivar</td>\n      <td>MO</td>\n      <td>2019-10-02T20:00:00</td>\n      <td>light</td>\n      <td>20 seconds</td>\n      <td>Occurred : 10/2/2019 20:00  (Entered as : 10/0...</td>\n      <td>http://www.nuforc.org/webreports/149/S149405.html</td>\n      <td>2 bright star like lights in the NNW sky two b...</td>\n      <td>2019-10-04T00:00:00</td>\n      <td>37.642200</td>\n      <td>-93.39960</td>\n      <td>2019-10-02 20:00:00</td>\n    </tr>\n    <tr>\n      <th>88122</th>\n      <td>I just witnessed a ‘Phoenix Lights’ type of fo...</td>\n      <td>North Port</td>\n      <td>FL</td>\n      <td>2019-10-02T20:03:00</td>\n      <td>formation</td>\n      <td>20 seconds</td>\n      <td>Occurred : 10/2/2019 20:03  (Entered as : 10/0...</td>\n      <td>http://www.nuforc.org/webreports/149/S149424.html</td>\n      <td>10/2/19 @ 8:03PM EST  UFO SIGHTING in the 3428...</td>\n      <td>2019-10-04T00:00:00</td>\n      <td>27.076210</td>\n      <td>-82.22328</td>\n      <td>2019-10-02 20:03:00</td>\n    </tr>\n    <tr>\n      <th>88123</th>\n      <td>Witnessed an orange, slow moving light. Was lo...</td>\n      <td>Black Mountain</td>\n      <td>NC</td>\n      <td>2019-10-02T22:00:00</td>\n      <td>fireball</td>\n      <td>2 minutes</td>\n      <td>Occurred : 10/2/2019 22:00  (Entered as : 10/0...</td>\n      <td>http://www.nuforc.org/webreports/149/S149447.html</td>\n      <td>Witnessed an orange, slow moving light. Was lo...</td>\n      <td>2019-10-04T00:00:00</td>\n      <td>35.605000</td>\n      <td>-82.31320</td>\n      <td>2019-10-02 22:00:00</td>\n    </tr>\n    <tr>\n      <th>88124</th>\n      <td>Glowing lights in formation  just south of San...</td>\n      <td>Marin County</td>\n      <td>CA</td>\n      <td>2019-10-02T22:00:00</td>\n      <td>sphere</td>\n      <td>3 minutes</td>\n      <td>Occurred : 10/2/2019 22:00  (Entered as : 10-0...</td>\n      <td>http://www.nuforc.org/webreports/149/S149436.html</td>\n      <td>Glowing lights in formation  just south of San...</td>\n      <td>2019-10-04T00:00:00</td>\n      <td>NaN</td>\n      <td>NaN</td>\n      <td>2019-10-02 22:00:00</td>\n    </tr>\n  </tbody>\n</table>\n</div>"
     },
     "execution_count": 12,
     "metadata": {},
     "output_type": "execute_result"
    }
   ],
   "source": [
    "ufos.tail()"
   ],
   "metadata": {
    "collapsed": false
   }
  },
  {
   "cell_type": "code",
   "execution_count": 4,
   "outputs": [],
   "source": [
    "ufos[\"date_time\"] = pd.to_datetime(ufos[\"date_time\"])"
   ],
   "metadata": {
    "collapsed": false
   }
  },
  {
   "cell_type": "code",
   "execution_count": 14,
   "outputs": [
    {
     "name": "stdout",
     "output_type": "stream",
     "text": [
      "<class 'pandas.core.frame.DataFrame'>\n",
      "RangeIndex: 88125 entries, 0 to 88124\n",
      "Data columns (total 13 columns):\n",
      " #   Column          Non-Null Count  Dtype         \n",
      "---  ------          --------------  -----         \n",
      " 0   summary         88095 non-null  object        \n",
      " 1   city            87891 non-null  object        \n",
      " 2   state           82890 non-null  object        \n",
      " 3   date_time       86938 non-null  datetime64[ns]\n",
      " 4   shape           85627 non-null  object        \n",
      " 5   duration        84954 non-null  object        \n",
      " 6   stats           88088 non-null  object        \n",
      " 7   report_link     88125 non-null  object        \n",
      " 8   text            88070 non-null  object        \n",
      " 9   posted          86938 non-null  object        \n",
      " 10  city_latitude   72013 non-null  float64       \n",
      " 11  city_longitude  72013 non-null  float64       \n",
      " 12  date            86938 non-null  datetime64[ns]\n",
      "dtypes: datetime64[ns](2), float64(2), object(9)\n",
      "memory usage: 8.7+ MB\n"
     ]
    }
   ],
   "source": [
    "ufos.info()"
   ],
   "metadata": {
    "collapsed": false
   }
  },
  {
   "cell_type": "code",
   "execution_count": 5,
   "outputs": [
    {
     "data": {
      "text/plain": "                                                 summary            city  \\\n0      My wife was driving southeast on a fairly popu...         Chester   \n1      I think that I may caught a UFO on the NBC Nig...      Rocky Hill   \n2      I woke up late in the afternoon 3:30-4pm. I we...             NaN   \n3      I was driving towards the intersection of fall...          Ottawa   \n4      In Peoria Arizona, I saw a cigar shaped craft ...          Peoria   \n...                                                  ...             ...   \n88120  4 lights in formation over Tempe appear while ...           Tempe   \n88121  2 bright star like lights in the NNW skys,  ((...         Bolivar   \n88122  I just witnessed a ‘Phoenix Lights’ type of fo...      North Port   \n88123  Witnessed an orange, slow moving light. Was lo...  Black Mountain   \n88124  Glowing lights in formation  just south of San...    Marin County   \n\n      state           date_time      shape     duration  \\\n0        VA 2019-12-12 18:43:00      light    5 seconds   \n1        CT 2019-03-22 18:30:00     circle  3-5 seconds   \n2       NaN                 NaT        NaN          NaN   \n3        ON 2019-04-17 02:00:00   teardrop   10 seconds   \n4        NY 2009-03-15 18:00:00      cigar    2 minutes   \n...     ...                 ...        ...          ...   \n88120    AZ 2019-10-02 20:00:00  formation    3 minutes   \n88121    MO 2019-10-02 20:00:00      light   20 seconds   \n88122    FL 2019-10-02 20:03:00  formation   20 seconds   \n88123    NC 2019-10-02 22:00:00   fireball    2 minutes   \n88124    CA 2019-10-02 22:00:00     sphere    3 minutes   \n\n                                                   stats  \\\n0      Occurred : 12/12/2019 18:43  (Entered as : 12/...   \n1      Occurred : 3/22/2019 18:30  (Entered as : 03/2...   \n2      Occurred : 4/1/2019 15:45  (Entered as : April...   \n3      Occurred : 4/17/2019 02:00  (Entered as : 04-1...   \n4      Occurred : 3/15/2009 18:00  (Entered as : 03/1...   \n...                                                  ...   \n88120  Occurred : 10/2/2019 20:00  (Entered as : 10/2...   \n88121  Occurred : 10/2/2019 20:00  (Entered as : 10/0...   \n88122  Occurred : 10/2/2019 20:03  (Entered as : 10/0...   \n88123  Occurred : 10/2/2019 22:00  (Entered as : 10/0...   \n88124  Occurred : 10/2/2019 22:00  (Entered as : 10-0...   \n\n                                             report_link  \\\n0      http://www.nuforc.org/webreports/151/S151739.html   \n1      http://www.nuforc.org/webreports/145/S145297.html   \n2      http://www.nuforc.org/webreports/145/S145556.html   \n3      http://www.nuforc.org/webreports/145/S145697.html   \n4      http://www.nuforc.org/webreports/145/S145723.html   \n...                                                  ...   \n88120  http://www.nuforc.org/webreports/149/S149463.html   \n88121  http://www.nuforc.org/webreports/149/S149405.html   \n88122  http://www.nuforc.org/webreports/149/S149424.html   \n88123  http://www.nuforc.org/webreports/149/S149447.html   \n88124  http://www.nuforc.org/webreports/149/S149436.html   \n\n                                                    text               posted  \\\n0      My wife was driving southeast on a fairly popu...  2019-12-22T00:00:00   \n1      I think that I may caught a UFO on the NBC Nig...  2019-03-29T00:00:00   \n2      I woke up late in the afternoon 3:30-4pm.  I w...                  NaN   \n3      I was driving towards the intersection of fall...  2019-04-18T00:00:00   \n4      In Peoria, Arizona, I saw a cigar shaped craft...  2019-04-18T00:00:00   \n...                                                  ...                  ...   \n88120  4 lights in formation over Tempe appear while ...  2019-10-04T00:00:00   \n88121  2 bright star like lights in the NNW sky two b...  2019-10-04T00:00:00   \n88122  10/2/19 @ 8:03PM EST  UFO SIGHTING in the 3428...  2019-10-04T00:00:00   \n88123  Witnessed an orange, slow moving light. Was lo...  2019-10-04T00:00:00   \n88124  Glowing lights in formation  just south of San...  2019-10-04T00:00:00   \n\n       city_latitude  city_longitude  \n0          37.343152      -77.408582  \n1          41.664800      -72.639300  \n2                NaN             NaN  \n3          45.381383      -75.708501  \n4                NaN             NaN  \n...              ...             ...  \n88120      33.414036     -111.920920  \n88121      37.642200      -93.399600  \n88122      27.076210      -82.223280  \n88123      35.605000      -82.313200  \n88124            NaN             NaN  \n\n[88125 rows x 12 columns]",
      "text/html": "<div>\n<style scoped>\n    .dataframe tbody tr th:only-of-type {\n        vertical-align: middle;\n    }\n\n    .dataframe tbody tr th {\n        vertical-align: top;\n    }\n\n    .dataframe thead th {\n        text-align: right;\n    }\n</style>\n<table border=\"1\" class=\"dataframe\">\n  <thead>\n    <tr style=\"text-align: right;\">\n      <th></th>\n      <th>summary</th>\n      <th>city</th>\n      <th>state</th>\n      <th>date_time</th>\n      <th>shape</th>\n      <th>duration</th>\n      <th>stats</th>\n      <th>report_link</th>\n      <th>text</th>\n      <th>posted</th>\n      <th>city_latitude</th>\n      <th>city_longitude</th>\n    </tr>\n  </thead>\n  <tbody>\n    <tr>\n      <th>0</th>\n      <td>My wife was driving southeast on a fairly popu...</td>\n      <td>Chester</td>\n      <td>VA</td>\n      <td>2019-12-12 18:43:00</td>\n      <td>light</td>\n      <td>5 seconds</td>\n      <td>Occurred : 12/12/2019 18:43  (Entered as : 12/...</td>\n      <td>http://www.nuforc.org/webreports/151/S151739.html</td>\n      <td>My wife was driving southeast on a fairly popu...</td>\n      <td>2019-12-22T00:00:00</td>\n      <td>37.343152</td>\n      <td>-77.408582</td>\n    </tr>\n    <tr>\n      <th>1</th>\n      <td>I think that I may caught a UFO on the NBC Nig...</td>\n      <td>Rocky Hill</td>\n      <td>CT</td>\n      <td>2019-03-22 18:30:00</td>\n      <td>circle</td>\n      <td>3-5 seconds</td>\n      <td>Occurred : 3/22/2019 18:30  (Entered as : 03/2...</td>\n      <td>http://www.nuforc.org/webreports/145/S145297.html</td>\n      <td>I think that I may caught a UFO on the NBC Nig...</td>\n      <td>2019-03-29T00:00:00</td>\n      <td>41.664800</td>\n      <td>-72.639300</td>\n    </tr>\n    <tr>\n      <th>2</th>\n      <td>I woke up late in the afternoon 3:30-4pm. I we...</td>\n      <td>NaN</td>\n      <td>NaN</td>\n      <td>NaT</td>\n      <td>NaN</td>\n      <td>NaN</td>\n      <td>Occurred : 4/1/2019 15:45  (Entered as : April...</td>\n      <td>http://www.nuforc.org/webreports/145/S145556.html</td>\n      <td>I woke up late in the afternoon 3:30-4pm.  I w...</td>\n      <td>NaN</td>\n      <td>NaN</td>\n      <td>NaN</td>\n    </tr>\n    <tr>\n      <th>3</th>\n      <td>I was driving towards the intersection of fall...</td>\n      <td>Ottawa</td>\n      <td>ON</td>\n      <td>2019-04-17 02:00:00</td>\n      <td>teardrop</td>\n      <td>10 seconds</td>\n      <td>Occurred : 4/17/2019 02:00  (Entered as : 04-1...</td>\n      <td>http://www.nuforc.org/webreports/145/S145697.html</td>\n      <td>I was driving towards the intersection of fall...</td>\n      <td>2019-04-18T00:00:00</td>\n      <td>45.381383</td>\n      <td>-75.708501</td>\n    </tr>\n    <tr>\n      <th>4</th>\n      <td>In Peoria Arizona, I saw a cigar shaped craft ...</td>\n      <td>Peoria</td>\n      <td>NY</td>\n      <td>2009-03-15 18:00:00</td>\n      <td>cigar</td>\n      <td>2 minutes</td>\n      <td>Occurred : 3/15/2009 18:00  (Entered as : 03/1...</td>\n      <td>http://www.nuforc.org/webreports/145/S145723.html</td>\n      <td>In Peoria, Arizona, I saw a cigar shaped craft...</td>\n      <td>2019-04-18T00:00:00</td>\n      <td>NaN</td>\n      <td>NaN</td>\n    </tr>\n    <tr>\n      <th>...</th>\n      <td>...</td>\n      <td>...</td>\n      <td>...</td>\n      <td>...</td>\n      <td>...</td>\n      <td>...</td>\n      <td>...</td>\n      <td>...</td>\n      <td>...</td>\n      <td>...</td>\n      <td>...</td>\n      <td>...</td>\n    </tr>\n    <tr>\n      <th>88120</th>\n      <td>4 lights in formation over Tempe appear while ...</td>\n      <td>Tempe</td>\n      <td>AZ</td>\n      <td>2019-10-02 20:00:00</td>\n      <td>formation</td>\n      <td>3 minutes</td>\n      <td>Occurred : 10/2/2019 20:00  (Entered as : 10/2...</td>\n      <td>http://www.nuforc.org/webreports/149/S149463.html</td>\n      <td>4 lights in formation over Tempe appear while ...</td>\n      <td>2019-10-04T00:00:00</td>\n      <td>33.414036</td>\n      <td>-111.920920</td>\n    </tr>\n    <tr>\n      <th>88121</th>\n      <td>2 bright star like lights in the NNW skys,  ((...</td>\n      <td>Bolivar</td>\n      <td>MO</td>\n      <td>2019-10-02 20:00:00</td>\n      <td>light</td>\n      <td>20 seconds</td>\n      <td>Occurred : 10/2/2019 20:00  (Entered as : 10/0...</td>\n      <td>http://www.nuforc.org/webreports/149/S149405.html</td>\n      <td>2 bright star like lights in the NNW sky two b...</td>\n      <td>2019-10-04T00:00:00</td>\n      <td>37.642200</td>\n      <td>-93.399600</td>\n    </tr>\n    <tr>\n      <th>88122</th>\n      <td>I just witnessed a ‘Phoenix Lights’ type of fo...</td>\n      <td>North Port</td>\n      <td>FL</td>\n      <td>2019-10-02 20:03:00</td>\n      <td>formation</td>\n      <td>20 seconds</td>\n      <td>Occurred : 10/2/2019 20:03  (Entered as : 10/0...</td>\n      <td>http://www.nuforc.org/webreports/149/S149424.html</td>\n      <td>10/2/19 @ 8:03PM EST  UFO SIGHTING in the 3428...</td>\n      <td>2019-10-04T00:00:00</td>\n      <td>27.076210</td>\n      <td>-82.223280</td>\n    </tr>\n    <tr>\n      <th>88123</th>\n      <td>Witnessed an orange, slow moving light. Was lo...</td>\n      <td>Black Mountain</td>\n      <td>NC</td>\n      <td>2019-10-02 22:00:00</td>\n      <td>fireball</td>\n      <td>2 minutes</td>\n      <td>Occurred : 10/2/2019 22:00  (Entered as : 10/0...</td>\n      <td>http://www.nuforc.org/webreports/149/S149447.html</td>\n      <td>Witnessed an orange, slow moving light. Was lo...</td>\n      <td>2019-10-04T00:00:00</td>\n      <td>35.605000</td>\n      <td>-82.313200</td>\n    </tr>\n    <tr>\n      <th>88124</th>\n      <td>Glowing lights in formation  just south of San...</td>\n      <td>Marin County</td>\n      <td>CA</td>\n      <td>2019-10-02 22:00:00</td>\n      <td>sphere</td>\n      <td>3 minutes</td>\n      <td>Occurred : 10/2/2019 22:00  (Entered as : 10-0...</td>\n      <td>http://www.nuforc.org/webreports/149/S149436.html</td>\n      <td>Glowing lights in formation  just south of San...</td>\n      <td>2019-10-04T00:00:00</td>\n      <td>NaN</td>\n      <td>NaN</td>\n    </tr>\n  </tbody>\n</table>\n<p>88125 rows × 12 columns</p>\n</div>"
     },
     "execution_count": 5,
     "metadata": {},
     "output_type": "execute_result"
    }
   ],
   "source": [
    "pd.read_csv(\"data/nuforc_reports.csv\", parse_dates=[\"date_time\"])"
   ],
   "metadata": {
    "collapsed": false
   }
  },
  {
   "cell_type": "code",
   "execution_count": 6,
   "outputs": [],
   "source": [
    "ufos = pd.read_csv(\"data/nuforc_reports.csv\", parse_dates=[\"date_time\"])"
   ],
   "metadata": {
    "collapsed": false
   }
  },
  {
   "cell_type": "code",
   "execution_count": 17,
   "outputs": [
    {
     "name": "stdout",
     "output_type": "stream",
     "text": [
      "<class 'pandas.core.frame.DataFrame'>\n",
      "RangeIndex: 88125 entries, 0 to 88124\n",
      "Data columns (total 12 columns):\n",
      " #   Column          Non-Null Count  Dtype         \n",
      "---  ------          --------------  -----         \n",
      " 0   summary         88095 non-null  object        \n",
      " 1   city            87891 non-null  object        \n",
      " 2   state           82890 non-null  object        \n",
      " 3   date_time       86938 non-null  datetime64[ns]\n",
      " 4   shape           85627 non-null  object        \n",
      " 5   duration        84954 non-null  object        \n",
      " 6   stats           88088 non-null  object        \n",
      " 7   report_link     88125 non-null  object        \n",
      " 8   text            88070 non-null  object        \n",
      " 9   posted          86938 non-null  object        \n",
      " 10  city_latitude   72013 non-null  float64       \n",
      " 11  city_longitude  72013 non-null  float64       \n",
      "dtypes: datetime64[ns](1), float64(2), object(9)\n",
      "memory usage: 8.1+ MB\n"
     ]
    }
   ],
   "source": [
    "ufos.info()"
   ],
   "metadata": {
    "collapsed": false
   }
  },
  {
   "cell_type": "code",
   "execution_count": 18,
   "outputs": [
    {
     "data": {
      "text/plain": "2014.0    8704\n2012.0    8124\n2013.0    7823\n2015.0    6915\n2019.0    5767\n2016.0    5664\n2011.0    5630\n2008.0    5307\n2017.0    5057\n2009.0    4996\n2010.0    4786\n2007.0    4736\n2006.0    3720\n2018.0    3273\n2005.0     566\n2004.0     340\n1997.0     300\n2001.0     263\n2000.0     243\n2003.0     238\n1998.0     229\n2002.0     220\n1999.0     220\n1995.0     219\n1996.0     200\n1994.0     197\n1978.0     195\n1975.0     180\n1977.0     169\n1976.0     164\n1974.0     148\n1979.0     148\n1993.0     148\n1988.0     147\n1973.0     138\n1985.0     133\n1990.0     132\n1989.0     131\n1980.0     131\n1992.0     130\n1987.0     124\n1991.0     119\n1986.0     111\n1983.0     109\n1981.0     106\n1970.0     100\n1982.0      97\n1969.0      97\n1972.0      92\n1984.0      84\n1971.0      68\nName: date_time, dtype: int64"
     },
     "execution_count": 18,
     "metadata": {},
     "output_type": "execute_result"
    }
   ],
   "source": [
    "ufos[\"date_time\"].dt.year.value_counts()"
   ],
   "metadata": {
    "collapsed": false
   }
  },
  {
   "cell_type": "code",
   "execution_count": 7,
   "outputs": [
    {
     "data": {
      "text/plain": "<Figure size 432x288 with 1 Axes>",
      "image/png": "[encoded data removed]"
     },
     "metadata": {
      "needs_background": "light"
     },
     "output_type": "display_data"
    }
   ],
   "source": [
    "ufos[\"date_time\"].dt.year.value_counts().head(12).plot(kind=\"bar\");"
   ],
   "metadata": {
    "collapsed": false
   }
  },
  {
   "cell_type": "code",
   "execution_count": 20,
   "outputs": [
    {
     "data": {
      "text/plain": "0        12.0\n1         3.0\n2         NaN\n3         4.0\n4         3.0\n         ... \n88120    10.0\n88121    10.0\n88122    10.0\n88123    10.0\n88124    10.0\nName: date_time, Length: 88125, dtype: float64"
     },
     "execution_count": 20,
     "metadata": {},
     "output_type": "execute_result"
    }
   ],
   "source": [
    "ufos[\"date_time\"].dt.month"
   ],
   "metadata": {
    "collapsed": false
   }
  },
  {
   "cell_type": "code",
   "execution_count": 21,
   "outputs": [
    {
     "data": {
      "text/plain": "7.0     10682\n8.0      8997\n9.0      8498\n10.0     8371\n6.0      8357\n11.0     7596\n12.0     6525\n5.0      6063\n1.0      5979\n4.0      5817\n3.0      5494\n2.0      4559\nName: date_time, dtype: int64"
     },
     "execution_count": 21,
     "metadata": {},
     "output_type": "execute_result"
    }
   ],
   "source": [
    "ufos[\"date_time\"].dt.month.value_counts()"
   ],
   "metadata": {
    "collapsed": false
   }
  },
  {
   "cell_type": "code",
   "execution_count": 22,
   "outputs": [
    {
     "data": {
      "text/plain": "1.0     4852\n15.0    4403\n4.0     3864\n20.0    3016\n12.0    2945\n10.0    2923\n24.0    2831\n25.0    2805\n30.0    2793\n7.0     2776\n5.0     2755\n14.0    2739\n22.0    2723\n3.0     2708\n19.0    2681\n18.0    2678\n11.0    2639\n8.0     2635\n23.0    2634\n13.0    2634\n17.0    2607\n21.0    2602\n16.0    2598\n6.0     2578\n28.0    2555\n27.0    2531\n9.0     2443\n26.0    2430\n2.0     2425\n29.0    2364\n31.0    1771\nName: date_time, dtype: int64"
     },
     "execution_count": 22,
     "metadata": {},
     "output_type": "execute_result"
    }
   ],
   "source": [
    "ufos[\"date_time\"].dt.day.value_counts()"
   ],
   "metadata": {
    "collapsed": false
   }
  },
  {
   "cell_type": "code",
   "execution_count": 23,
   "outputs": [
    {
     "data": {
      "text/plain": "0        18.0\n1        18.0\n2         NaN\n3         2.0\n4        18.0\n         ... \n88120    20.0\n88121    20.0\n88122    20.0\n88123    22.0\n88124    22.0\nName: date_time, Length: 88125, dtype: float64"
     },
     "execution_count": 23,
     "metadata": {},
     "output_type": "execute_result"
    }
   ],
   "source": [
    "ufos[\"date_time\"].dt.hour"
   ],
   "metadata": {
    "collapsed": false
   }
  },
  {
   "cell_type": "code",
   "execution_count": 24,
   "outputs": [
    {
     "data": {
      "text/plain": "21.0    12851\n22.0    11660\n20.0     9565\n23.0     8194\n19.0     6460\n0.0      5577\n18.0     4462\n1.0      3285\n17.0     2660\n2.0      2216\n3.0      2088\n5.0      1874\n4.0      1641\n16.0     1612\n6.0      1588\n12.0     1408\n15.0     1380\n10.0     1334\n13.0     1308\n11.0     1301\n14.0     1280\n9.0      1126\n7.0      1067\n8.0      1001\nName: date_time, dtype: int64"
     },
     "execution_count": 24,
     "metadata": {},
     "output_type": "execute_result"
    }
   ],
   "source": [
    "ufos[\"date_time\"].dt.hour.value_counts()"
   ],
   "metadata": {
    "collapsed": false
   }
  },
  {
   "cell_type": "code",
   "execution_count": 25,
   "outputs": [
    {
     "data": {
      "text/plain": "<Figure size 432x288 with 1 Axes>",
      "image/png": "[encoded data removed]"
     },
     "metadata": {
      "needs_background": "light"
     },
     "output_type": "display_data"
    }
   ],
   "source": [
    "ufos[\"date_time\"].dt.hour.value_counts().plot(kind=\"bar\");"
   ],
   "metadata": {
    "collapsed": false
   }
  },
  {
   "cell_type": "code",
   "execution_count": 26,
   "outputs": [
    {
     "data": {
      "text/plain": "0        3.0\n1        4.0\n2        NaN\n3        2.0\n4        6.0\n        ... \n88120    2.0\n88121    2.0\n88122    2.0\n88123    2.0\n88124    2.0\nName: date_time, Length: 88125, dtype: float64"
     },
     "execution_count": 26,
     "metadata": {},
     "output_type": "execute_result"
    }
   ],
   "source": [
    "ufos[\"date_time\"].dt.dayofweek"
   ],
   "metadata": {
    "collapsed": false
   }
  },
  {
   "cell_type": "code",
   "execution_count": 8,
   "outputs": [
    {
     "data": {
      "text/plain": "5.0    16305\n4.0    12864\n6.0    12652\n3.0    11729\n2.0    11646\n1.0    10987\n0.0    10755\nName: date_time, dtype: int64"
     },
     "execution_count": 8,
     "metadata": {},
     "output_type": "execute_result"
    }
   ],
   "source": [
    "ufos[\"date_time\"].dt.dayofweek.value_counts()"
   ],
   "metadata": {
    "collapsed": false
   }
  },
  {
   "cell_type": "code",
   "execution_count": 9,
   "outputs": [
    {
     "data": {
      "text/plain": "0       2019-12-12 18:43:00\n1       2019-03-22 18:30:00\n2                       NaT\n3       2019-04-17 02:00:00\n4       2009-03-15 18:00:00\n                ...        \n88120   2019-10-02 20:00:00\n88121   2019-10-02 20:00:00\n88122   2019-10-02 20:03:00\n88123   2019-10-02 22:00:00\n88124   2019-10-02 22:00:00\nName: date_time, Length: 88125, dtype: datetime64[ns]"
     },
     "execution_count": 9,
     "metadata": {},
     "output_type": "execute_result"
    }
   ],
   "source": [
    "ufos[\"date_time\"]"
   ],
   "metadata": {
    "collapsed": false
   }
  },
  {
   "cell_type": "code",
   "execution_count": 10,
   "outputs": [
    {
     "data": {
      "text/plain": "0        False\n1        False\n2        False\n3        False\n4        False\n         ...  \n88120    False\n88121    False\n88122    False\n88123    False\n88124    False\nName: date_time, Length: 88125, dtype: bool"
     },
     "execution_count": 10,
     "metadata": {},
     "output_type": "execute_result"
    }
   ],
   "source": [
    "ufos[\"date_time\"] < \"1980\""
   ],
   "metadata": {
    "collapsed": false
   }
  },
  {
   "cell_type": "code",
   "execution_count": 11,
   "outputs": [
    {
     "data": {
      "text/plain": "                                                 summary  \\\n8      Ufos report in Irving Texas at 2200 hrs. On or...   \n15        Strange bright light hovered over mobile home.   \n31     Bright green round object quickly travelling e...   \n54     It was a full moon when my brother and I obser...   \n55              UFO over Orangevale, CA in May/June 1969   \n...                                                  ...   \n87166  VERY LARGE OBJECT- WHITE LIGHT ILLUMINATING MY...   \n87167  7 \"PEARLESCENT\" HIGH ALTITUDE CRAFT IN V FORMA...   \n87168  The even occurred North of Mt Calvary Rd on Ol...   \n87169  Triangle ship passed over silent with 7 green ...   \n87170  While trick or treating with Mom, my Grandma p...   \n\n                        city state           date_time     shape  \\\n8                     Dallas    TX 1973-07-14 22:00:00      oval   \n15                Gray Court    SC 1975-07-17 00:00:00     light   \n31     N. Cascades Nat. Park    WA 1979-07-15 23:00:00     light   \n54              Lawrenceburg    KY 1969-06-01 21:00:00      disk   \n55                Orangevale    CA 1969-06-01 23:00:00   unknown   \n...                      ...   ...                 ...       ...   \n87166                  Anoka    MN 1976-06-30 21:00:00     light   \n87167             Long Beach    CA 1976-11-18 13:00:00    circle   \n87168            Thomasville    NC 1977-04-14 23:00:00      disk   \n87169              Stratford    TX 1977-07-06 11:45:00  triangle   \n87170              Deer Park    OH 1977-10-31 19:00:00  fireball   \n\n               duration                                              stats  \\\n8             6 minutes  Occurred : 7/14/1973 22:00  (Entered as : 07/1...   \n15            5 minutes  Occurred : 7/17/1975 00:00  (Entered as : 07/1...   \n31            2x ~10sec  Occurred : 7/15/1979 23:00  (Entered as : 07/1...   \n54            5 minutes  Occurred : 6/1/1969 21:00  (Entered as : 1969 ...   \n55     30 to 45 minutes  Occurred : 6/1/1969 23:00  (Entered as : 06/01...   \n...                 ...                                                ...   \n87166         5 minutes  Occurred : 6/30/1976 21:00  (Entered as : 22:0...   \n87167        20 seconds  Occurred : 11/18/1976 13:00  (Entered as : 11/...   \n87168        10 minutes  Occurred : 4/14/1977 23:00  (Entered as : 4/14...   \n87169        10 minutes  Occurred : 7/6/1977 11:45  (Entered as : 07/06...   \n87170         5 minutes  Occurred : 10/31/1977 19:00  (Entered as : 10/...   \n\n                                             report_link  \\\n8      http://www.nuforc.org/webreports/145/S145751.html   \n15     http://www.nuforc.org/webreports/147/S147117.html   \n31      http://www.nuforc.org/webreports/050/S50300.html   \n54      http://www.nuforc.org/webreports/049/S49947.html   \n55      http://www.nuforc.org/webreports/049/S49619.html   \n...                                                  ...   \n87166  http://www.nuforc.org/webreports/149/S149050.html   \n87167  http://www.nuforc.org/webreports/149/S149389.html   \n87168  http://www.nuforc.org/webreports/149/S149395.html   \n87169  http://www.nuforc.org/webreports/149/S149474.html   \n87170  http://www.nuforc.org/webreports/149/S149458.html   \n\n                                                    text               posted  \\\n8      Ufos report in Irving Texas at 2200 hrs.  On o...  2019-04-25T00:00:00   \n15     Strange bright light hovered over mobile home....  2019-07-05T00:00:00   \n31     Bright green round object quickly travelling e...  2006-05-15T00:00:00   \n54     It was a full moon when my brother and I obser...  2006-05-15T00:00:00   \n55     UFO over Orangevale, CA in May/June 1969 My fi...  2006-05-15T00:00:00   \n...                                                  ...                  ...   \n87166  VERY LARGE OBJECT- WHITE LIGHT ILLUMINATING MY...  2019-10-04T00:00:00   \n87167  7 \"PEARLESCENT\" HIGH ALTITUDE CRAFT IN V FORMA...  2019-10-04T00:00:00   \n87168  The even occurred North of Mt Calvary Rd on Ol...  2019-10-04T00:00:00   \n87169  Triangle ship passed over silent with 7 green ...  2019-10-04T00:00:00   \n87170  While trick or treating with Mom, my Grandma p...  2019-10-04T00:00:00   \n\n       city_latitude  city_longitude  \n8          32.835168      -96.808118  \n15         34.578800      -82.114100  \n31               NaN             NaN  \n54         38.005200      -84.983000  \n55         38.684500     -121.222300  \n...              ...             ...  \n87166      45.287400      -93.433600  \n87167      33.790023     -118.173105  \n87168      35.882600      -80.082000  \n87169      36.277900     -102.015600  \n87170            NaN             NaN  \n\n[1499 rows x 12 columns]",
      "text/html": "<div>\n<style scoped>\n    .dataframe tbody tr th:only-of-type {\n        vertical-align: middle;\n    }\n\n    .dataframe tbody tr th {\n        vertical-align: top;\n    }\n\n    .dataframe thead th {\n        text-align: right;\n    }\n</style>\n<table border=\"1\" class=\"dataframe\">\n  <thead>\n    <tr style=\"text-align: right;\">\n      <th></th>\n      <th>summary</th>\n      <th>city</th>\n      <th>state</th>\n      <th>date_time</th>\n      <th>shape</th>\n      <th>duration</th>\n      <th>stats</th>\n      <th>report_link</th>\n      <th>text</th>\n      <th>posted</th>\n      <th>city_latitude</th>\n      <th>city_longitude</th>\n    </tr>\n  </thead>\n  <tbody>\n    <tr>\n      <th>8</th>\n      <td>Ufos report in Irving Texas at 2200 hrs. On or...</td>\n      <td>Dallas</td>\n      <td>TX</td>\n      <td>1973-07-14 22:00:00</td>\n      <td>oval</td>\n      <td>6 minutes</td>\n      <td>Occurred : 7/14/1973 22:00  (Entered as : 07/1...</td>\n      <td>http://www.nuforc.org/webreports/145/S145751.html</td>\n      <td>Ufos report in Irving Texas at 2200 hrs.  On o...</td>\n      <td>2019-04-25T00:00:00</td>\n      <td>32.835168</td>\n      <td>-96.808118</td>\n    </tr>\n    <tr>\n      <th>15</th>\n      <td>Strange bright light hovered over mobile home.</td>\n      <td>Gray Court</td>\n      <td>SC</td>\n      <td>1975-07-17 00:00:00</td>\n      <td>light</td>\n      <td>5 minutes</td>\n      <td>Occurred : 7/17/1975 00:00  (Entered as : 07/1...</td>\n      <td>http://www.nuforc.org/webreports/147/S147117.html</td>\n      <td>Strange bright light hovered over mobile home....</td>\n      <td>2019-07-05T00:00:00</td>\n      <td>34.578800</td>\n      <td>-82.114100</td>\n    </tr>\n    <tr>\n      <th>31</th>\n      <td>Bright green round object quickly travelling e...</td>\n      <td>N. Cascades Nat. Park</td>\n      <td>WA</td>\n      <td>1979-07-15 23:00:00</td>\n      <td>light</td>\n      <td>2x ~10sec</td>\n      <td>Occurred : 7/15/1979 23:00  (Entered as : 07/1...</td>\n      <td>http://www.nuforc.org/webreports/050/S50300.html</td>\n      <td>Bright green round object quickly travelling e...</td>\n      <td>2006-05-15T00:00:00</td>\n      <td>NaN</td>\n      <td>NaN</td>\n    </tr>\n    <tr>\n      <th>54</th>\n      <td>It was a full moon when my brother and I obser...</td>\n      <td>Lawrenceburg</td>\n      <td>KY</td>\n      <td>1969-06-01 21:00:00</td>\n      <td>disk</td>\n      <td>5 minutes</td>\n      <td>Occurred : 6/1/1969 21:00  (Entered as : 1969 ...</td>\n      <td>http://www.nuforc.org/webreports/049/S49947.html</td>\n      <td>It was a full moon when my brother and I obser...</td>\n      <td>2006-05-15T00:00:00</td>\n      <td>38.005200</td>\n      <td>-84.983000</td>\n    </tr>\n    <tr>\n      <th>55</th>\n      <td>UFO over Orangevale, CA in May/June 1969</td>\n      <td>Orangevale</td>\n      <td>CA</td>\n      <td>1969-06-01 23:00:00</td>\n      <td>unknown</td>\n      <td>30 to 45 minutes</td>\n      <td>Occurred : 6/1/1969 23:00  (Entered as : 06/01...</td>\n      <td>http://www.nuforc.org/webreports/049/S49619.html</td>\n      <td>UFO over Orangevale, CA in May/June 1969 My fi...</td>\n      <td>2006-05-15T00:00:00</td>\n      <td>38.684500</td>\n      <td>-121.222300</td>\n    </tr>\n    <tr>\n      <th>...</th>\n      <td>...</td>\n      <td>...</td>\n      <td>...</td>\n      <td>...</td>\n      <td>...</td>\n      <td>...</td>\n      <td>...</td>\n      <td>...</td>\n      <td>...</td>\n      <td>...</td>\n      <td>...</td>\n      <td>...</td>\n    </tr>\n    <tr>\n      <th>87166</th>\n      <td>VERY LARGE OBJECT- WHITE LIGHT ILLUMINATING MY...</td>\n      <td>Anoka</td>\n      <td>MN</td>\n      <td>1976-06-30 21:00:00</td>\n      <td>light</td>\n      <td>5 minutes</td>\n      <td>Occurred : 6/30/1976 21:00  (Entered as : 22:0...</td>\n      <td>http://www.nuforc.org/webreports/149/S149050.html</td>\n      <td>VERY LARGE OBJECT- WHITE LIGHT ILLUMINATING MY...</td>\n      <td>2019-10-04T00:00:00</td>\n      <td>45.287400</td>\n      <td>-93.433600</td>\n    </tr>\n    <tr>\n      <th>87167</th>\n      <td>7 \"PEARLESCENT\" HIGH ALTITUDE CRAFT IN V FORMA...</td>\n      <td>Long Beach</td>\n      <td>CA</td>\n      <td>1976-11-18 13:00:00</td>\n      <td>circle</td>\n      <td>20 seconds</td>\n      <td>Occurred : 11/18/1976 13:00  (Entered as : 11/...</td>\n      <td>http://www.nuforc.org/webreports/149/S149389.html</td>\n      <td>7 \"PEARLESCENT\" HIGH ALTITUDE CRAFT IN V FORMA...</td>\n      <td>2019-10-04T00:00:00</td>\n      <td>33.790023</td>\n      <td>-118.173105</td>\n    </tr>\n    <tr>\n      <th>87168</th>\n      <td>The even occurred North of Mt Calvary Rd on Ol...</td>\n      <td>Thomasville</td>\n      <td>NC</td>\n      <td>1977-04-14 23:00:00</td>\n      <td>disk</td>\n      <td>10 minutes</td>\n      <td>Occurred : 4/14/1977 23:00  (Entered as : 4/14...</td>\n      <td>http://www.nuforc.org/webreports/149/S149395.html</td>\n      <td>The even occurred North of Mt Calvary Rd on Ol...</td>\n      <td>2019-10-04T00:00:00</td>\n      <td>35.882600</td>\n      <td>-80.082000</td>\n    </tr>\n    <tr>\n      <th>87169</th>\n      <td>Triangle ship passed over silent with 7 green ...</td>\n      <td>Stratford</td>\n      <td>TX</td>\n      <td>1977-07-06 11:45:00</td>\n      <td>triangle</td>\n      <td>10 minutes</td>\n      <td>Occurred : 7/6/1977 11:45  (Entered as : 07/06...</td>\n      <td>http://www.nuforc.org/webreports/149/S149474.html</td>\n      <td>Triangle ship passed over silent with 7 green ...</td>\n      <td>2019-10-04T00:00:00</td>\n      <td>36.277900</td>\n      <td>-102.015600</td>\n    </tr>\n    <tr>\n      <th>87170</th>\n      <td>While trick or treating with Mom, my Grandma p...</td>\n      <td>Deer Park</td>\n      <td>OH</td>\n      <td>1977-10-31 19:00:00</td>\n      <td>fireball</td>\n      <td>5 minutes</td>\n      <td>Occurred : 10/31/1977 19:00  (Entered as : 10/...</td>\n      <td>http://www.nuforc.org/webreports/149/S149458.html</td>\n      <td>While trick or treating with Mom, my Grandma p...</td>\n      <td>2019-10-04T00:00:00</td>\n      <td>NaN</td>\n      <td>NaN</td>\n    </tr>\n  </tbody>\n</table>\n<p>1499 rows × 12 columns</p>\n</div>"
     },
     "execution_count": 11,
     "metadata": {},
     "output_type": "execute_result"
    }
   ],
   "source": [
    "ufos[ufos[\"date_time\"] < \"1980\"]"
   ],
   "metadata": {
    "collapsed": false
   }
  },
  {
   "cell_type": "code",
   "execution_count": 12,
   "outputs": [
    {
     "data": {
      "text/plain": "                                                 summary        city state  \\\n85714  7-8 elongated objects flying in straight line ...  Wilmington    NC   \n\n                date_time  shape    duration  \\\n85714 2019-12-29 20:40:00  cigar  10 seconds   \n\n                                                   stats  \\\n85714  Occurred : 11/29/2019 20:40  (Entered as : 12/...   \n\n                                             report_link  \\\n85714  http://www.nuforc.org/webreports/151/S151158.html   \n\n                                                    text               posted  \\\n85714  7-8 elongated objects flying in straight line ...  2019-12-01T00:00:00   \n\n       city_latitude  city_longitude  \n85714      34.238375      -77.878468  ",
      "text/html": "<div>\n<style scoped>\n    .dataframe tbody tr th:only-of-type {\n        vertical-align: middle;\n    }\n\n    .dataframe tbody tr th {\n        vertical-align: top;\n    }\n\n    .dataframe thead th {\n        text-align: right;\n    }\n</style>\n<table border=\"1\" class=\"dataframe\">\n  <thead>\n    <tr style=\"text-align: right;\">\n      <th></th>\n      <th>summary</th>\n      <th>city</th>\n      <th>state</th>\n      <th>date_time</th>\n      <th>shape</th>\n      <th>duration</th>\n      <th>stats</th>\n      <th>report_link</th>\n      <th>text</th>\n      <th>posted</th>\n      <th>city_latitude</th>\n      <th>city_longitude</th>\n    </tr>\n  </thead>\n  <tbody>\n    <tr>\n      <th>85714</th>\n      <td>7-8 elongated objects flying in straight line ...</td>\n      <td>Wilmington</td>\n      <td>NC</td>\n      <td>2019-12-29 20:40:00</td>\n      <td>cigar</td>\n      <td>10 seconds</td>\n      <td>Occurred : 11/29/2019 20:40  (Entered as : 12/...</td>\n      <td>http://www.nuforc.org/webreports/151/S151158.html</td>\n      <td>7-8 elongated objects flying in straight line ...</td>\n      <td>2019-12-01T00:00:00</td>\n      <td>34.238375</td>\n      <td>-77.878468</td>\n    </tr>\n  </tbody>\n</table>\n</div>"
     },
     "execution_count": 12,
     "metadata": {},
     "output_type": "execute_result"
    }
   ],
   "source": [
    "ufos[ufos[\"date_time\"] > \"2019-12-23\"]"
   ],
   "metadata": {
    "collapsed": false
   }
  },
  {
   "cell_type": "code",
   "execution_count": 13,
   "outputs": [
    {
     "data": {
      "text/plain": "                                                 summary                city  \\\n15        Strange bright light hovered over mobile home.          Gray Court   \n16     There were 4 lights in diagonal formation that...           Yuba City   \n66                                             ODD SOUND  Essex (UK/England)   \n89     IT WAS IN THE SUMMER OF JULY-1977 WE HAD A WIN...           Rock Hill   \n103    flying saucer with colored light turning aroud...       Rouyn Noranda   \n...                                                  ...                 ...   \n88091  Was outside heard jet engines overhead sound a...              Eureka   \n88092  My mother and I have witnessed an M-shaped bli...         Bakersfield   \n88093  ((NUFORC Note:  Witness does not include any d...            Newburgh   \n88094  ((NUFORC Note:  Witness does not include any d...            Newburgh   \n88095  I spotted a circular object in the sky far awa...            St Louis   \n\n      state  date_time      shape    duration  \\\n15       SC 1975-07-17      light   5 minutes   \n16       CA 2019-08-17  formation  20 minutes   \n66      NaN 1972-05-07    unknown      3 mins   \n89       SC 1977-07-15       disk         NaN   \n103      QC 1982-06-01       disk      3 mins   \n...     ...        ...        ...         ...   \n88091    CA 2019-10-01   triangle  10 seconds   \n88092    CA 2019-10-01      other         NaN   \n88093    IN 2019-10-01    diamond         NaN   \n88094    IN 2019-10-01    diamond         NaN   \n88095    MO 2019-10-01    unknown  10 minutes   \n\n                                                   stats  \\\n15     Occurred : 7/17/1975 00:00  (Entered as : 07/1...   \n16     Occurred : 8/17/2019 00:00  (Entered as : 0817...   \n66     Occurred : 5/7/1972 00:00  (Entered as : 5/7/7...   \n89     Occurred : 7/15/1977   (Entered as : JULY]1977...   \n103    Occurred : 6/1/1982   (Entered as : 1982) Repo...   \n...                                                  ...   \n88091  Occurred : 10/1/2019  Reported: 10/1/2019 12:1...   \n88092  Occurred : 10/1/2019   (Entered as : 10/1/19) ...   \n88093  Occurred : 10/1/2019   (Entered as : 10/1/19) ...   \n88094  Occurred : 10/1/2019   (Entered as : 10/1/19) ...   \n88095  Occurred : 10/1/2019 00:00  (Entered as : 10/1...   \n\n                                             report_link  \\\n15     http://www.nuforc.org/webreports/147/S147117.html   \n16     http://www.nuforc.org/webreports/148/S148345.html   \n66      http://www.nuforc.org/webreports/050/S50480.html   \n89      http://www.nuforc.org/webreports/049/S49789.html   \n103     http://www.nuforc.org/webreports/050/S50475.html   \n...                                                  ...   \n88091  http://www.nuforc.org/webreports/149/S149378.html   \n88092  http://www.nuforc.org/webreports/149/S149411.html   \n88093  http://www.nuforc.org/webreports/149/S149375.html   \n88094  http://www.nuforc.org/webreports/149/S149374.html   \n88095  http://www.nuforc.org/webreports/149/S149379.html   \n\n                                                    text               posted  \\\n15     Strange bright light hovered over mobile home....  2019-07-05T00:00:00   \n16     There were 4 lights in diagonal formation that...  2019-08-23T00:00:00   \n66     ODD SOUND THE YEAR 1972   I WAS JUST GOING TO ...  2006-05-15T00:00:00   \n89     IT WAS IN THE SUMMER OF JULY-1977 WE HAD A WIN...  2006-05-15T00:00:00   \n103    Flying saucer with colored light turning aroud...  2006-05-15T00:00:00   \n...                                                  ...                  ...   \n88091  Was outside heard jet engines overhead sound a...  2019-10-04T00:00:00   \n88092  My mother and I have witnessed an M-shaped bli...  2019-10-04T00:00:00   \n88093  ((NUFORC Note:  Witness does not include any d...  2019-10-04T00:00:00   \n88094  ((NUFORC Note:  Witness does not include any d...  2019-10-04T00:00:00   \n88095  I spotted a circular object in the sky far awa...  2019-10-04T00:00:00   \n\n       city_latitude  city_longitude  \n15         34.578800      -82.114100  \n16         39.059811     -121.668256  \n66               NaN             NaN  \n89         34.945105      -81.054183  \n103              NaN             NaN  \n...              ...             ...  \n88091      40.761924     -124.135571  \n88092      35.343998     -119.040893  \n88093      37.956568      -87.352515  \n88094      37.956568      -87.352515  \n88095      38.623825      -90.308528  \n\n[5577 rows x 12 columns]",
      "text/html": "<div>\n<style scoped>\n    .dataframe tbody tr th:only-of-type {\n        vertical-align: middle;\n    }\n\n    .dataframe tbody tr th {\n        vertical-align: top;\n    }\n\n    .dataframe thead th {\n        text-align: right;\n    }\n</style>\n<table border=\"1\" class=\"dataframe\">\n  <thead>\n    <tr style=\"text-align: right;\">\n      <th></th>\n      <th>summary</th>\n      <th>city</th>\n      <th>state</th>\n      <th>date_time</th>\n      <th>shape</th>\n      <th>duration</th>\n      <th>stats</th>\n      <th>report_link</th>\n      <th>text</th>\n      <th>posted</th>\n      <th>city_latitude</th>\n      <th>city_longitude</th>\n    </tr>\n  </thead>\n  <tbody>\n    <tr>\n      <th>15</th>\n      <td>Strange bright light hovered over mobile home.</td>\n      <td>Gray Court</td>\n      <td>SC</td>\n      <td>1975-07-17</td>\n      <td>light</td>\n      <td>5 minutes</td>\n      <td>Occurred : 7/17/1975 00:00  (Entered as : 07/1...</td>\n      <td>http://www.nuforc.org/webreports/147/S147117.html</td>\n      <td>Strange bright light hovered over mobile home....</td>\n      <td>2019-07-05T00:00:00</td>\n      <td>34.578800</td>\n      <td>-82.114100</td>\n    </tr>\n    <tr>\n      <th>16</th>\n      <td>There were 4 lights in diagonal formation that...</td>\n      <td>Yuba City</td>\n      <td>CA</td>\n      <td>2019-08-17</td>\n      <td>formation</td>\n      <td>20 minutes</td>\n      <td>Occurred : 8/17/2019 00:00  (Entered as : 0817...</td>\n      <td>http://www.nuforc.org/webreports/148/S148345.html</td>\n      <td>There were 4 lights in diagonal formation that...</td>\n      <td>2019-08-23T00:00:00</td>\n      <td>39.059811</td>\n      <td>-121.668256</td>\n    </tr>\n    <tr>\n      <th>66</th>\n      <td>ODD SOUND</td>\n      <td>Essex (UK/England)</td>\n      <td>NaN</td>\n      <td>1972-05-07</td>\n      <td>unknown</td>\n      <td>3 mins</td>\n      <td>Occurred : 5/7/1972 00:00  (Entered as : 5/7/7...</td>\n      <td>http://www.nuforc.org/webreports/050/S50480.html</td>\n      <td>ODD SOUND THE YEAR 1972   I WAS JUST GOING TO ...</td>\n      <td>2006-05-15T00:00:00</td>\n      <td>NaN</td>\n      <td>NaN</td>\n    </tr>\n    <tr>\n      <th>89</th>\n      <td>IT WAS IN THE SUMMER OF JULY-1977 WE HAD A WIN...</td>\n      <td>Rock Hill</td>\n      <td>SC</td>\n      <td>1977-07-15</td>\n      <td>disk</td>\n      <td>NaN</td>\n      <td>Occurred : 7/15/1977   (Entered as : JULY]1977...</td>\n      <td>http://www.nuforc.org/webreports/049/S49789.html</td>\n      <td>IT WAS IN THE SUMMER OF JULY-1977 WE HAD A WIN...</td>\n      <td>2006-05-15T00:00:00</td>\n      <td>34.945105</td>\n      <td>-81.054183</td>\n    </tr>\n    <tr>\n      <th>103</th>\n      <td>flying saucer with colored light turning aroud...</td>\n      <td>Rouyn Noranda</td>\n      <td>QC</td>\n      <td>1982-06-01</td>\n      <td>disk</td>\n      <td>3 mins</td>\n      <td>Occurred : 6/1/1982   (Entered as : 1982) Repo...</td>\n      <td>http://www.nuforc.org/webreports/050/S50475.html</td>\n      <td>Flying saucer with colored light turning aroud...</td>\n      <td>2006-05-15T00:00:00</td>\n      <td>NaN</td>\n      <td>NaN</td>\n    </tr>\n    <tr>\n      <th>...</th>\n      <td>...</td>\n      <td>...</td>\n      <td>...</td>\n      <td>...</td>\n      <td>...</td>\n      <td>...</td>\n      <td>...</td>\n      <td>...</td>\n      <td>...</td>\n      <td>...</td>\n      <td>...</td>\n      <td>...</td>\n    </tr>\n    <tr>\n      <th>88091</th>\n      <td>Was outside heard jet engines overhead sound a...</td>\n      <td>Eureka</td>\n      <td>CA</td>\n      <td>2019-10-01</td>\n      <td>triangle</td>\n      <td>10 seconds</td>\n      <td>Occurred : 10/1/2019  Reported: 10/1/2019 12:1...</td>\n      <td>http://www.nuforc.org/webreports/149/S149378.html</td>\n      <td>Was outside heard jet engines overhead sound a...</td>\n      <td>2019-10-04T00:00:00</td>\n      <td>40.761924</td>\n      <td>-124.135571</td>\n    </tr>\n    <tr>\n      <th>88092</th>\n      <td>My mother and I have witnessed an M-shaped bli...</td>\n      <td>Bakersfield</td>\n      <td>CA</td>\n      <td>2019-10-01</td>\n      <td>other</td>\n      <td>NaN</td>\n      <td>Occurred : 10/1/2019   (Entered as : 10/1/19) ...</td>\n      <td>http://www.nuforc.org/webreports/149/S149411.html</td>\n      <td>My mother and I have witnessed an M-shaped bli...</td>\n      <td>2019-10-04T00:00:00</td>\n      <td>35.343998</td>\n      <td>-119.040893</td>\n    </tr>\n    <tr>\n      <th>88093</th>\n      <td>((NUFORC Note:  Witness does not include any d...</td>\n      <td>Newburgh</td>\n      <td>IN</td>\n      <td>2019-10-01</td>\n      <td>diamond</td>\n      <td>NaN</td>\n      <td>Occurred : 10/1/2019   (Entered as : 10/1/19) ...</td>\n      <td>http://www.nuforc.org/webreports/149/S149375.html</td>\n      <td>((NUFORC Note:  Witness does not include any d...</td>\n      <td>2019-10-04T00:00:00</td>\n      <td>37.956568</td>\n      <td>-87.352515</td>\n    </tr>\n    <tr>\n      <th>88094</th>\n      <td>((NUFORC Note:  Witness does not include any d...</td>\n      <td>Newburgh</td>\n      <td>IN</td>\n      <td>2019-10-01</td>\n      <td>diamond</td>\n      <td>NaN</td>\n      <td>Occurred : 10/1/2019   (Entered as : 10/1/19) ...</td>\n      <td>http://www.nuforc.org/webreports/149/S149374.html</td>\n      <td>((NUFORC Note:  Witness does not include any d...</td>\n      <td>2019-10-04T00:00:00</td>\n      <td>37.956568</td>\n      <td>-87.352515</td>\n    </tr>\n    <tr>\n      <th>88095</th>\n      <td>I spotted a circular object in the sky far awa...</td>\n      <td>St Louis</td>\n      <td>MO</td>\n      <td>2019-10-01</td>\n      <td>unknown</td>\n      <td>10 minutes</td>\n      <td>Occurred : 10/1/2019 00:00  (Entered as : 10/1...</td>\n      <td>http://www.nuforc.org/webreports/149/S149379.html</td>\n      <td>I spotted a circular object in the sky far awa...</td>\n      <td>2019-10-04T00:00:00</td>\n      <td>38.623825</td>\n      <td>-90.308528</td>\n    </tr>\n  </tbody>\n</table>\n<p>5577 rows × 12 columns</p>\n</div>"
     },
     "execution_count": 13,
     "metadata": {},
     "output_type": "execute_result"
    }
   ],
   "source": [
    "ufos[ufos[\"date_time\"].dt.hour == 0.0]"
   ],
   "metadata": {
    "collapsed": false
   }
  },
  {
   "cell_type": "code",
   "execution_count": 14,
   "outputs": [
    {
     "data": {
      "text/plain": "                                               summary         city state  \\\n3    I was driving towards the intersection of fall...       Ottawa    ON   \n14   Bright Circle of Light followed me from Oskalo...  Centerville    IA   \n148                              Strange Vibrations...    Indianola    IA   \n153  red ball ufo following small plane in tracy, c...        Tracy    CA   \n181  Silver disk flies through sky making zigzaggin...    Beaverton    OR   \n\n              date_time     shape     duration  \\\n3   2019-04-17 02:00:00  teardrop   10 seconds   \n14  1999-08-15 02:30:00    circle       1 hour   \n148 1992-04-30 02:00:00   unknown    5 Minutes   \n153 1993-06-15 02:00:00     light    3 minutes   \n181 2015-04-16 02:30:00      disk  5-8 minutes   \n\n                                                 stats  \\\n3    Occurred : 4/17/2019 02:00  (Entered as : 04-1...   \n14   Occurred : 8/15/1999 02:30  (Entered as : 08/1...   \n148  Occurred : 4/30/1992 02:00  (Entered as : 04/3...   \n153  Occurred : 6/15/1993 02:00  (Entered as : 1992...   \n181  Occurred : 4/16/2015 02:30  (Entered as : 4/16...   \n\n                                           report_link  \\\n3    http://www.nuforc.org/webreports/145/S145697.html   \n14   http://www.nuforc.org/webreports/146/S146702.html   \n148   http://www.nuforc.org/webreports/050/S50488.html   \n153   http://www.nuforc.org/webreports/049/S49607.html   \n181  http://www.nuforc.org/webreports/145/S145230.html   \n\n                                                  text               posted  \\\n3    I was driving towards the intersection of fall...  2019-04-18T00:00:00   \n14   Bright Circle of Light followed me from Oskalo...  2019-06-20T00:00:00   \n148  Strange Vibrations... When I was young; about ...  2006-05-15T00:00:00   \n153  red ball ufo following small plane in tracy, c...  2006-05-15T00:00:00   \n181  Silver disk flies through sky making zigzaggin...  2019-03-21T00:00:00   \n\n     city_latitude  city_longitude  \n3        45.381383      -75.708501  \n14       40.707400      -92.921300  \n148      41.306800      -93.582600  \n153      37.705000     -121.457715  \n181      45.483560     -122.837435  ",
      "text/html": "<div>\n<style scoped>\n    .dataframe tbody tr th:only-of-type {\n        vertical-align: middle;\n    }\n\n    .dataframe tbody tr th {\n        vertical-align: top;\n    }\n\n    .dataframe thead th {\n        text-align: right;\n    }\n</style>\n<table border=\"1\" class=\"dataframe\">\n  <thead>\n    <tr style=\"text-align: right;\">\n      <th></th>\n      <th>summary</th>\n      <th>city</th>\n      <th>state</th>\n      <th>date_time</th>\n      <th>shape</th>\n      <th>duration</th>\n      <th>stats</th>\n      <th>report_link</th>\n      <th>text</th>\n      <th>posted</th>\n      <th>city_latitude</th>\n      <th>city_longitude</th>\n    </tr>\n  </thead>\n  <tbody>\n    <tr>\n      <th>3</th>\n      <td>I was driving towards the intersection of fall...</td>\n      <td>Ottawa</td>\n      <td>ON</td>\n      <td>2019-04-17 02:00:00</td>\n      <td>teardrop</td>\n      <td>10 seconds</td>\n      <td>Occurred : 4/17/2019 02:00  (Entered as : 04-1...</td>\n      <td>http://www.nuforc.org/webreports/145/S145697.html</td>\n      <td>I was driving towards the intersection of fall...</td>\n      <td>2019-04-18T00:00:00</td>\n      <td>45.381383</td>\n      <td>-75.708501</td>\n    </tr>\n    <tr>\n      <th>14</th>\n      <td>Bright Circle of Light followed me from Oskalo...</td>\n      <td>Centerville</td>\n      <td>IA</td>\n      <td>1999-08-15 02:30:00</td>\n      <td>circle</td>\n      <td>1 hour</td>\n      <td>Occurred : 8/15/1999 02:30  (Entered as : 08/1...</td>\n      <td>http://www.nuforc.org/webreports/146/S146702.html</td>\n      <td>Bright Circle of Light followed me from Oskalo...</td>\n      <td>2019-06-20T00:00:00</td>\n      <td>40.707400</td>\n      <td>-92.921300</td>\n    </tr>\n    <tr>\n      <th>148</th>\n      <td>Strange Vibrations...</td>\n      <td>Indianola</td>\n      <td>IA</td>\n      <td>1992-04-30 02:00:00</td>\n      <td>unknown</td>\n      <td>5 Minutes</td>\n      <td>Occurred : 4/30/1992 02:00  (Entered as : 04/3...</td>\n      <td>http://www.nuforc.org/webreports/050/S50488.html</td>\n      <td>Strange Vibrations... When I was young; about ...</td>\n      <td>2006-05-15T00:00:00</td>\n      <td>41.306800</td>\n      <td>-93.582600</td>\n    </tr>\n    <tr>\n      <th>153</th>\n      <td>red ball ufo following small plane in tracy, c...</td>\n      <td>Tracy</td>\n      <td>CA</td>\n      <td>1993-06-15 02:00:00</td>\n      <td>light</td>\n      <td>3 minutes</td>\n      <td>Occurred : 6/15/1993 02:00  (Entered as : 1992...</td>\n      <td>http://www.nuforc.org/webreports/049/S49607.html</td>\n      <td>red ball ufo following small plane in tracy, c...</td>\n      <td>2006-05-15T00:00:00</td>\n      <td>37.705000</td>\n      <td>-121.457715</td>\n    </tr>\n    <tr>\n      <th>181</th>\n      <td>Silver disk flies through sky making zigzaggin...</td>\n      <td>Beaverton</td>\n      <td>OR</td>\n      <td>2015-04-16 02:30:00</td>\n      <td>disk</td>\n      <td>5-8 minutes</td>\n      <td>Occurred : 4/16/2015 02:30  (Entered as : 4/16...</td>\n      <td>http://www.nuforc.org/webreports/145/S145230.html</td>\n      <td>Silver disk flies through sky making zigzaggin...</td>\n      <td>2019-03-21T00:00:00</td>\n      <td>45.483560</td>\n      <td>-122.837435</td>\n    </tr>\n  </tbody>\n</table>\n</div>"
     },
     "execution_count": 14,
     "metadata": {},
     "output_type": "execute_result"
    }
   ],
   "source": [
    "ufos[ufos[\"date_time\"].dt.hour == 2.0].head()"
   ],
   "metadata": {
    "collapsed": false
   }
  },
  {
   "cell_type": "code",
   "execution_count": 17,
   "outputs": [
    {
     "data": {
      "text/plain": "                                                 summary             city  \\\n152                           My diesel engine saved me?       Des Moines   \n153    red ball ufo following small plane in tracy, c...            Tracy   \n154                        Enormous UFO Arlington, Texas        Arlington   \n3254   Chrome sphere sighted South East of Bowling Gr...    Bowling Green   \n4171   After seeing this U.F.O i have become more ope...  Puebla (Mexico)   \n...                                                  ...              ...   \n83112  I noticed a disk shaped craft hovering slowly ...          Chelsea   \n84613  Craft in Lexington, teardrop shaped, near Univ...        Lexington   \n85772  Flaming object cross an open area between two ...     Severna Park   \n85773  Perfectly straight line left behind by a light...          Viroqua   \n87191  Dark winter night, while smoking out on back p...          Clifton   \n\n      state           date_time      shape         duration  \\\n152      IA 1993-06-15 00:00:00  rectangle     five minutes   \n153      CA 1993-06-15 02:00:00      light        3 minutes   \n154      TX 1993-12-01 14:00:00       oval  5 to 10 minutes   \n3254     KY 1993-10-15 14:30:00     sphere    10-15 minutes   \n4171    NaN 1993-01-15 01:00:00     circle       15 Minutes   \n...     ...                 ...        ...              ...   \n83112    QC 1993-06-16 14:26:00       disk      2-3 minutes   \n84613    KY 1993-07-01 12:00:00   teardrop              UKN   \n85772    MD 1993-06-01 14:00:00   fireball        9 seconds   \n85773    WI 1993-10-27 02:40:00      light        2 minutes   \n87191    NJ 1993-12-01 20:30:00     circle        6 minutes   \n\n                                                   stats  \\\n152    Occurred : 6/15/1993 00:00  (Entered as : ??/?...   \n153    Occurred : 6/15/1993 02:00  (Entered as : 1992...   \n154    Occurred : 12/1/1993 14:00  (Entered as : 12/1...   \n3254   Occurred : 10/15/1993 14:30  (Entered as : 10-...   \n4171   Occurred : 1/15/1993 01:00  (Entered as : 01/1...   \n...                                                  ...   \n83112  Occurred : 6/16/1993 14:26  (Entered as : 06/1...   \n84613  Occurred : 7/1/1993 12:00  (Entered as : 07/01...   \n85772  Occurred : 6/1/1993 14:00  (Entered as : 06/01...   \n85773  Occurred : 10/27/1993 02:40  (Entered as : 10/...   \n87191  Occurred : 12/1/1993 20:30  (Entered as : 12/0...   \n\n                                             report_link  \\\n152     http://www.nuforc.org/webreports/049/S49595.html   \n153     http://www.nuforc.org/webreports/049/S49607.html   \n154     http://www.nuforc.org/webreports/050/S50228.html   \n3254   http://www.nuforc.org/webreports/146/S146014.html   \n4171    http://www.nuforc.org/webreports/052/S52033.html   \n...                                                  ...   \n83112  http://www.nuforc.org/webreports/142/S142777.html   \n84613  http://www.nuforc.org/webreports/144/S144954.html   \n85772  http://www.nuforc.org/webreports/149/S149788.html   \n85773  http://www.nuforc.org/webreports/150/S150037.html   \n87191  http://www.nuforc.org/webreports/149/S149024.html   \n\n                                                    text               posted  \\\n152    My diesel engine saved me? It was summer, 1993...  2006-05-15T00:00:00   \n153    red ball ufo following small plane in tracy, c...  2006-05-15T00:00:00   \n154    Enormous UFO Arlington, Texas Although I have ...  2006-05-15T00:00:00   \n3254   Chrome sphere sighted South East of Bowling Gr...  2019-05-09T00:00:00   \n4171   After seeing this U.F.O i have become more ope...  2006-10-30T00:00:00   \n...                                                  ...                  ...   \n83112  It was a clear blue sky.  I was looking due No...  2018-08-22T00:00:00   \n84613  Craft in Lexington, teardrop shaped, near Univ...  2019-02-22T00:00:00   \n85772  Flaming object cross an open area between two ...  2019-12-01T00:00:00   \n85773  Perfectly straight line left behind by a light...  2019-12-01T00:00:00   \n87191  Dark winter night, while smoking out on back p...  2019-10-04T00:00:00   \n\n       city_latitude  city_longitude  \n152        41.599716      -93.618909  \n153        37.705000     -121.457715  \n154        32.707097      -97.123871  \n3254       37.032708      -86.419644  \n4171             NaN             NaN  \n...              ...             ...  \n83112            NaN             NaN  \n84613      38.008839      -84.477082  \n85772      39.073500      -76.565400  \n85773      43.529000      -90.916100  \n87191      40.862832      -74.147767  \n\n[149 rows x 12 columns]",
      "text/html": "<div>\n<style scoped>\n    .dataframe tbody tr th:only-of-type {\n        vertical-align: middle;\n    }\n\n    .dataframe tbody tr th {\n        vertical-align: top;\n    }\n\n    .dataframe thead th {\n        text-align: right;\n    }\n</style>\n<table border=\"1\" class=\"dataframe\">\n  <thead>\n    <tr style=\"text-align: right;\">\n      <th></th>\n      <th>summary</th>\n      <th>city</th>\n      <th>state</th>\n      <th>date_time</th>\n      <th>shape</th>\n      <th>duration</th>\n      <th>stats</th>\n      <th>report_link</th>\n      <th>text</th>\n      <th>posted</th>\n      <th>city_latitude</th>\n      <th>city_longitude</th>\n    </tr>\n  </thead>\n  <tbody>\n    <tr>\n      <th>152</th>\n      <td>My diesel engine saved me?</td>\n      <td>Des Moines</td>\n      <td>IA</td>\n      <td>1993-06-15 00:00:00</td>\n      <td>rectangle</td>\n      <td>five minutes</td>\n      <td>Occurred : 6/15/1993 00:00  (Entered as : ??/?...</td>\n      <td>http://www.nuforc.org/webreports/049/S49595.html</td>\n      <td>My diesel engine saved me? It was summer, 1993...</td>\n      <td>2006-05-15T00:00:00</td>\n      <td>41.599716</td>\n      <td>-93.618909</td>\n    </tr>\n    <tr>\n      <th>153</th>\n      <td>red ball ufo following small plane in tracy, c...</td>\n      <td>Tracy</td>\n      <td>CA</td>\n      <td>1993-06-15 02:00:00</td>\n      <td>light</td>\n      <td>3 minutes</td>\n      <td>Occurred : 6/15/1993 02:00  (Entered as : 1992...</td>\n      <td>http://www.nuforc.org/webreports/049/S49607.html</td>\n      <td>red ball ufo following small plane in tracy, c...</td>\n      <td>2006-05-15T00:00:00</td>\n      <td>37.705000</td>\n      <td>-121.457715</td>\n    </tr>\n    <tr>\n      <th>154</th>\n      <td>Enormous UFO Arlington, Texas</td>\n      <td>Arlington</td>\n      <td>TX</td>\n      <td>1993-12-01 14:00:00</td>\n      <td>oval</td>\n      <td>5 to 10 minutes</td>\n      <td>Occurred : 12/1/1993 14:00  (Entered as : 12/1...</td>\n      <td>http://www.nuforc.org/webreports/050/S50228.html</td>\n      <td>Enormous UFO Arlington, Texas Although I have ...</td>\n      <td>2006-05-15T00:00:00</td>\n      <td>32.707097</td>\n      <td>-97.123871</td>\n    </tr>\n    <tr>\n      <th>3254</th>\n      <td>Chrome sphere sighted South East of Bowling Gr...</td>\n      <td>Bowling Green</td>\n      <td>KY</td>\n      <td>1993-10-15 14:30:00</td>\n      <td>sphere</td>\n      <td>10-15 minutes</td>\n      <td>Occurred : 10/15/1993 14:30  (Entered as : 10-...</td>\n      <td>http://www.nuforc.org/webreports/146/S146014.html</td>\n      <td>Chrome sphere sighted South East of Bowling Gr...</td>\n      <td>2019-05-09T00:00:00</td>\n      <td>37.032708</td>\n      <td>-86.419644</td>\n    </tr>\n    <tr>\n      <th>4171</th>\n      <td>After seeing this U.F.O i have become more ope...</td>\n      <td>Puebla (Mexico)</td>\n      <td>NaN</td>\n      <td>1993-01-15 01:00:00</td>\n      <td>circle</td>\n      <td>15 Minutes</td>\n      <td>Occurred : 1/15/1993 01:00  (Entered as : 01/1...</td>\n      <td>http://www.nuforc.org/webreports/052/S52033.html</td>\n      <td>After seeing this U.F.O i have become more ope...</td>\n      <td>2006-10-30T00:00:00</td>\n      <td>NaN</td>\n      <td>NaN</td>\n    </tr>\n    <tr>\n      <th>...</th>\n      <td>...</td>\n      <td>...</td>\n      <td>...</td>\n      <td>...</td>\n      <td>...</td>\n      <td>...</td>\n      <td>...</td>\n      <td>...</td>\n      <td>...</td>\n      <td>...</td>\n      <td>...</td>\n      <td>...</td>\n    </tr>\n    <tr>\n      <th>83112</th>\n      <td>I noticed a disk shaped craft hovering slowly ...</td>\n      <td>Chelsea</td>\n      <td>QC</td>\n      <td>1993-06-16 14:26:00</td>\n      <td>disk</td>\n      <td>2-3 minutes</td>\n      <td>Occurred : 6/16/1993 14:26  (Entered as : 06/1...</td>\n      <td>http://www.nuforc.org/webreports/142/S142777.html</td>\n      <td>It was a clear blue sky.  I was looking due No...</td>\n      <td>2018-08-22T00:00:00</td>\n      <td>NaN</td>\n      <td>NaN</td>\n    </tr>\n    <tr>\n      <th>84613</th>\n      <td>Craft in Lexington, teardrop shaped, near Univ...</td>\n      <td>Lexington</td>\n      <td>KY</td>\n      <td>1993-07-01 12:00:00</td>\n      <td>teardrop</td>\n      <td>UKN</td>\n      <td>Occurred : 7/1/1993 12:00  (Entered as : 07/01...</td>\n      <td>http://www.nuforc.org/webreports/144/S144954.html</td>\n      <td>Craft in Lexington, teardrop shaped, near Univ...</td>\n      <td>2019-02-22T00:00:00</td>\n      <td>38.008839</td>\n      <td>-84.477082</td>\n    </tr>\n    <tr>\n      <th>85772</th>\n      <td>Flaming object cross an open area between two ...</td>\n      <td>Severna Park</td>\n      <td>MD</td>\n      <td>1993-06-01 14:00:00</td>\n      <td>fireball</td>\n      <td>9 seconds</td>\n      <td>Occurred : 6/1/1993 14:00  (Entered as : 06/01...</td>\n      <td>http://www.nuforc.org/webreports/149/S149788.html</td>\n      <td>Flaming object cross an open area between two ...</td>\n      <td>2019-12-01T00:00:00</td>\n      <td>39.073500</td>\n      <td>-76.565400</td>\n    </tr>\n    <tr>\n      <th>85773</th>\n      <td>Perfectly straight line left behind by a light...</td>\n      <td>Viroqua</td>\n      <td>WI</td>\n      <td>1993-10-27 02:40:00</td>\n      <td>light</td>\n      <td>2 minutes</td>\n      <td>Occurred : 10/27/1993 02:40  (Entered as : 10/...</td>\n      <td>http://www.nuforc.org/webreports/150/S150037.html</td>\n      <td>Perfectly straight line left behind by a light...</td>\n      <td>2019-12-01T00:00:00</td>\n      <td>43.529000</td>\n      <td>-90.916100</td>\n    </tr>\n    <tr>\n      <th>87191</th>\n      <td>Dark winter night, while smoking out on back p...</td>\n      <td>Clifton</td>\n      <td>NJ</td>\n      <td>1993-12-01 20:30:00</td>\n      <td>circle</td>\n      <td>6 minutes</td>\n      <td>Occurred : 12/1/1993 20:30  (Entered as : 12/0...</td>\n      <td>http://www.nuforc.org/webreports/149/S149024.html</td>\n      <td>Dark winter night, while smoking out on back p...</td>\n      <td>2019-10-04T00:00:00</td>\n      <td>40.862832</td>\n      <td>-74.147767</td>\n    </tr>\n  </tbody>\n</table>\n<p>149 rows × 12 columns</p>\n</div>"
     },
     "execution_count": 17,
     "metadata": {},
     "output_type": "execute_result"
    }
   ],
   "source": [
    "ufos[ufos[\"date_time\"].between(\"1993\", \"1994\")]"
   ],
   "metadata": {
    "collapsed": false
   }
  },
  {
   "cell_type": "code",
   "execution_count": 20,
   "outputs": [
    {
     "data": {
      "text/plain": "                        summary        city state  date_time      shape  \\\n152  My diesel engine saved me?  Des Moines    IA 1993-06-15  rectangle   \n\n         duration                                              stats  \\\n152  five minutes  Occurred : 6/15/1993 00:00  (Entered as : ??/?...   \n\n                                          report_link  \\\n152  http://www.nuforc.org/webreports/049/S49595.html   \n\n                                                  text               posted  \\\n152  My diesel engine saved me? It was summer, 1993...  2006-05-15T00:00:00   \n\n     city_latitude  city_longitude  \n152      41.599716      -93.618909  ",
      "text/html": "<div>\n<style scoped>\n    .dataframe tbody tr th:only-of-type {\n        vertical-align: middle;\n    }\n\n    .dataframe tbody tr th {\n        vertical-align: top;\n    }\n\n    .dataframe thead th {\n        text-align: right;\n    }\n</style>\n<table border=\"1\" class=\"dataframe\">\n  <thead>\n    <tr style=\"text-align: right;\">\n      <th></th>\n      <th>summary</th>\n      <th>city</th>\n      <th>state</th>\n      <th>date_time</th>\n      <th>shape</th>\n      <th>duration</th>\n      <th>stats</th>\n      <th>report_link</th>\n      <th>text</th>\n      <th>posted</th>\n      <th>city_latitude</th>\n      <th>city_longitude</th>\n    </tr>\n  </thead>\n  <tbody>\n    <tr>\n      <th>152</th>\n      <td>My diesel engine saved me?</td>\n      <td>Des Moines</td>\n      <td>IA</td>\n      <td>1993-06-15</td>\n      <td>rectangle</td>\n      <td>five minutes</td>\n      <td>Occurred : 6/15/1993 00:00  (Entered as : ??/?...</td>\n      <td>http://www.nuforc.org/webreports/049/S49595.html</td>\n      <td>My diesel engine saved me? It was summer, 1993...</td>\n      <td>2006-05-15T00:00:00</td>\n      <td>41.599716</td>\n      <td>-93.618909</td>\n    </tr>\n  </tbody>\n</table>\n</div>"
     },
     "execution_count": 20,
     "metadata": {},
     "output_type": "execute_result"
    }
   ],
   "source": [
    "ufos[ufos[\"date_time\"] == \"1993-06-15\"]"
   ],
   "metadata": {
    "collapsed": false
   }
  },
  {
   "cell_type": "code",
   "execution_count": 21,
   "outputs": [
    {
     "data": {
      "text/plain": "                                                 summary             city  \\\n5767   it was a triangle big black and had lights on ...       Huntington   \n71828  It happened while waiting for the school bus t...             Yuma   \n69298         Red light over Camp Pendleton, California.   Camp Pendleton   \n4171   After seeing this U.F.O i have become more ope...  Puebla (Mexico)   \n8959   how interesting this triangle. about 10 - 11 y...          Manteca   \n...                                                  ...              ...   \n16517                       Light over military aircraft     Indian Ocean   \n7027   I was about 10 years old at the time, I rememb...           Warren   \n5102   1993 Evening Ufo sighting over Ottumwa, Iowa. ...          Ottumwa   \n11198  I am in the military and know all form of airc...       Las Marias   \n50987                      What I'm seeing, please help.       El Segundo   \n\n      state           date_time      shape       duration  \\\n5767     NY 1993-01-01 20:00:00   triangle     30 seconds   \n71828    AZ 1993-01-02 06:00:00      other     20 minutes   \n69298    CA 1993-01-13 00:00:00      light  20-30 minutes   \n4171    NaN 1993-01-15 01:00:00     circle     15 Minutes   \n8959     CA 1993-01-26 00:00:00   triangle              ?   \n...     ...                 ...        ...            ...   \n16517   NaN 1993-12-01 22:00:00      light      5 seconds   \n7027     PA 1993-12-15 20:00:00   triangle        15 Mins   \n5102     IA 1993-12-19 18:00:00  formation   8-10 seconds   \n11198   NaN 1993-12-24 20:30:00      light         15 MIN   \n50987    CA 1994-01-01 00:00:00      other     30 minutes   \n\n                                                   stats  \\\n5767   Occurred : 1/1/1993 20:00  (Entered as : 1-93 ...   \n71828  Occurred :  06:00  (Entered as : O1/02/93 6:00...   \n69298  Occurred : 1/13/1993 00:00  (Entered as : 01/1...   \n4171   Occurred : 1/15/1993 01:00  (Entered as : 01/1...   \n8959   Occurred : 1/26/1993 00:00  (Entered as : 01/2...   \n...                                                  ...   \n16517  Occurred : 12/1/1993 22:00  (Entered as : Dec ...   \n7027   Occurred : 12/15/1993 20:00  (Entered as : 12/...   \n5102   Occurred : 12/19/1993 18:00  (Entered as : 12/...   \n11198  Occurred : 12/24/1993 20:30  (Entered as : 12/...   \n50987  Occurred : 1/1/1994 00:00  (Entered as : 01/01...   \n\n                                             report_link  \\\n5767    http://www.nuforc.org/webreports/054/S54343.html   \n71828  http://www.nuforc.org/webreports/127/S127132.html   \n69298  http://www.nuforc.org/webreports/125/S125879.html   \n4171    http://www.nuforc.org/webreports/052/S52033.html   \n8959    http://www.nuforc.org/webreports/050/S50823.html   \n...                                                  ...   \n16517   http://www.nuforc.org/webreports/069/S69144.html   \n7027    http://www.nuforc.org/webreports/055/S55987.html   \n5102    http://www.nuforc.org/webreports/061/S61663.html   \n11198   http://www.nuforc.org/webreports/062/S62544.html   \n50987  http://www.nuforc.org/webreports/103/S103810.html   \n\n                                                    text               posted  \\\n5767   it was a triangle big black and had lights on ...  2007-02-01T00:00:00   \n71828  It happened while waiting for the school bus t...  2016-05-06T00:00:00   \n69298  Red light over Camp Pendleton, California. I'm...  2016-02-19T00:00:00   \n4171   After seeing this U.F.O i have become more ope...  2006-10-30T00:00:00   \n8959   how interesting this triangle. about 10 - 11 y...  2006-07-16T00:00:00   \n...                                                  ...                  ...   \n16517  Light over military aircraft I am a U.S. Navy ...  2009-03-19T00:00:00   \n7027   I was about 10 years old at the time, I rememb...  2007-04-27T00:00:00   \n5102   1993 Evening Ufo sighting over Ottumwa, Iowa. ...  2008-03-04T00:00:00   \n11198  I am in the military and know all form of airc...  2008-04-17T00:00:00   \n50987  What I'm seeing, please help. I live in El Seg...  2013-11-11T00:00:00   \n\n       city_latitude  city_longitude  \n5767       40.871900      -73.434700  \n71828      32.703863     -114.590884  \n69298            NaN             NaN  \n4171             NaN             NaN  \n8959       37.774170     -121.225656  \n...              ...             ...  \n16517            NaN             NaN  \n7027       41.806140      -79.220372  \n5102       41.038700      -92.357900  \n11198            NaN             NaN  \n50987      33.916400     -118.404100  \n\n[149 rows x 12 columns]",
      "text/html": "<div>\n<style scoped>\n    .dataframe tbody tr th:only-of-type {\n        vertical-align: middle;\n    }\n\n    .dataframe tbody tr th {\n        vertical-align: top;\n    }\n\n    .dataframe thead th {\n        text-align: right;\n    }\n</style>\n<table border=\"1\" class=\"dataframe\">\n  <thead>\n    <tr style=\"text-align: right;\">\n      <th></th>\n      <th>summary</th>\n      <th>city</th>\n      <th>state</th>\n      <th>date_time</th>\n      <th>shape</th>\n      <th>duration</th>\n      <th>stats</th>\n      <th>report_link</th>\n      <th>text</th>\n      <th>posted</th>\n      <th>city_latitude</th>\n      <th>city_longitude</th>\n    </tr>\n  </thead>\n  <tbody>\n    <tr>\n      <th>5767</th>\n      <td>it was a triangle big black and had lights on ...</td>\n      <td>Huntington</td>\n      <td>NY</td>\n      <td>1993-01-01 20:00:00</td>\n      <td>triangle</td>\n      <td>30 seconds</td>\n      <td>Occurred : 1/1/1993 20:00  (Entered as : 1-93 ...</td>\n      <td>http://www.nuforc.org/webreports/054/S54343.html</td>\n      <td>it was a triangle big black and had lights on ...</td>\n      <td>2007-02-01T00:00:00</td>\n      <td>40.871900</td>\n      <td>-73.434700</td>\n    </tr>\n    <tr>\n      <th>71828</th>\n      <td>It happened while waiting for the school bus t...</td>\n      <td>Yuma</td>\n      <td>AZ</td>\n      <td>1993-01-02 06:00:00</td>\n      <td>other</td>\n      <td>20 minutes</td>\n      <td>Occurred :  06:00  (Entered as : O1/02/93 6:00...</td>\n      <td>http://www.nuforc.org/webreports/127/S127132.html</td>\n      <td>It happened while waiting for the school bus t...</td>\n      <td>2016-05-06T00:00:00</td>\n      <td>32.703863</td>\n      <td>-114.590884</td>\n    </tr>\n    <tr>\n      <th>69298</th>\n      <td>Red light over Camp Pendleton, California.</td>\n      <td>Camp Pendleton</td>\n      <td>CA</td>\n      <td>1993-01-13 00:00:00</td>\n      <td>light</td>\n      <td>20-30 minutes</td>\n      <td>Occurred : 1/13/1993 00:00  (Entered as : 01/1...</td>\n      <td>http://www.nuforc.org/webreports/125/S125879.html</td>\n      <td>Red light over Camp Pendleton, California. I'm...</td>\n      <td>2016-02-19T00:00:00</td>\n      <td>NaN</td>\n      <td>NaN</td>\n    </tr>\n    <tr>\n      <th>4171</th>\n      <td>After seeing this U.F.O i have become more ope...</td>\n      <td>Puebla (Mexico)</td>\n      <td>NaN</td>\n      <td>1993-01-15 01:00:00</td>\n      <td>circle</td>\n      <td>15 Minutes</td>\n      <td>Occurred : 1/15/1993 01:00  (Entered as : 01/1...</td>\n      <td>http://www.nuforc.org/webreports/052/S52033.html</td>\n      <td>After seeing this U.F.O i have become more ope...</td>\n      <td>2006-10-30T00:00:00</td>\n      <td>NaN</td>\n      <td>NaN</td>\n    </tr>\n    <tr>\n      <th>8959</th>\n      <td>how interesting this triangle. about 10 - 11 y...</td>\n      <td>Manteca</td>\n      <td>CA</td>\n      <td>1993-01-26 00:00:00</td>\n      <td>triangle</td>\n      <td>?</td>\n      <td>Occurred : 1/26/1993 00:00  (Entered as : 01/2...</td>\n      <td>http://www.nuforc.org/webreports/050/S50823.html</td>\n      <td>how interesting this triangle. about 10 - 11 y...</td>\n      <td>2006-07-16T00:00:00</td>\n      <td>37.774170</td>\n      <td>-121.225656</td>\n    </tr>\n    <tr>\n      <th>...</th>\n      <td>...</td>\n      <td>...</td>\n      <td>...</td>\n      <td>...</td>\n      <td>...</td>\n      <td>...</td>\n      <td>...</td>\n      <td>...</td>\n      <td>...</td>\n      <td>...</td>\n      <td>...</td>\n      <td>...</td>\n    </tr>\n    <tr>\n      <th>16517</th>\n      <td>Light over military aircraft</td>\n      <td>Indian Ocean</td>\n      <td>NaN</td>\n      <td>1993-12-01 22:00:00</td>\n      <td>light</td>\n      <td>5 seconds</td>\n      <td>Occurred : 12/1/1993 22:00  (Entered as : Dec ...</td>\n      <td>http://www.nuforc.org/webreports/069/S69144.html</td>\n      <td>Light over military aircraft I am a U.S. Navy ...</td>\n      <td>2009-03-19T00:00:00</td>\n      <td>NaN</td>\n      <td>NaN</td>\n    </tr>\n    <tr>\n      <th>7027</th>\n      <td>I was about 10 years old at the time, I rememb...</td>\n      <td>Warren</td>\n      <td>PA</td>\n      <td>1993-12-15 20:00:00</td>\n      <td>triangle</td>\n      <td>15 Mins</td>\n      <td>Occurred : 12/15/1993 20:00  (Entered as : 12/...</td>\n      <td>http://www.nuforc.org/webreports/055/S55987.html</td>\n      <td>I was about 10 years old at the time, I rememb...</td>\n      <td>2007-04-27T00:00:00</td>\n      <td>41.806140</td>\n      <td>-79.220372</td>\n    </tr>\n    <tr>\n      <th>5102</th>\n      <td>1993 Evening Ufo sighting over Ottumwa, Iowa. ...</td>\n      <td>Ottumwa</td>\n      <td>IA</td>\n      <td>1993-12-19 18:00:00</td>\n      <td>formation</td>\n      <td>8-10 seconds</td>\n      <td>Occurred : 12/19/1993 18:00  (Entered as : 12/...</td>\n      <td>http://www.nuforc.org/webreports/061/S61663.html</td>\n      <td>1993 Evening Ufo sighting over Ottumwa, Iowa. ...</td>\n      <td>2008-03-04T00:00:00</td>\n      <td>41.038700</td>\n      <td>-92.357900</td>\n    </tr>\n    <tr>\n      <th>11198</th>\n      <td>I am in the military and know all form of airc...</td>\n      <td>Las Marias</td>\n      <td>NaN</td>\n      <td>1993-12-24 20:30:00</td>\n      <td>light</td>\n      <td>15 MIN</td>\n      <td>Occurred : 12/24/1993 20:30  (Entered as : 12/...</td>\n      <td>http://www.nuforc.org/webreports/062/S62544.html</td>\n      <td>I am in the military and know all form of airc...</td>\n      <td>2008-04-17T00:00:00</td>\n      <td>NaN</td>\n      <td>NaN</td>\n    </tr>\n    <tr>\n      <th>50987</th>\n      <td>What I'm seeing, please help.</td>\n      <td>El Segundo</td>\n      <td>CA</td>\n      <td>1994-01-01 00:00:00</td>\n      <td>other</td>\n      <td>30 minutes</td>\n      <td>Occurred : 1/1/1994 00:00  (Entered as : 01/01...</td>\n      <td>http://www.nuforc.org/webreports/103/S103810.html</td>\n      <td>What I'm seeing, please help. I live in El Seg...</td>\n      <td>2013-11-11T00:00:00</td>\n      <td>33.916400</td>\n      <td>-118.404100</td>\n    </tr>\n  </tbody>\n</table>\n<p>149 rows × 12 columns</p>\n</div>"
     },
     "execution_count": 21,
     "metadata": {},
     "output_type": "execute_result"
    }
   ],
   "source": [
    "ufos[ufos[\"date_time\"].between(\"1993\", \"1994\")].sort_values(\"date_time\")"
   ],
   "metadata": {
    "collapsed": false
   }
  },
  {
   "cell_type": "code",
   "execution_count": 22,
   "outputs": [
    {
     "data": {
      "text/plain": "2015-11-07 18:00:00    104\n2014-07-04 22:00:00     46\n2010-07-04 22:00:00     37\n2012-07-04 22:00:00     34\n2015-07-04 22:00:00     27\n                      ... \n2011-07-23 23:20:00      1\n2011-07-23 23:47:00      1\n2011-07-24 00:00:00      1\n2011-07-24 00:02:00      1\n2019-12-12 18:43:00      1\nName: date_time, Length: 73122, dtype: int64"
     },
     "execution_count": 22,
     "metadata": {},
     "output_type": "execute_result"
    }
   ],
   "source": [
    "ufos[\"date_time\"].value_counts()"
   ],
   "metadata": {
    "collapsed": false
   }
  },
  {
   "cell_type": "code",
   "execution_count": 23,
   "outputs": [
    {
     "data": {
      "text/plain": "2015-11-07    290\n2014-07-04    270\n2010-07-04    210\n2012-07-04    200\n2013-07-04    185\n             ... \n1980-09-12      1\n1988-06-13      1\n1981-07-29      1\n2004-07-04      1\n2003-09-07      1\nName: date_time, Length: 8351, dtype: int64"
     },
     "execution_count": 23,
     "metadata": {},
     "output_type": "execute_result"
    }
   ],
   "source": [
    "ufos[\"date_time\"].dt.date.value_counts()"
   ],
   "metadata": {
    "collapsed": false
   }
  },
  {
   "cell_type": "code",
   "execution_count": 24,
   "outputs": [
    {
     "data": {
      "text/plain": "                                                 summary            city  \\\n0      My wife was driving southeast on a fairly popu...         Chester   \n1      I think that I may caught a UFO on the NBC Nig...      Rocky Hill   \n3      I was driving towards the intersection of fall...          Ottawa   \n5      The object has flashing lights that are green,...      Kirbyville   \n6      Description is the same as Washington DC event...          Tucson   \n...                                                  ...             ...   \n88120  4 lights in formation over Tempe appear while ...           Tempe   \n88121  2 bright star like lights in the NNW skys,  ((...         Bolivar   \n88122  I just witnessed a ‘Phoenix Lights’ type of fo...      North Port   \n88123  Witnessed an orange, slow moving light. Was lo...  Black Mountain   \n88124  Glowing lights in formation  just south of San...    Marin County   \n\n      state           date_time      shape     duration  \\\n0        VA 2019-12-12 18:43:00      light    5 seconds   \n1        CT 2019-03-22 18:30:00     circle  3-5 seconds   \n3        ON 2019-04-17 02:00:00   teardrop   10 seconds   \n5        TX 2019-04-02 20:25:00       disk   15 minutes   \n6        AZ 2019-05-01 11:00:00    unknown    5 minutes   \n...     ...                 ...        ...          ...   \n88120    AZ 2019-10-02 20:00:00  formation    3 minutes   \n88121    MO 2019-10-02 20:00:00      light   20 seconds   \n88122    FL 2019-10-02 20:03:00  formation   20 seconds   \n88123    NC 2019-10-02 22:00:00   fireball    2 minutes   \n88124    CA 2019-10-02 22:00:00     sphere    3 minutes   \n\n                                                   stats  \\\n0      Occurred : 12/12/2019 18:43  (Entered as : 12/...   \n1      Occurred : 3/22/2019 18:30  (Entered as : 03/2...   \n3      Occurred : 4/17/2019 02:00  (Entered as : 04-1...   \n5      Occurred : 4/2/2019 20:25  (Entered as : 04/02...   \n6      Occurred : 5/1/2019 11:00  (Entered as : 5/1/1...   \n...                                                  ...   \n88120  Occurred : 10/2/2019 20:00  (Entered as : 10/2...   \n88121  Occurred : 10/2/2019 20:00  (Entered as : 10/0...   \n88122  Occurred : 10/2/2019 20:03  (Entered as : 10/0...   \n88123  Occurred : 10/2/2019 22:00  (Entered as : 10/0...   \n88124  Occurred : 10/2/2019 22:00  (Entered as : 10-0...   \n\n                                             report_link  \\\n0      http://www.nuforc.org/webreports/151/S151739.html   \n1      http://www.nuforc.org/webreports/145/S145297.html   \n3      http://www.nuforc.org/webreports/145/S145697.html   \n5      http://www.nuforc.org/webreports/145/S145476.html   \n6      http://www.nuforc.org/webreports/145/S145947.html   \n...                                                  ...   \n88120  http://www.nuforc.org/webreports/149/S149463.html   \n88121  http://www.nuforc.org/webreports/149/S149405.html   \n88122  http://www.nuforc.org/webreports/149/S149424.html   \n88123  http://www.nuforc.org/webreports/149/S149447.html   \n88124  http://www.nuforc.org/webreports/149/S149436.html   \n\n                                                    text               posted  \\\n0      My wife was driving southeast on a fairly popu...  2019-12-22T00:00:00   \n1      I think that I may caught a UFO on the NBC Nig...  2019-03-29T00:00:00   \n3      I was driving towards the intersection of fall...  2019-04-18T00:00:00   \n5      The object has flashing lights that are green,...  2019-04-08T00:00:00   \n6      Description is the same as Washington, DC, eve...  2019-05-09T00:00:00   \n...                                                  ...                  ...   \n88120  4 lights in formation over Tempe appear while ...  2019-10-04T00:00:00   \n88121  2 bright star like lights in the NNW sky two b...  2019-10-04T00:00:00   \n88122  10/2/19 @ 8:03PM EST  UFO SIGHTING in the 3428...  2019-10-04T00:00:00   \n88123  Witnessed an orange, slow moving light. Was lo...  2019-10-04T00:00:00   \n88124  Glowing lights in formation  just south of San...  2019-10-04T00:00:00   \n\n       city_latitude  city_longitude  \n0          37.343152      -77.408582  \n1          41.664800      -72.639300  \n3          45.381383      -75.708501  \n5          30.677200      -94.005200  \n6          32.259941     -110.927542  \n...              ...             ...  \n88120      33.414036     -111.920920  \n88121      37.642200      -93.399600  \n88122      27.076210      -82.223280  \n88123      35.605000      -82.313200  \n88124            NaN             NaN  \n\n[9040 rows x 12 columns]",
      "text/html": "<div>\n<style scoped>\n    .dataframe tbody tr th:only-of-type {\n        vertical-align: middle;\n    }\n\n    .dataframe tbody tr th {\n        vertical-align: top;\n    }\n\n    .dataframe thead th {\n        text-align: right;\n    }\n</style>\n<table border=\"1\" class=\"dataframe\">\n  <thead>\n    <tr style=\"text-align: right;\">\n      <th></th>\n      <th>summary</th>\n      <th>city</th>\n      <th>state</th>\n      <th>date_time</th>\n      <th>shape</th>\n      <th>duration</th>\n      <th>stats</th>\n      <th>report_link</th>\n      <th>text</th>\n      <th>posted</th>\n      <th>city_latitude</th>\n      <th>city_longitude</th>\n    </tr>\n  </thead>\n  <tbody>\n    <tr>\n      <th>0</th>\n      <td>My wife was driving southeast on a fairly popu...</td>\n      <td>Chester</td>\n      <td>VA</td>\n      <td>2019-12-12 18:43:00</td>\n      <td>light</td>\n      <td>5 seconds</td>\n      <td>Occurred : 12/12/2019 18:43  (Entered as : 12/...</td>\n      <td>http://www.nuforc.org/webreports/151/S151739.html</td>\n      <td>My wife was driving southeast on a fairly popu...</td>\n      <td>2019-12-22T00:00:00</td>\n      <td>37.343152</td>\n      <td>-77.408582</td>\n    </tr>\n    <tr>\n      <th>1</th>\n      <td>I think that I may caught a UFO on the NBC Nig...</td>\n      <td>Rocky Hill</td>\n      <td>CT</td>\n      <td>2019-03-22 18:30:00</td>\n      <td>circle</td>\n      <td>3-5 seconds</td>\n      <td>Occurred : 3/22/2019 18:30  (Entered as : 03/2...</td>\n      <td>http://www.nuforc.org/webreports/145/S145297.html</td>\n      <td>I think that I may caught a UFO on the NBC Nig...</td>\n      <td>2019-03-29T00:00:00</td>\n      <td>41.664800</td>\n      <td>-72.639300</td>\n    </tr>\n    <tr>\n      <th>3</th>\n      <td>I was driving towards the intersection of fall...</td>\n      <td>Ottawa</td>\n      <td>ON</td>\n      <td>2019-04-17 02:00:00</td>\n      <td>teardrop</td>\n      <td>10 seconds</td>\n      <td>Occurred : 4/17/2019 02:00  (Entered as : 04-1...</td>\n      <td>http://www.nuforc.org/webreports/145/S145697.html</td>\n      <td>I was driving towards the intersection of fall...</td>\n      <td>2019-04-18T00:00:00</td>\n      <td>45.381383</td>\n      <td>-75.708501</td>\n    </tr>\n    <tr>\n      <th>5</th>\n      <td>The object has flashing lights that are green,...</td>\n      <td>Kirbyville</td>\n      <td>TX</td>\n      <td>2019-04-02 20:25:00</td>\n      <td>disk</td>\n      <td>15 minutes</td>\n      <td>Occurred : 4/2/2019 20:25  (Entered as : 04/02...</td>\n      <td>http://www.nuforc.org/webreports/145/S145476.html</td>\n      <td>The object has flashing lights that are green,...</td>\n      <td>2019-04-08T00:00:00</td>\n      <td>30.677200</td>\n      <td>-94.005200</td>\n    </tr>\n    <tr>\n      <th>6</th>\n      <td>Description is the same as Washington DC event...</td>\n      <td>Tucson</td>\n      <td>AZ</td>\n      <td>2019-05-01 11:00:00</td>\n      <td>unknown</td>\n      <td>5 minutes</td>\n      <td>Occurred : 5/1/2019 11:00  (Entered as : 5/1/1...</td>\n      <td>http://www.nuforc.org/webreports/145/S145947.html</td>\n      <td>Description is the same as Washington, DC, eve...</td>\n      <td>2019-05-09T00:00:00</td>\n      <td>32.259941</td>\n      <td>-110.927542</td>\n    </tr>\n    <tr>\n      <th>...</th>\n      <td>...</td>\n      <td>...</td>\n      <td>...</td>\n      <td>...</td>\n      <td>...</td>\n      <td>...</td>\n      <td>...</td>\n      <td>...</td>\n      <td>...</td>\n      <td>...</td>\n      <td>...</td>\n      <td>...</td>\n    </tr>\n    <tr>\n      <th>88120</th>\n      <td>4 lights in formation over Tempe appear while ...</td>\n      <td>Tempe</td>\n      <td>AZ</td>\n      <td>2019-10-02 20:00:00</td>\n      <td>formation</td>\n      <td>3 minutes</td>\n      <td>Occurred : 10/2/2019 20:00  (Entered as : 10/2...</td>\n      <td>http://www.nuforc.org/webreports/149/S149463.html</td>\n      <td>4 lights in formation over Tempe appear while ...</td>\n      <td>2019-10-04T00:00:00</td>\n      <td>33.414036</td>\n      <td>-111.920920</td>\n    </tr>\n    <tr>\n      <th>88121</th>\n      <td>2 bright star like lights in the NNW skys,  ((...</td>\n      <td>Bolivar</td>\n      <td>MO</td>\n      <td>2019-10-02 20:00:00</td>\n      <td>light</td>\n      <td>20 seconds</td>\n      <td>Occurred : 10/2/2019 20:00  (Entered as : 10/0...</td>\n      <td>http://www.nuforc.org/webreports/149/S149405.html</td>\n      <td>2 bright star like lights in the NNW sky two b...</td>\n      <td>2019-10-04T00:00:00</td>\n      <td>37.642200</td>\n      <td>-93.399600</td>\n    </tr>\n    <tr>\n      <th>88122</th>\n      <td>I just witnessed a ‘Phoenix Lights’ type of fo...</td>\n      <td>North Port</td>\n      <td>FL</td>\n      <td>2019-10-02 20:03:00</td>\n      <td>formation</td>\n      <td>20 seconds</td>\n      <td>Occurred : 10/2/2019 20:03  (Entered as : 10/0...</td>\n      <td>http://www.nuforc.org/webreports/149/S149424.html</td>\n      <td>10/2/19 @ 8:03PM EST  UFO SIGHTING in the 3428...</td>\n      <td>2019-10-04T00:00:00</td>\n      <td>27.076210</td>\n      <td>-82.223280</td>\n    </tr>\n    <tr>\n      <th>88123</th>\n      <td>Witnessed an orange, slow moving light. Was lo...</td>\n      <td>Black Mountain</td>\n      <td>NC</td>\n      <td>2019-10-02 22:00:00</td>\n      <td>fireball</td>\n      <td>2 minutes</td>\n      <td>Occurred : 10/2/2019 22:00  (Entered as : 10/0...</td>\n      <td>http://www.nuforc.org/webreports/149/S149447.html</td>\n      <td>Witnessed an orange, slow moving light. Was lo...</td>\n      <td>2019-10-04T00:00:00</td>\n      <td>35.605000</td>\n      <td>-82.313200</td>\n    </tr>\n    <tr>\n      <th>88124</th>\n      <td>Glowing lights in formation  just south of San...</td>\n      <td>Marin County</td>\n      <td>CA</td>\n      <td>2019-10-02 22:00:00</td>\n      <td>sphere</td>\n      <td>3 minutes</td>\n      <td>Occurred : 10/2/2019 22:00  (Entered as : 10-0...</td>\n      <td>http://www.nuforc.org/webreports/149/S149436.html</td>\n      <td>Glowing lights in formation  just south of San...</td>\n      <td>2019-10-04T00:00:00</td>\n      <td>NaN</td>\n      <td>NaN</td>\n    </tr>\n  </tbody>\n</table>\n<p>9040 rows × 12 columns</p>\n</div>"
     },
     "execution_count": 24,
     "metadata": {},
     "output_type": "execute_result"
    }
   ],
   "source": [
    "recent_sightings = ufos[ufos[\"date_time\"].dt.year >= 2018]\n",
    "\n",
    "recent_sightings"
   ],
   "metadata": {
    "collapsed": false
   }
  },
  {
   "cell_type": "code",
   "execution_count": 25,
   "outputs": [
    {
     "data": {
      "text/plain": "                                                 summary            city  \\\n79265  Several orange lights moving slowly, which fad...     Albuquerque   \n79266  This event was recorded by the news station wh...         Seattle   \n79267               3 Star like crafts in New Years 2018           Miami   \n79268  I saw one floating orb while facing north.  Th...  Spokane Valley   \n79269  I was looking out the south window at 12;04AM....  Port Charlotte   \n...                                                  ...             ...   \n3938      Disc Shape Hovering,  ((Starlink satellites?))        Fishkill   \n3939   Hello, My wife and I been seeing these objects...       Bethlehem   \n3940   Witness to triangle style craft. View was from...  Kennett Square   \n3941   7 white lights seen to the W side of the state...       Clarkston   \n85714  7-8 elongated objects flying in straight line ...      Wilmington   \n\n      state           date_time     shape       duration  \\\n79265    NM 2018-01-01 00:00:00     light     10 minutes   \n79266    WA 2018-01-01 00:00:00  triangle     30 seconds   \n79267    FL 2018-01-01 00:00:00    circle  ~10 minutes +   \n79268    WA 2018-01-01 00:02:00  fireball     10 minutes   \n79269    FL 2018-01-01 00:04:00    circle      4 minutes   \n...     ...                 ...       ...            ...   \n3938     NY 2019-12-22 20:35:00      disk       1 minute   \n3939     PA 2019-12-22 21:00:00   unknown          Hours   \n3940     PA 2019-12-22 22:15:00  triangle           3min   \n3941     MI 2019-12-22 23:00:00    circle      5 minutes   \n85714    NC 2019-12-29 20:40:00     cigar     10 seconds   \n\n                                                   stats  \\\n79265  Occurred : 1/1/2018 00:00  (Entered as : 01/01...   \n79266  Occurred : 1/1/2018 00:00  (Entered as : 01/1/...   \n79267  Occurred : 1/1/2018 00:00  (Entered as : 1/1/2...   \n79268  Occurred : 1/1/2018 00:02  (Entered as : 01/01...   \n79269  Occurred : 1/1/2018 00:04  (Entered as : 01/01...   \n...                                                  ...   \n3938   Occurred : 12/22/2019 20:35  (Entered as : 12/...   \n3939   Occurred : 12/22/2019 21:00  (Entered as : 12/...   \n3940   Occurred : 12/22/2019 22:15  (Entered as : 12/...   \n3941   Occurred : 12/22/2019 23:00  (Entered as : 12/...   \n85714  Occurred : 11/29/2019 20:40  (Entered as : 12/...   \n\n                                             report_link  \\\n79265  http://www.nuforc.org/webreports/138/S138159.html   \n79266  http://www.nuforc.org/webreports/138/S138208.html   \n79267  http://www.nuforc.org/webreports/138/S138181.html   \n79268  http://www.nuforc.org/webreports/138/S138175.html   \n79269  http://www.nuforc.org/webreports/138/S138165.html   \n...                                                  ...   \n3938   http://www.nuforc.org/webreports/151/S151810.html   \n3939   http://www.nuforc.org/webreports/151/S151873.html   \n3940   http://www.nuforc.org/webreports/151/S151874.html   \n3941   http://www.nuforc.org/webreports/151/S151836.html   \n85714  http://www.nuforc.org/webreports/151/S151158.html   \n\n                                                    text               posted  \\\n79265  Several orange lights moving slowly, which fad...  2018-01-12T00:00:00   \n79266  This event was recorded by the news station wh...  2018-01-12T00:00:00   \n79267  3 Star like crafts in New Years 2018 My husban...  2018-01-12T00:00:00   \n79268  I saw one floating orb while facing north.  Th...  2018-01-12T00:00:00   \n79269  I was looking out the south window at 12;04AM....  2018-01-12T00:00:00   \n...                                                  ...                  ...   \n3938   Disc Shape Hovering, I was driving on 52 heade...  2019-12-22T00:00:00   \n3939   Hello, My wife and I been seeing these objects...  2019-12-22T00:00:00   \n3940   Witness to triangle style craft. View was from...  2019-12-22T00:00:00   \n3941   7 white lights seen to the west side of the st...  2019-12-22T00:00:00   \n85714  7-8 elongated objects flying in straight line ...  2019-12-01T00:00:00   \n\n       city_latitude  city_longitude  \n79265      35.103481     -106.612475  \n79266      47.609046     -122.326028  \n79267      25.774143      -80.289519  \n79268            NaN             NaN  \n79269      26.981007      -82.116907  \n...              ...             ...  \n3938       41.527700      -73.907200  \n3939       40.635039      -75.371432  \n3940       39.846800      -75.711600  \n3941       42.739865      -83.417150  \n85714      34.238375      -77.878468  \n\n[9040 rows x 12 columns]",
      "text/html": "<div>\n<style scoped>\n    .dataframe tbody tr th:only-of-type {\n        vertical-align: middle;\n    }\n\n    .dataframe tbody tr th {\n        vertical-align: top;\n    }\n\n    .dataframe thead th {\n        text-align: right;\n    }\n</style>\n<table border=\"1\" class=\"dataframe\">\n  <thead>\n    <tr style=\"text-align: right;\">\n      <th></th>\n      <th>summary</th>\n      <th>city</th>\n      <th>state</th>\n      <th>date_time</th>\n      <th>shape</th>\n      <th>duration</th>\n      <th>stats</th>\n      <th>report_link</th>\n      <th>text</th>\n      <th>posted</th>\n      <th>city_latitude</th>\n      <th>city_longitude</th>\n    </tr>\n  </thead>\n  <tbody>\n    <tr>\n      <th>79265</th>\n      <td>Several orange lights moving slowly, which fad...</td>\n      <td>Albuquerque</td>\n      <td>NM</td>\n      <td>2018-01-01 00:00:00</td>\n      <td>light</td>\n      <td>10 minutes</td>\n      <td>Occurred : 1/1/2018 00:00  (Entered as : 01/01...</td>\n      <td>http://www.nuforc.org/webreports/138/S138159.html</td>\n      <td>Several orange lights moving slowly, which fad...</td>\n      <td>2018-01-12T00:00:00</td>\n      <td>35.103481</td>\n      <td>-106.612475</td>\n    </tr>\n    <tr>\n      <th>79266</th>\n      <td>This event was recorded by the news station wh...</td>\n      <td>Seattle</td>\n      <td>WA</td>\n      <td>2018-01-01 00:00:00</td>\n      <td>triangle</td>\n      <td>30 seconds</td>\n      <td>Occurred : 1/1/2018 00:00  (Entered as : 01/1/...</td>\n      <td>http://www.nuforc.org/webreports/138/S138208.html</td>\n      <td>This event was recorded by the news station wh...</td>\n      <td>2018-01-12T00:00:00</td>\n      <td>47.609046</td>\n      <td>-122.326028</td>\n    </tr>\n    <tr>\n      <th>79267</th>\n      <td>3 Star like crafts in New Years 2018</td>\n      <td>Miami</td>\n      <td>FL</td>\n      <td>2018-01-01 00:00:00</td>\n      <td>circle</td>\n      <td>~10 minutes +</td>\n      <td>Occurred : 1/1/2018 00:00  (Entered as : 1/1/2...</td>\n      <td>http://www.nuforc.org/webreports/138/S138181.html</td>\n      <td>3 Star like crafts in New Years 2018 My husban...</td>\n      <td>2018-01-12T00:00:00</td>\n      <td>25.774143</td>\n      <td>-80.289519</td>\n    </tr>\n    <tr>\n      <th>79268</th>\n      <td>I saw one floating orb while facing north.  Th...</td>\n      <td>Spokane Valley</td>\n      <td>WA</td>\n      <td>2018-01-01 00:02:00</td>\n      <td>fireball</td>\n      <td>10 minutes</td>\n      <td>Occurred : 1/1/2018 00:02  (Entered as : 01/01...</td>\n      <td>http://www.nuforc.org/webreports/138/S138175.html</td>\n      <td>I saw one floating orb while facing north.  Th...</td>\n      <td>2018-01-12T00:00:00</td>\n      <td>NaN</td>\n      <td>NaN</td>\n    </tr>\n    <tr>\n      <th>79269</th>\n      <td>I was looking out the south window at 12;04AM....</td>\n      <td>Port Charlotte</td>\n      <td>FL</td>\n      <td>2018-01-01 00:04:00</td>\n      <td>circle</td>\n      <td>4 minutes</td>\n      <td>Occurred : 1/1/2018 00:04  (Entered as : 01/01...</td>\n      <td>http://www.nuforc.org/webreports/138/S138165.html</td>\n      <td>I was looking out the south window at 12;04AM....</td>\n      <td>2018-01-12T00:00:00</td>\n      <td>26.981007</td>\n      <td>-82.116907</td>\n    </tr>\n    <tr>\n      <th>...</th>\n      <td>...</td>\n      <td>...</td>\n      <td>...</td>\n      <td>...</td>\n      <td>...</td>\n      <td>...</td>\n      <td>...</td>\n      <td>...</td>\n      <td>...</td>\n      <td>...</td>\n      <td>...</td>\n      <td>...</td>\n    </tr>\n    <tr>\n      <th>3938</th>\n      <td>Disc Shape Hovering,  ((Starlink satellites?))</td>\n      <td>Fishkill</td>\n      <td>NY</td>\n      <td>2019-12-22 20:35:00</td>\n      <td>disk</td>\n      <td>1 minute</td>\n      <td>Occurred : 12/22/2019 20:35  (Entered as : 12/...</td>\n      <td>http://www.nuforc.org/webreports/151/S151810.html</td>\n      <td>Disc Shape Hovering, I was driving on 52 heade...</td>\n      <td>2019-12-22T00:00:00</td>\n      <td>41.527700</td>\n      <td>-73.907200</td>\n    </tr>\n    <tr>\n      <th>3939</th>\n      <td>Hello, My wife and I been seeing these objects...</td>\n      <td>Bethlehem</td>\n      <td>PA</td>\n      <td>2019-12-22 21:00:00</td>\n      <td>unknown</td>\n      <td>Hours</td>\n      <td>Occurred : 12/22/2019 21:00  (Entered as : 12/...</td>\n      <td>http://www.nuforc.org/webreports/151/S151873.html</td>\n      <td>Hello, My wife and I been seeing these objects...</td>\n      <td>2019-12-22T00:00:00</td>\n      <td>40.635039</td>\n      <td>-75.371432</td>\n    </tr>\n    <tr>\n      <th>3940</th>\n      <td>Witness to triangle style craft. View was from...</td>\n      <td>Kennett Square</td>\n      <td>PA</td>\n      <td>2019-12-22 22:15:00</td>\n      <td>triangle</td>\n      <td>3min</td>\n      <td>Occurred : 12/22/2019 22:15  (Entered as : 12/...</td>\n      <td>http://www.nuforc.org/webreports/151/S151874.html</td>\n      <td>Witness to triangle style craft. View was from...</td>\n      <td>2019-12-22T00:00:00</td>\n      <td>39.846800</td>\n      <td>-75.711600</td>\n    </tr>\n    <tr>\n      <th>3941</th>\n      <td>7 white lights seen to the W side of the state...</td>\n      <td>Clarkston</td>\n      <td>MI</td>\n      <td>2019-12-22 23:00:00</td>\n      <td>circle</td>\n      <td>5 minutes</td>\n      <td>Occurred : 12/22/2019 23:00  (Entered as : 12/...</td>\n      <td>http://www.nuforc.org/webreports/151/S151836.html</td>\n      <td>7 white lights seen to the west side of the st...</td>\n      <td>2019-12-22T00:00:00</td>\n      <td>42.739865</td>\n      <td>-83.417150</td>\n    </tr>\n    <tr>\n      <th>85714</th>\n      <td>7-8 elongated objects flying in straight line ...</td>\n      <td>Wilmington</td>\n      <td>NC</td>\n      <td>2019-12-29 20:40:00</td>\n      <td>cigar</td>\n      <td>10 seconds</td>\n      <td>Occurred : 11/29/2019 20:40  (Entered as : 12/...</td>\n      <td>http://www.nuforc.org/webreports/151/S151158.html</td>\n      <td>7-8 elongated objects flying in straight line ...</td>\n      <td>2019-12-01T00:00:00</td>\n      <td>34.238375</td>\n      <td>-77.878468</td>\n    </tr>\n  </tbody>\n</table>\n<p>9040 rows × 12 columns</p>\n</div>"
     },
     "execution_count": 25,
     "metadata": {},
     "output_type": "execute_result"
    }
   ],
   "source": [
    "recent_sightings.sort_values(\"date_time\")"
   ],
   "metadata": {
    "collapsed": false
   }
  },
  {
   "cell_type": "code",
   "execution_count": 26,
   "outputs": [
    {
     "data": {
      "text/plain": "2019-11-11    77\n2019-05-25    69\n2019-05-26    67\n2019-05-24    60\n2019-07-04    57\n              ..\n2019-12-29     1\n2018-02-08     1\n2019-05-09     1\n2018-02-04     1\n2018-02-07     1\nName: date_time, Length: 719, dtype: int64"
     },
     "execution_count": 26,
     "metadata": {},
     "output_type": "execute_result"
    }
   ],
   "source": [
    "recent_sightings[\"date_time\"].dt.date.value_counts()"
   ],
   "metadata": {
    "collapsed": false
   }
  },
  {
   "cell_type": "code",
   "execution_count": 27,
   "outputs": [
    {
     "data": {
      "text/plain": "                                                summary               city  \\\n1913  Were looking up at the stars and a string of w...         Fort Yates   \n1914  May 24th at approximately 0002 hours I witness...        Wilsonville   \n1915  30 white orbs.  ((NUFORC Note:  Satellites fro...           Mitchell   \n1916  seen a rip in the night sky.it looks like a br...        Hazel green   \n1917  It was somewhat a slow moving blurry light obj...           Staunton   \n...                                                 ...                ...   \n2521           Intense Bright Flashes for Four Hours...             Hulett   \n2581  We were outside, 11:54pm, saw 4 lights moving ...       Ocean Shores   \n2582  Reported seeing a triangle of lights, moving a...  Manitowish waters   \n2583  Formation of lights grows larger and passes ab...             Grants   \n2584  Huge 3 light UFO in night sky,  5/26/19.  ((an...          East Troy   \n\n     state           date_time      shape    duration  \\\n1913    ND 2019-05-24 00:00:00    unknown   3 minutes   \n1914    OR 2019-05-24 00:02:00  formation   2 minutes   \n1915    SD 2019-05-24 00:05:00  formation    1 minute   \n1916    AL 2019-05-24 00:14:00      light   2 minutes   \n1917    VA 2019-05-24 00:16:00    chevron  1+ minutes   \n...    ...                 ...        ...         ...   \n2521    WY 2019-05-26 00:00:00      light     4 hours   \n2581    WA 2019-05-26 00:00:00      light  4 to 5 min   \n2582    WI 2019-05-26 00:00:00   triangle  15 minutes   \n2583    AL 2019-05-26 00:00:00  formation   5 minutes   \n2584    WI 2019-05-26 00:00:00       disk    1 minute   \n\n                                                  stats  \\\n1913  Occurred : 5/24/2019 00:00  (Entered as : 05/2...   \n1914  Occurred : 5/24/2019 00:02  (Entered as : 05/2...   \n1915  Occurred : 5/24/2019 00:05  (Entered as : 05/2...   \n1916  Occurred : 5/24/2019 00:14  (Entered as : 05/2...   \n1917  Occurred : 5/24/2019 00:16  (Entered as : 5/24...   \n...                                                 ...   \n2521  Occurred : 5/26/2019 00:00  (Entered as : 0526...   \n2581  Occurred : 5/26/2019 00:00  (Entered as : May ...   \n2582  Occurred : 5/26/2019 00:00  (Entered as : 05/2...   \n2583  Occurred : 5/26/2019 00:00  (Entered as : 05/2...   \n2584  Occurred : 5/26/2019 00:00  (Entered as : 05/2...   \n\n                                            report_link  \\\n1913  http://www.nuforc.org/webreports/146/S146348.html   \n1914  http://www.nuforc.org/webreports/146/S146271.html   \n1915  http://www.nuforc.org/webreports/146/S146355.html   \n1916  http://www.nuforc.org/webreports/146/S146455.html   \n1917  http://www.nuforc.org/webreports/146/S146265.html   \n...                                                 ...   \n2521  http://www.nuforc.org/webreports/146/S146274.html   \n2581  http://www.nuforc.org/webreports/146/S146440.html   \n2582  http://www.nuforc.org/webreports/146/S146448.html   \n2583  http://www.nuforc.org/webreports/146/S146489.html   \n2584  http://www.nuforc.org/webreports/146/S146443.html   \n\n                                                   text               posted  \\\n1913  We were sitting outside looking up at the star...  2019-06-07T00:00:00   \n1914  May 24th, at approximately 0002 hours, I witne...  2019-06-07T00:00:00   \n1915  30 white orbs. On the Evening of May 24th, 201...  2019-06-07T00:00:00   \n1916  seen a rip in the night sky.it looks like a bi...  2019-06-07T00:00:00   \n1917  This is what I saw.  At west side Staunton cit...  2019-06-07T00:00:00   \n...                                                 ...                  ...   \n2521  Intense Bright Flashes for Four Hours... I wok...  2019-06-07T00:00:00   \n2581  We were outside, 11:54pm, saw 4 lights moving ...  2019-06-07T00:00:00   \n2582  I did not see it but my friend and his son in ...  2019-06-07T00:00:00   \n2583  Formation of lights grows larger and passes ab...  2019-06-07T00:00:00   \n2584  Huge 3 light UFO in night sky,  5/26/19. Star ...  2019-06-07T00:00:00   \n\n      city_latitude  city_longitude  \n1913      46.103500     -100.702900  \n1914      45.308400     -122.779900  \n1915      43.718300      -98.026200  \n1916      34.934100      -86.580300  \n1917      38.137038      -79.063041  \n...             ...             ...  \n2521      44.744400     -104.680400  \n2581      46.972000     -124.143200  \n2582            NaN             NaN  \n2583            NaN             NaN  \n2584      42.794500      -88.399400  \n\n[134 rows x 12 columns]",
      "text/html": "<div>\n<style scoped>\n    .dataframe tbody tr th:only-of-type {\n        vertical-align: middle;\n    }\n\n    .dataframe tbody tr th {\n        vertical-align: top;\n    }\n\n    .dataframe thead th {\n        text-align: right;\n    }\n</style>\n<table border=\"1\" class=\"dataframe\">\n  <thead>\n    <tr style=\"text-align: right;\">\n      <th></th>\n      <th>summary</th>\n      <th>city</th>\n      <th>state</th>\n      <th>date_time</th>\n      <th>shape</th>\n      <th>duration</th>\n      <th>stats</th>\n      <th>report_link</th>\n      <th>text</th>\n      <th>posted</th>\n      <th>city_latitude</th>\n      <th>city_longitude</th>\n    </tr>\n  </thead>\n  <tbody>\n    <tr>\n      <th>1913</th>\n      <td>Were looking up at the stars and a string of w...</td>\n      <td>Fort Yates</td>\n      <td>ND</td>\n      <td>2019-05-24 00:00:00</td>\n      <td>unknown</td>\n      <td>3 minutes</td>\n      <td>Occurred : 5/24/2019 00:00  (Entered as : 05/2...</td>\n      <td>http://www.nuforc.org/webreports/146/S146348.html</td>\n      <td>We were sitting outside looking up at the star...</td>\n      <td>2019-06-07T00:00:00</td>\n      <td>46.103500</td>\n      <td>-100.702900</td>\n    </tr>\n    <tr>\n      <th>1914</th>\n      <td>May 24th at approximately 0002 hours I witness...</td>\n      <td>Wilsonville</td>\n      <td>OR</td>\n      <td>2019-05-24 00:02:00</td>\n      <td>formation</td>\n      <td>2 minutes</td>\n      <td>Occurred : 5/24/2019 00:02  (Entered as : 05/2...</td>\n      <td>http://www.nuforc.org/webreports/146/S146271.html</td>\n      <td>May 24th, at approximately 0002 hours, I witne...</td>\n      <td>2019-06-07T00:00:00</td>\n      <td>45.308400</td>\n      <td>-122.779900</td>\n    </tr>\n    <tr>\n      <th>1915</th>\n      <td>30 white orbs.  ((NUFORC Note:  Satellites fro...</td>\n      <td>Mitchell</td>\n      <td>SD</td>\n      <td>2019-05-24 00:05:00</td>\n      <td>formation</td>\n      <td>1 minute</td>\n      <td>Occurred : 5/24/2019 00:05  (Entered as : 05/2...</td>\n      <td>http://www.nuforc.org/webreports/146/S146355.html</td>\n      <td>30 white orbs. On the Evening of May 24th, 201...</td>\n      <td>2019-06-07T00:00:00</td>\n      <td>43.718300</td>\n      <td>-98.026200</td>\n    </tr>\n    <tr>\n      <th>1916</th>\n      <td>seen a rip in the night sky.it looks like a br...</td>\n      <td>Hazel green</td>\n      <td>AL</td>\n      <td>2019-05-24 00:14:00</td>\n      <td>light</td>\n      <td>2 minutes</td>\n      <td>Occurred : 5/24/2019 00:14  (Entered as : 05/2...</td>\n      <td>http://www.nuforc.org/webreports/146/S146455.html</td>\n      <td>seen a rip in the night sky.it looks like a bi...</td>\n      <td>2019-06-07T00:00:00</td>\n      <td>34.934100</td>\n      <td>-86.580300</td>\n    </tr>\n    <tr>\n      <th>1917</th>\n      <td>It was somewhat a slow moving blurry light obj...</td>\n      <td>Staunton</td>\n      <td>VA</td>\n      <td>2019-05-24 00:16:00</td>\n      <td>chevron</td>\n      <td>1+ minutes</td>\n      <td>Occurred : 5/24/2019 00:16  (Entered as : 5/24...</td>\n      <td>http://www.nuforc.org/webreports/146/S146265.html</td>\n      <td>This is what I saw.  At west side Staunton cit...</td>\n      <td>2019-06-07T00:00:00</td>\n      <td>38.137038</td>\n      <td>-79.063041</td>\n    </tr>\n    <tr>\n      <th>...</th>\n      <td>...</td>\n      <td>...</td>\n      <td>...</td>\n      <td>...</td>\n      <td>...</td>\n      <td>...</td>\n      <td>...</td>\n      <td>...</td>\n      <td>...</td>\n      <td>...</td>\n      <td>...</td>\n      <td>...</td>\n    </tr>\n    <tr>\n      <th>2521</th>\n      <td>Intense Bright Flashes for Four Hours...</td>\n      <td>Hulett</td>\n      <td>WY</td>\n      <td>2019-05-26 00:00:00</td>\n      <td>light</td>\n      <td>4 hours</td>\n      <td>Occurred : 5/26/2019 00:00  (Entered as : 0526...</td>\n      <td>http://www.nuforc.org/webreports/146/S146274.html</td>\n      <td>Intense Bright Flashes for Four Hours... I wok...</td>\n      <td>2019-06-07T00:00:00</td>\n      <td>44.744400</td>\n      <td>-104.680400</td>\n    </tr>\n    <tr>\n      <th>2581</th>\n      <td>We were outside, 11:54pm, saw 4 lights moving ...</td>\n      <td>Ocean Shores</td>\n      <td>WA</td>\n      <td>2019-05-26 00:00:00</td>\n      <td>light</td>\n      <td>4 to 5 min</td>\n      <td>Occurred : 5/26/2019 00:00  (Entered as : May ...</td>\n      <td>http://www.nuforc.org/webreports/146/S146440.html</td>\n      <td>We were outside, 11:54pm, saw 4 lights moving ...</td>\n      <td>2019-06-07T00:00:00</td>\n      <td>46.972000</td>\n      <td>-124.143200</td>\n    </tr>\n    <tr>\n      <th>2582</th>\n      <td>Reported seeing a triangle of lights, moving a...</td>\n      <td>Manitowish waters</td>\n      <td>WI</td>\n      <td>2019-05-26 00:00:00</td>\n      <td>triangle</td>\n      <td>15 minutes</td>\n      <td>Occurred : 5/26/2019 00:00  (Entered as : 05/2...</td>\n      <td>http://www.nuforc.org/webreports/146/S146448.html</td>\n      <td>I did not see it but my friend and his son in ...</td>\n      <td>2019-06-07T00:00:00</td>\n      <td>NaN</td>\n      <td>NaN</td>\n    </tr>\n    <tr>\n      <th>2583</th>\n      <td>Formation of lights grows larger and passes ab...</td>\n      <td>Grants</td>\n      <td>AL</td>\n      <td>2019-05-26 00:00:00</td>\n      <td>formation</td>\n      <td>5 minutes</td>\n      <td>Occurred : 5/26/2019 00:00  (Entered as : 05/2...</td>\n      <td>http://www.nuforc.org/webreports/146/S146489.html</td>\n      <td>Formation of lights grows larger and passes ab...</td>\n      <td>2019-06-07T00:00:00</td>\n      <td>NaN</td>\n      <td>NaN</td>\n    </tr>\n    <tr>\n      <th>2584</th>\n      <td>Huge 3 light UFO in night sky,  5/26/19.  ((an...</td>\n      <td>East Troy</td>\n      <td>WI</td>\n      <td>2019-05-26 00:00:00</td>\n      <td>disk</td>\n      <td>1 minute</td>\n      <td>Occurred : 5/26/2019 00:00  (Entered as : 05/2...</td>\n      <td>http://www.nuforc.org/webreports/146/S146443.html</td>\n      <td>Huge 3 light UFO in night sky,  5/26/19. Star ...</td>\n      <td>2019-06-07T00:00:00</td>\n      <td>42.794500</td>\n      <td>-88.399400</td>\n    </tr>\n  </tbody>\n</table>\n<p>134 rows × 12 columns</p>\n</div>"
     },
     "execution_count": 27,
     "metadata": {},
     "output_type": "execute_result"
    }
   ],
   "source": [
    "ufos[ufos[\"date_time\"].between(\"2019-05-24\", \"2019-05-26\")]"
   ],
   "metadata": {
    "collapsed": false
   }
  },
  {
   "cell_type": "code",
   "execution_count": null,
   "outputs": [],
   "source": [],
   "metadata": {
    "collapsed": false
   }
  }
 ],
 "metadata": {
  "kernelspec": {
   "display_name": "Python 3",
   "language": "python",
   "name": "python3"
  },
  "language_info": {
   "codemirror_mode": {
    "name": "ipython",
    "version": 3
   },
   "file_extension": ".py",
   "mimetype": "text/x-python",
   "name": "python",
   "nbconvert_exporter": "python",
   "pygments_lexer": "ipython3",
   "version": "3.10.4 (tags/v3.10.4:9d38120, Mar 23 2022, 23:13:41) [MSC v.1929 64 bit (AMD64)]"
  },
  "vscode": {
   "interpreter": {
    "hash": "08d561e450eda138233980edcd5ff3e3566a7450673f50f0d6679b3e4069e0ae"
   }
  }
 },
 "nbformat": 4,
 "nbformat_minor": 5
}
