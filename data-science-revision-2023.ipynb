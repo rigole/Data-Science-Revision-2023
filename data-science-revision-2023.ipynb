{
 "cells": [
  {
   "cell_type": "code",
   "execution_count": 1,
   "id": "b947ab47",
   "metadata": {},
   "outputs": [],
   "source": [
    "import pandas as pd \n",
    "import numpy as np"
   ]
  },
  {
   "cell_type": "code",
   "execution_count": 2,
   "id": "12ef73d4",
   "metadata": {},
   "outputs": [
    {
     "name": "stderr",
     "output_type": "stream",
     "text": [
      "C:\\Users\\Plass\\AppData\\Local\\Temp\\ipykernel_9232\\2267827773.py:1: UserWarning: Parsing '14/06/1993' in DD/MM/YYYY format. Provide format or specify infer_datetime_format=True for consistent parsing.\n",
      "  pd.to_datetime(\"14/06/1993\")\n"
     ]
    },
    {
     "data": {
      "text/plain": "Timestamp('1993-06-14 00:00:00')"
     },
     "execution_count": 2,
     "metadata": {},
     "output_type": "execute_result"
    }
   ],
   "source": [
    "pd.to_datetime(\"14/06/1993\")"
   ]
  },
  {
   "cell_type": "code",
   "execution_count": 3,
   "id": "23af123f",
   "metadata": {},
   "outputs": [
    {
     "data": {
      "text/plain": "Timestamp('1993-06-14 00:00:00')"
     },
     "execution_count": 3,
     "metadata": {},
     "output_type": "execute_result"
    }
   ],
   "source": [
    "pd.to_datetime(\"14/06/1993\", dayfirst=True)"
   ]
  },
  {
   "cell_type": "code",
   "execution_count": 4,
   "id": "3874f51c",
   "metadata": {},
   "outputs": [
    {
     "name": "stderr",
     "output_type": "stream",
     "text": [
      "C:\\Users\\Plass\\AppData\\Local\\Temp\\ipykernel_9232\\3920892112.py:1: UserWarning: Parsing '14/06/1993' in DD/MM/YYYY format. Provide format or specify infer_datetime_format=True for consistent parsing.\n",
      "  pd.to_datetime(\"14/06/1993\", yearfirst=True)\n"
     ]
    },
    {
     "data": {
      "text/plain": "Timestamp('1993-06-14 00:00:00')"
     },
     "execution_count": 4,
     "metadata": {},
     "output_type": "execute_result"
    }
   ],
   "source": [
    "pd.to_datetime(\"14/06/1993\", yearfirst=True)"
   ]
  },
  {
   "cell_type": "code",
   "execution_count": 5,
   "id": "a06389af",
   "metadata": {},
   "outputs": [
    {
     "data": {
      "text/plain": "Timestamp('1993-06-14 00:00:00')"
     },
     "execution_count": 5,
     "metadata": {},
     "output_type": "execute_result"
    }
   ],
   "source": [
    "pd.to_datetime(\"14/06/1993\", yearfirst=True, dayfirst=True)"
   ]
  },
  {
   "cell_type": "code",
   "execution_count": 6,
   "id": "d20b274e",
   "metadata": {},
   "outputs": [
    {
     "name": "stdout",
     "output_type": "stream",
     "text": [
      "1993-06-14 00:00:00\n"
     ]
    }
   ],
   "source": [
    "test_variable  =  pd.to_datetime(\"14/06/1993\", yearfirst=True, dayfirst=True)\n",
    "print(test_variable)"
   ]
  },
  {
   "cell_type": "code",
   "execution_count": null,
   "outputs": [],
   "source": [],
   "metadata": {
    "collapsed": false
   }
  }
 ],
 "metadata": {
  "kernelspec": {
   "display_name": "Python 3",
   "language": "python",
   "name": "python3"
  },
  "language_info": {
   "codemirror_mode": {
    "name": "ipython",
    "version": 3
   },
   "file_extension": ".py",
   "mimetype": "text/x-python",
   "name": "python",
   "nbconvert_exporter": "python",
   "pygments_lexer": "ipython3",
   "version": "3.10.4 (tags/v3.10.4:9d38120, Mar 23 2022, 23:13:41) [MSC v.1929 64 bit (AMD64)]"
  },
  "vscode": {
   "interpreter": {
    "hash": "08d561e450eda138233980edcd5ff3e3566a7450673f50f0d6679b3e4069e0ae"
   }
  }
 },
 "nbformat": 4,
 "nbformat_minor": 5
}
